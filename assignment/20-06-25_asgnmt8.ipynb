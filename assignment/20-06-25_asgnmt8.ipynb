{
 "cells": [
  {
   "cell_type": "markdown",
   "id": "b597de37",
   "metadata": {},
   "source": [
    "# ASSIGNMENT 8\n",
    "### PANDAS\n",
    "##### QUES1 - What is Pandas and how does it differ from NumPy? What are its main data structures? Coding Challenge:  Create a Pandas DataFrame from a dictionary of lists and print the first few rows of the DataFrame.\n",
    "##### ANS1 - Pandas: Powerful Python library for data manipulation and analysis.\n",
    "##### Built on top of NumPy.\n",
    "##### Main data structures: Series: 1D labeled array. || DataFrame: 2D labeled table (rows & columns)."
   ]
  },
  {
   "cell_type": "code",
   "execution_count": 64,
   "id": "b1a781e3",
   "metadata": {},
   "outputs": [],
   "source": [
    "import pandas as pd \n",
    "import numpy as np "
   ]
  },
  {
   "cell_type": "code",
   "execution_count": 65,
   "id": "3236823c",
   "metadata": {},
   "outputs": [
    {
     "name": "stdout",
     "output_type": "stream",
     "text": [
      "  Name  Age       City\n",
      "0    A   25   New York\n",
      "1    B   30      Paris\n",
      "2    C   35     London\n",
      "3    D   40     Canada\n",
      "4    E   23  Singapore\n"
     ]
    }
   ],
   "source": [
    "# Create DataFrame from dictionary\n",
    "dt = {\n",
    "    'Name': [\"A\", \"B\", \"C\",\"D\",\"E\",\"F\",\"G\",\"H\",\"I\",\"J\",\"K\",\"L\",\"M\"],\n",
    "    'Age': [25, 30, 35, 40, 23, 45,  67, 34, 55, 66, 25, 44, 65],\n",
    "    'City': [\"New York\", \"Paris\", \"London\", \"Canada\", \"Singapore\", \"Berlin\",\"Tokyo\",\"Rome\",\"Dubai\",\"Sydney\",\"Moscow\",\"Barcelona\",\"Hong Kong\"]\n",
    "}\n",
    "df = pd.DataFrame(dt)\n",
    "print(df.head())"
   ]
  },
  {
   "cell_type": "markdown",
   "id": "e9c3a50f",
   "metadata": {},
   "source": [
    "##### QUES2 - How can you read and write data to various file formats (e.g., CSV, Excel) using Pandas? Coding Challenge:  Write a Python script that reads data from a CSV file into a Pandas DataFrame, performs some basic data cleaning, and then writes the cleaned data to a new Excel file.\n",
    "##### ANS2 - pd.read_csv(), pd.read_excel() to read.\n",
    "##### df.to_csv(), df.to_excel() to write."
   ]
  },
  {
   "cell_type": "code",
   "execution_count": 66,
   "id": "f7b5e6cd",
   "metadata": {},
   "outputs": [],
   "source": [
    "# Read CSV (example: 'tip.csv' must exist)\n",
    "df = pd.read_csv(\"Used_Bikes.csv\")\n",
    "\n",
    "# Basic cleaning: drop rows with NaN\n",
    "df_clean = df.dropna()\n",
    "\n",
    "# Write to Excel\n",
    "df_clean.to_excel('cleaned_Used_Bikes.xlsx', index=False)\n"
   ]
  },
  {
   "cell_type": "markdown",
   "id": "41f16e27",
   "metadata": {},
   "source": [
    "##### QUES3 - What are some common methods for indexing and selecting data in a Pandas DataFrame? How do they differ from traditional indexing methods? Coding Challenge:  Create a Pandas DataFrame and demonstrate how to select specific rows and columns using \".loc[]\", \".iloc[]\", and boolean indexing.\n",
    "##### ANS3 - .loc[] — label-based\n",
    "##### .iloc[] — integer position-based\n",
    "##### Boolean indexing — condition-based"
   ]
  },
  {
   "cell_type": "code",
   "execution_count": 67,
   "id": "e8fbac56",
   "metadata": {},
   "outputs": [
    {
     "name": "stdout",
     "output_type": "stream",
     "text": [
      "  Name  Age\n",
      "1    B   30\n",
      "2    C   35\n",
      "  Name  Age\n",
      "0    A   25\n",
      "1    B   30\n",
      "  Name  Age    City\n",
      "2    C   35  London\n",
      "3    D   40   Tokyo\n"
     ]
    }
   ],
   "source": [
    "data = {\n",
    "    'Name': [\"A\", \"B\", \"C\", \"D\"],\n",
    "    'Age': [25, 30, 35, 40],\n",
    "    'City': [\"New York\", \"Paris\", \"London\", \"Tokyo\"]\n",
    "}\n",
    "df = pd.DataFrame(data)\n",
    "\n",
    "# loc\n",
    "print(df.loc[1:2, [\"Name\", \"Age\"]])\n",
    "\n",
    "# iloc\n",
    "print(df.iloc[0:2, 0:2])\n",
    "\n",
    "# Boolean indexing\n",
    "print(df[df[\"Age\"] > 30])\n"
   ]
  },
  {
   "cell_type": "markdown",
   "id": "ff388683",
   "metadata": {},
   "source": [
    "##### QUES4 - How can you handle missing data in a Pandas DataFrame? What methods are available for filling or dropping missing values? Coding Challenge:  Create a DataFrame with some missing values and use methods like \"fillna()\" and \"dropna()\" to handle these missing values.\n",
    "##### ANS4 - fillna() — fill missing values.\n",
    "##### dropna() — drop rows/columns with missing values."
   ]
  },
  {
   "cell_type": "code",
   "execution_count": 68,
   "id": "6c57bc26",
   "metadata": {},
   "outputs": [
    {
     "name": "stdout",
     "output_type": "stream",
     "text": [
      "     A    B\n",
      "0  1.0  4.0\n",
      "1  0.0  5.0\n",
      "2  3.0  0.0\n",
      "\n",
      "      A    B\n",
      "0  1.0  4.0\n"
     ]
    }
   ],
   "source": [
    "data = {\n",
    "    'A': [1, np.nan, 3],\n",
    "    'B': [4, 5, np.nan]\n",
    "}\n",
    "\n",
    "df = pd.DataFrame(data)\n",
    "\n",
    "# Fill NaN with value\n",
    "print(df.fillna(0))\n",
    "\n",
    "# Drop rows with NaN\n",
    "print(\"\\n\",df.dropna())\n"
   ]
  },
  {
   "cell_type": "markdown",
   "id": "2cb627eb",
   "metadata": {},
   "source": [
    "##### QUES5 - Explain how to perform data aggregation and grouping in Pandas. What functions can be used to compute aggregate statistics? Coding Challenge:  Create a DataFrame with multiple groups of data and use the \".groupby()\" method to calculate the mean and sum of each group.\n",
    "##### ANS5 - groupby() groups data.\n",
    "##### Use .mean(), .sum() for stats."
   ]
  },
  {
   "cell_type": "code",
   "execution_count": 69,
   "id": "32bf8c32",
   "metadata": {},
   "outputs": [
    {
     "name": "stdout",
     "output_type": "stream",
     "text": [
      "         Value    \n",
      "          mean sum\n",
      "Category          \n",
      "A         15.0  30\n",
      "B         35.0  70\n"
     ]
    }
   ],
   "source": [
    "dt = {\n",
    "    'Category': ['A', 'A', 'B', 'B'],\n",
    "    'Value': [10, 20, 30, 40]\n",
    "}\n",
    "\n",
    "df = pd.DataFrame(dt)\n",
    "\n",
    "grouped = df.groupby('Category').agg(['mean', 'sum'])\n",
    "print(grouped)"
   ]
  },
  {
   "cell_type": "markdown",
   "id": "65b334e1",
   "metadata": {},
   "source": [
    "##### QUES6 - How can you merge, join, or concatenate multiple DataFrames in Pandas? What are the differences between these operations? Coding Challenge:  Create two DataFrames and demonstrate how to merge them using \"merge()\", join them using \"join()\", and concatenate them using \"concat()\".\n",
    "##### ANS6 - merge(): SQL-style joins.\n",
    "##### join(): Join on index or keys.\n",
    "##### concat(): Stack along an axis."
   ]
  },
  {
   "cell_type": "code",
   "execution_count": 70,
   "id": "915858a9",
   "metadata": {},
   "outputs": [
    {
     "name": "stdout",
     "output_type": "stream",
     "text": [
      "Merged:\n",
      "    ID Name  Age\n",
      "0   1    A   25\n",
      "1   2    B   30\n",
      "Joined:\n",
      "    Name  Age\n",
      "ID          \n",
      "1     A   25\n",
      "2     B   30\n",
      "Concatenated:\n",
      "    Name  Age\n",
      "ID          \n",
      "1     A   25\n",
      "2     B   30\n"
     ]
    }
   ],
   "source": [
    "df1 = pd.DataFrame({'ID': [1, 2], 'Name': ['A', 'B']})\n",
    "df2 = pd.DataFrame({'ID': [1, 2], 'Age': [25, 30]})\n",
    "\n",
    "# Merge\n",
    "merged = pd.merge(df1, df2, on='ID')\n",
    "print(\"Merged:\\n\", merged)\n",
    "\n",
    "# Join\n",
    "df1 = df1.set_index('ID')\n",
    "df2 = df2.set_index('ID')\n",
    "joined = df1.join(df2)\n",
    "print(\"Joined:\\n\", joined)\n",
    "\n",
    "# Concatenate\n",
    "concatenated = pd.concat([df1, df2], axis=1)\n",
    "print(\"Concatenated:\\n\", concatenated)"
   ]
  },
  {
   "cell_type": "markdown",
   "id": "75159398",
   "metadata": {},
   "source": [
    "##### QUES7 - What are Pandas \"pivot_table\" and \"crosstab\" functions, and how can they be used to summarize and analyze data? Coding Challenge:  Write a Python script that creates a DataFrame and uses \"pivot_table()\" to summarize data by different categories. Also, use \"crosstab()\" to create a cross-tabulation of two categorical variables.\n",
    "##### ANS7 - pivot_table() — summarizes data.\n",
    "##### crosstab() — frequency table of 2 variables."
   ]
  },
  {
   "cell_type": "code",
   "execution_count": 71,
   "id": "63155b45",
   "metadata": {},
   "outputs": [
    {
     "name": "stdout",
     "output_type": "stream",
     "text": [
      "Pivot Table:\n",
      " Type       X   Y\n",
      "Category        \n",
      "A         10  20\n",
      "B         30  40\n",
      "Crosstab:\n",
      " Type      X  Y\n",
      "Category      \n",
      "A         1  1\n",
      "B         1  1\n"
     ]
    }
   ],
   "source": [
    "dt = {\n",
    "    'Category': ['A', 'A', 'B', 'B'],\n",
    "    'Type': ['X', 'Y', 'X', 'Y'],\n",
    "    'Value': [10, 20, 30, 40]\n",
    "}\n",
    "\n",
    "df = pd.DataFrame(dt)\n",
    "\n",
    "# Pivot table\n",
    "pivot = df.pivot_table(values='Value', index='Category', columns='Type', aggfunc='sum')\n",
    "print(\"Pivot Table:\\n\", pivot)\n",
    "\n",
    "# Crosstab\n",
    "ct = pd.crosstab(df['Category'], df['Type'])\n",
    "print(\"Crosstab:\\n\", ct)\n"
   ]
  },
  {
   "cell_type": "markdown",
   "id": "f0c8aead",
   "metadata": {},
   "source": [
    "##### QUES8 - How can you apply custom functions to columns or rows in a Pandas DataFrame? What functions or methods facilitate this? Coding Challenge:  Create a DataFrame and use the \".apply()\" method to apply a custom function to each element in a column.\n",
    "##### ANS8 - apply() applies a function to rows/columns."
   ]
  },
  {
   "cell_type": "code",
   "execution_count": 72,
   "id": "64bda9b9",
   "metadata": {},
   "outputs": [
    {
     "name": "stdout",
     "output_type": "stream",
     "text": [
      "   Number  Squared\n",
      "0       1        1\n",
      "1       2        4\n",
      "2       3        9\n",
      "3       4       16\n",
      "4       5       25\n"
     ]
    }
   ],
   "source": [
    "df = pd.DataFrame({\n",
    "    'Number': [1, 2, 3, 4, 5]\n",
    "})\n",
    "\n",
    "# Square each number\n",
    "df['Squared'] = df['Number'].apply(lambda x: x ** 2)\n",
    "print(df)"
   ]
  },
  {
   "cell_type": "markdown",
   "id": "3b2ac2f7",
   "metadata": {},
   "source": [
    "##### QUES9 - Explain how to sort and filter data in a Pandas DataFrame. What methods can be used to sort data by one or more columns, and how can you filter rows based on conditions? Coding Challenge:  Write a Python script that sorts a DataFrame by multiple columns and filters rows based on a specific condition.\n",
    "##### ANS9 - sort_values(), sort_index()\n",
    "##### Filter: conditions"
   ]
  },
  {
   "cell_type": "code",
   "execution_count": 73,
   "id": "1da05a4b",
   "metadata": {},
   "outputs": [
    {
     "name": "stdout",
     "output_type": "stream",
     "text": [
      "Sorted:\n",
      "   Name  Age  Score\n",
      "2    C   20     95\n",
      "0    A   25     85\n",
      "1    B   30     90\n",
      "Filtered:\n",
      "   Name  Age  Score\n",
      "0    A   25     85\n",
      "1    B   30     90\n"
     ]
    }
   ],
   "source": [
    "df = pd.DataFrame({\n",
    "    'Name': ['A', 'B', 'C'],\n",
    "    'Age': [25, 30, 20],\n",
    "    'Score': [85, 90, 95]\n",
    "})\n",
    "\n",
    "# Sort by Age then Score\n",
    "sorted_df = df.sort_values(by=['Age', 'Score'], ascending=[True, False])\n",
    "print(\"Sorted:\\n\", sorted_df)\n",
    "\n",
    "# Filter Age > 21\n",
    "filtered_df = df[df['Age'] > 21]\n",
    "print(\"Filtered:\\n\", filtered_df)\n"
   ]
  },
  {
   "cell_type": "markdown",
   "id": "582fe5f0",
   "metadata": {},
   "source": [
    "##### QUES10 - How can you handle and process categorical data in Pandas? What methods or functions can be used to encode and decode categorical variables? Coding Challenge:  Create a DataFrame with a categorical column (e.g., \"Category\") and use Pandas methods like \"pd.get_dummies()\" to convert categorical variables into numerical format. Then, demonstrate how to reverse the encoding using the \".astype('category')\" method\n",
    "##### ANS10 - get_dummies() — one-hot encoding.\n",
    "##### .astype('category') — categorical type."
   ]
  },
  {
   "cell_type": "code",
   "execution_count": 74,
   "id": "d9c42496",
   "metadata": {},
   "outputs": [
    {
     "name": "stdout",
     "output_type": "stream",
     "text": [
      "Dummies:\n",
      "        A      B      C\n",
      "0   True  False  False\n",
      "1  False   True  False\n",
      "2   True  False  False\n",
      "3  False  False   True\n",
      "Category dtype:\n",
      " 0    A\n",
      "1    B\n",
      "2    A\n",
      "3    C\n",
      "Name: Category, dtype: category\n",
      "Categories (3, object): ['A', 'B', 'C']\n"
     ]
    }
   ],
   "source": [
    "df = pd.DataFrame({\n",
    "    'Category': ['A', 'B', 'A', 'C']\n",
    "})\n",
    "\n",
    "# Encode\n",
    "dummies = pd.get_dummies(df['Category'])\n",
    "print(\"Dummies:\\n\", dummies)\n",
    "\n",
    "# Reverse to category\n",
    "df['Category'] = df['Category'].astype('category')\n",
    "print(\"Category dtype:\\n\", df['Category'])"
   ]
  }
 ],
 "metadata": {
  "kernelspec": {
   "display_name": "Python 3",
   "language": "python",
   "name": "python3"
  },
  "language_info": {
   "codemirror_mode": {
    "name": "ipython",
    "version": 3
   },
   "file_extension": ".py",
   "mimetype": "text/x-python",
   "name": "python",
   "nbconvert_exporter": "python",
   "pygments_lexer": "ipython3",
   "version": "3.11.9"
  }
 },
 "nbformat": 4,
 "nbformat_minor": 5
}
