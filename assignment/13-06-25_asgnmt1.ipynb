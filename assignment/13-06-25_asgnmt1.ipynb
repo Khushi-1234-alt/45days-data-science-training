{
 "cells": [
  {
   "cell_type": "markdown",
   "id": "eb204112",
   "metadata": {},
   "source": [
    "# ASSIGNMENT 1\n",
    "### DATA TYPES AND OPERATOR \n",
    "#### DATATYPES\n",
    "##### QUES1 - How do lists and tuples differ in terms of mutability and performance? When would you choose one over the other?\n",
    "##### ANS1 - List ---> IT is Mutable, you can change, add, or remove elements. \n",
    "#####             ---> When you need to modify data (e.g., add/remove elements) we can choose list over tuple.\n",
    "\n",
    "##### Tuple ---> It is Immutable, once created, elements cannot be changed.\n",
    "#####       ---> When data should not change (e.g., coordinates, fixed records)."
   ]
  },
  {
   "cell_type": "code",
   "execution_count": 21,
   "id": "9a7354b3",
   "metadata": {},
   "outputs": [
    {
     "name": "stdout",
     "output_type": "stream",
     "text": [
      "List is : [1, 2, 3]\n",
      "List after changes [1, 2, 3, 4]\n",
      "Tuple (1, 2, 3)\n"
     ]
    }
   ],
   "source": [
    "# List (mutable)\n",
    "lst = [1, 2, 3]\n",
    "print(\"List is :\", lst)\n",
    "lst.append(4)\n",
    "print(\"List after changes\", lst)  # [1, 2, 3, 4]\n",
    "\n",
    "# Tuple (immutable)\n",
    "tpl = (1, 2, 3)\n",
    "print(\"Tuple\",tpl)  # (1, 2, 3)\n",
    "# my_tuple[0] = 10  # This will raise an error"
   ]
  },
  {
   "cell_type": "markdown",
   "id": "84084ffd",
   "metadata": {},
   "source": [
    "##### QUES2 - Explain how Python handles type conversion between different data types, such as between integers and floats or between strings and lists.\n",
    "##### ANS2 - Type conversion means changing a value from one data type to another — for example, from an integer to a float, or from a string to a list."
   ]
  },
  {
   "cell_type": "code",
   "execution_count": 22,
   "id": "910a8492",
   "metadata": {},
   "outputs": [
    {
     "name": "stdout",
     "output_type": "stream",
     "text": [
      "124\n",
      "7.0\n",
      "['h', 'e', 'l', 'l', 'o']\n"
     ]
    }
   ],
   "source": [
    "# type conversion between string and integer \n",
    "a = \"123\"\n",
    "b = int(a)  # str ---> int\n",
    "print(b + 1)  # 124\n",
    "\n",
    "# integer anf float \n",
    "x = 5    # int\n",
    "y = 2.0  # float\n",
    "z = x + y  # int + float => float\n",
    "print(z)  # 7.0\n",
    "\n",
    "#string to a tuple\n",
    "str = \"hello\"\n",
    "lst = list(str)  # string -> list\n",
    "print(lst)  # ['h', 'e', 'l', 'l', 'o']"
   ]
  },
  {
   "cell_type": "markdown",
   "id": "5f489a08",
   "metadata": {},
   "source": [
    "##### QUES3 - What are the key differences between Python’s \"list\", \"set\", and \"dictionary\" data types? Provide examples of scenarios where each would be the most appropriate choice.\n",
    "##### ANS3 - LIST ---> It is ordered collection of element.\n",
    "#####             ---> It allow duplicates.\n",
    "##### SETS ---> It is unordered collection of elements.\n",
    "##### ---> It does not allow Duplicates.\n",
    "##### DICTIONARY ---> It is an ordered collection of elements.\n",
    "##### ---> but does not allow duplicates"
   ]
  },
  {
   "cell_type": "code",
   "execution_count": 23,
   "id": "592e1370",
   "metadata": {},
   "outputs": [
    {
     "name": "stdout",
     "output_type": "stream",
     "text": [
      "['apple', 'banana', 'apple']\n",
      "{'banana', 'apple'}\n",
      "{'name': 'Alice', 'age': 30}\n"
     ]
    }
   ],
   "source": [
    "# List: ordered collection with duplicates\n",
    "fruits = ['apple', 'banana', 'apple']\n",
    "print(fruits)  # ['apple', 'banana', 'apple']\n",
    "\n",
    "# Set: unique elements\n",
    "fruit1 = set(fruits)\n",
    "print(fruit1)  # {'banana', 'apple'}\n",
    "\n",
    "# Dictionary: key-value pairs\n",
    "dict = {\"name\": \"Alice\",\n",
    "        \"age\": 30}\n",
    "print(dict)  \n"
   ]
  },
  {
   "cell_type": "markdown",
   "id": "e77d6b8d",
   "metadata": {},
   "source": [
    "##### QUES4 - Discuss the role of the `__repr__` and `__str__` methods in custom data types. How do they differ, and when should you implement them?\n"
   ]
  },
  {
   "cell_type": "code",
   "execution_count": 24,
   "id": "a6fb9d99",
   "metadata": {},
   "outputs": [
    {
     "name": "stdout",
     "output_type": "stream",
     "text": [
      "Car('Toyota', 2020)\n",
      "Toyota (2020)\n"
     ]
    }
   ],
   "source": [
    "class Car:\n",
    "    def __init__(self, brand, year):\n",
    "        self.brand = brand\n",
    "        self.year = year\n",
    "\n",
    "    def __repr__(self):\n",
    "        return f\"Car('{self.brand}', {self.year})\"\n",
    "\n",
    "    def __str__(self):\n",
    "        return f\"{self.brand} ({self.year})\"\n",
    "\n",
    "c = Car('Toyota', 2020)\n",
    "print(repr(c))  # Car('Toyota', 2020)\n",
    "print(c)        # Uses __str__: Toyota (2020)\n"
   ]
  },
  {
   "cell_type": "markdown",
   "id": "dc6ac770",
   "metadata": {},
   "source": [
    "##### QUES5 - How does Python handle large integers? Explain the difference between `int` in Python 2 and Python 3.\n",
    "##### ANS5 - Python 2: int is fixed-size; large integers use long.\n",
    "##### Python 3: Only one int type, which supports arbitrary large integers automatically."
   ]
  },
  {
   "cell_type": "code",
   "execution_count": 25,
   "id": "f31f0ff3",
   "metadata": {},
   "outputs": [
    {
     "name": "stdout",
     "output_type": "stream",
     "text": [
      "23230572289118153328333583928030329684079829544396666111742077337982514410000\n",
      "286797186173370403767041767776920429666954333495933335798264659838306817363852838672048294900000\n"
     ]
    }
   ],
   "source": [
    "# Python 2:\n",
    "x = 10  # int\n",
    "y = 12345678901234567890  # long, with L suffix: 12345678901234567890L\n",
    "print(y**4)\n",
    "\n",
    "# python 3\n",
    "x = 10\n",
    "y = 12345678901234567890  # Automatically handles big ints\n",
    "print(y**5)\n",
    "\n"
   ]
  },
  {
   "cell_type": "markdown",
   "id": "ce4041ea",
   "metadata": {},
   "source": [
    "#### OPERATORS \n",
    "##### QUES6 - What is the difference between the `+=` operator and the `+` operator in Python when used with mutable and immutable types?\n",
    "##### ANS6 - \"+\" creates a new object, \"+=\" modifies in place for mutable but creates new for immutables."
   ]
  },
  {
   "cell_type": "code",
   "execution_count": 26,
   "id": "1596dcfe",
   "metadata": {},
   "outputs": [
    {
     "name": "stdout",
     "output_type": "stream",
     "text": [
      "[1, 2, 0]\n",
      "[1, 2, 0, 3, 4]\n",
      "hello world \n",
      "hello world in the new\n"
     ]
    }
   ],
   "source": [
    "# List is mutable\n",
    "# use of \"+=\"\n",
    "a = [1, 2]\n",
    "b = [3,4]\n",
    "a += [0]\n",
    "print(a)  # [1, 2, 3]\n",
    "# use of \"+\"\n",
    "c = a + b\n",
    "print(c)  # [1, 2, 0, 3, 4]\n",
    "\n",
    "# String is immutable\n",
    "# use of \"+=\"\n",
    "str = \"hello\"\n",
    "str1 = \"in the new\"\n",
    "str += \" world \"  # new object created\n",
    "print(str)  # 'hello world'\n",
    "# use of \"+\"\n",
    "new = str + str1\n",
    "print(new)"
   ]
  },
  {
   "cell_type": "markdown",
   "id": "1e1422d8",
   "metadata": {},
   "source": [
    "##### QUES7 - Explain the purpose and use of the \"in\" operator in Python. How does it behave differently when used with different data types, such as strings, lists, and dictionaries?\n",
    "##### ANS7 - IN ---> Returns True if a sequence with the specified value is present in the object."
   ]
  },
  {
   "cell_type": "code",
   "execution_count": 27,
   "id": "8d7e428b",
   "metadata": {},
   "outputs": [
    {
     "name": "stdout",
     "output_type": "stream",
     "text": [
      "True\n",
      "True\n",
      "True\n",
      "False\n"
     ]
    }
   ],
   "source": [
    "# use of \"in\" with different datatypes\n",
    "print(\"a\" in \"cat\")  # string ---> True\n",
    "print(1 in [1, 2, 3])  # list ---> True\n",
    "print(\"key\" in {'key': 123})  # dictionary ---> True\n",
    "print(123 in {'key': 123})    # dictionary ---> False (123 is value, not key)\n"
   ]
  },
  {
   "cell_type": "markdown",
   "id": "1933ceb9",
   "metadata": {},
   "source": [
    "##### QUES8 - How do the bitwise operators (`&`, `|`, `^`, `~`, `<<`, `>>`) work in Python? Provide examples of their usage.\n",
    "##### ANS8 - &(AND) -Sets each bit to 1 if both bits are 1\t\n",
    "##### |(OR) -Sets each bit to 1 if one of two bits is 1\t\n",
    "##### ^(XOR) - Sets each bit to 1 if only one of two bits is 1\t\t\n",
    "##### ~(NOT) - Inverts all the bits\t\n",
    "##### <<(Zero fill left shift) - Shift left by pushing zeros in from the right and let the leftmost bits fall off\n",
    "##### >>(Signed right shift) - Shift right by pushing copies of the leftmost bit in from the left, and let the rightmost bits fall off\t"
   ]
  },
  {
   "cell_type": "code",
   "execution_count": 28,
   "id": "2b6a838f",
   "metadata": {},
   "outputs": [
    {
     "name": "stdout",
     "output_type": "stream",
     "text": [
      "1\n",
      "7\n",
      "6\n",
      "-6\n",
      "10\n",
      "2\n"
     ]
    }
   ],
   "source": [
    "a = 5   \n",
    "b = 3   \n",
    "\n",
    "print(a & b)  # 1  \n",
    "print(a | b)  # 7  \n",
    "print(a ^ b)  # 6  \n",
    "print(~a)     # -6 \n",
    "print(a << 1) # 10 \n",
    "print(a >> 1) # 2  \n"
   ]
  },
  {
   "cell_type": "markdown",
   "id": "b0f16777",
   "metadata": {},
   "source": [
    "##### QUES9 - What are augmented assignment operators, and how do they work in Python? Give examples with \"+=\", \"-=\", and \"*=\".\n",
    "##### ANS9 - Augmented assignment operators ---> Augmented assignment operators provide a shorthand way to perform an operation and assign the result back to the same variable\n"
   ]
  },
  {
   "cell_type": "code",
   "execution_count": 29,
   "id": "f9a553d1",
   "metadata": {},
   "outputs": [
    {
     "name": "stdout",
     "output_type": "stream",
     "text": [
      "8\n",
      "6\n",
      "24\n"
     ]
    }
   ],
   "source": [
    "# use of \"+=\"\n",
    "x = 5\n",
    "x += 3  # same as x = x + 3\n",
    "print(x)  # 8\n",
    "\n",
    "# use of \"-=\"\n",
    "x -= 2  # x = x - 2\n",
    "print(x)  # 6\n",
    "\n",
    "# use of \"*=\"\n",
    "x *= 4  # x = x * 4\n",
    "print(x)  # 24\n"
   ]
  },
  {
   "cell_type": "markdown",
   "id": "cb46d363",
   "metadata": {},
   "source": [
    "##### QUES10 - How does Python’s \"is\" operator differ from \"==\", especially in terms of comparing lists, strings, and other complex data types?\n",
    "##### ANS10 - IS ---> Returns True if both variables are the same object\n",
    "##### == ---> Equal "
   ]
  },
  {
   "cell_type": "code",
   "execution_count": 30,
   "id": "dc23ffd2",
   "metadata": {},
   "outputs": [
    {
     "name": "stdout",
     "output_type": "stream",
     "text": [
      "True\n",
      "False\n",
      "True\n",
      "True\n",
      "True\n",
      "True\n"
     ]
    }
   ],
   "source": [
    "# For list \n",
    "a = [1, 2, 3]\n",
    "b = [1, 2, 3]\n",
    "\n",
    "print(a == b)  # True (same values)\n",
    "print(a is b)  # False (different objects)\n",
    "\n",
    "# For strings\n",
    "x = \"hello\"\n",
    "y = \"hello\"\n",
    "print(x == y)  # True\n",
    "print(x is y)  # True \n",
    "\n",
    "# For integers \n",
    "p = 10\n",
    "q = 10\n",
    "print(p == q)  # True\n",
    "print(p is q)  # True\n"
   ]
  }
 ],
 "metadata": {
  "kernelspec": {
   "display_name": "Python 3",
   "language": "python",
   "name": "python3"
  },
  "language_info": {
   "codemirror_mode": {
    "name": "ipython",
    "version": 3
   },
   "file_extension": ".py",
   "mimetype": "text/x-python",
   "name": "python",
   "nbconvert_exporter": "python",
   "pygments_lexer": "ipython3",
   "version": "3.11.9"
  }
 },
 "nbformat": 4,
 "nbformat_minor": 5
}
