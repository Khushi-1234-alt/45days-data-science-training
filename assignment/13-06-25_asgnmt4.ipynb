{
 "cells": [
  {
   "cell_type": "markdown",
   "id": "bb175e0f",
   "metadata": {},
   "source": [
    "# ASSIGNMENT 4\n",
    "### FUNCTIONS\n",
    "#### USER DEFINED FUNCTION \n",
    "##### QUES1 - What are default arguments in Python functions, and how do they differ from required arguments? What happens when you pass \"None\" as a value to a parameter with a default argument? Coding Challenge: Write a function \"greet\" that takes a name as a required argument and a greeting message as an optional argument. If no greeting is provided, it should default to \"Hello\".\n",
    "##### ANS1 - Required arguments: Must be provided when calling the function.\n",
    "##### Default arguments: Have a default value, if you don’t pass a value Python uses the default.\n",
    "##### Passing None: If you explicitly pass None so the parameter becomes None"
   ]
  },
  {
   "cell_type": "code",
   "execution_count": 53,
   "id": "753c6914",
   "metadata": {},
   "outputs": [
    {
     "name": "stdout",
     "output_type": "stream",
     "text": [
      "Hello, A!!\n",
      "Hi, B!!\n",
      "Hello, C!!\n"
     ]
    }
   ],
   "source": [
    "def greet(name, greeting=\"Hello\"):\n",
    "    if greeting is None:\n",
    "        greeting = \"Hello\"\n",
    "    print(f\"{greeting}, {name}!\")\n",
    "\n",
    "greet(\"A!\")             # Hello, A!\n",
    "greet(\"B!\", \"Hi\")         # Hi, B!\n",
    "greet(\"C!\", None)     # Hello, C!"
   ]
  },
  {
   "cell_type": "markdown",
   "id": "2acc62ff",
   "metadata": {},
   "source": [
    "##### QUES2 - Explain the concept of variable-length arguments in Python. How do \"*args\" and \"kwargs\" work, and how can they be used together in a function? Coding Challenge: Write a function `summarize` that takes any number of numerical arguments and returns their sum. The function should also accept optional keyword arguments that specify whether the result should be squared or negated.\n",
    "##### ANS2 - *args: Pack extra positional arguments into a tuple.\n",
    "##### **kwargs: Pack extra keyword arguments into a dictionary."
   ]
  },
  {
   "cell_type": "code",
   "execution_count": 54,
   "id": "d2623177",
   "metadata": {},
   "outputs": [
    {
     "name": "stdout",
     "output_type": "stream",
     "text": [
      "6\n",
      "36\n",
      "-6\n"
     ]
    }
   ],
   "source": [
    "def summarize(*args, **kwargs):\n",
    "    total = sum(args)\n",
    "    if kwargs.get(\"square\"):\n",
    "        total = total ** 2\n",
    "    if kwargs.get(\"negate\"):\n",
    "        total = -total\n",
    "    return total\n",
    "\n",
    "print(summarize(1, 2, 3))  # 6\n",
    "print(summarize(1, 2, 3, square=True))  # 36\n",
    "print(summarize(1, 2, 3, negate=True))  # -6\n"
   ]
  },
  {
   "cell_type": "markdown",
   "id": "d33cd2dc",
   "metadata": {},
   "source": [
    "##### QUES3 - What is the difference between pass-by-value and pass-by-reference? How does Python handle argument passing in functions? Coding Challenge: Write a function that takes a list as an argument and modifies it by appending a new item. Demonstrate how changes to the list inside the function affect the list outside the function.\n",
    "##### ANS3 - ---> Python uses pass-by-object-reference: arguments are references to objects.\n",
    "##### ---> Immutable objects (e.g., int, str) behave like pass-by-value.\n",
    "##### ---> Mutable objects (e.g., lists) can be changed inside the function."
   ]
  },
  {
   "cell_type": "code",
   "execution_count": 55,
   "id": "bcfe9bea",
   "metadata": {},
   "outputs": [
    {
     "name": "stdout",
     "output_type": "stream",
     "text": [
      "[1, 2, 3, 'new item']\n"
     ]
    }
   ],
   "source": [
    "def modify_list(my_list):\n",
    "    my_list.append(\"new item\")\n",
    "\n",
    "lst = [1, 2, 3]\n",
    "modify_list(lst)\n",
    "print(lst)  # [1, 2, 3, 'new item']"
   ]
  },
  {
   "cell_type": "markdown",
   "id": "2a94f696",
   "metadata": {},
   "source": [
    "##### QUES4 - .  How do decorators work in Python? Explain with an example of a simple decorator that logs the execution time of a function. Coding Challenge: Write a decorator \"@timing\" that prints the time taken by a function to execute.\n",
    "##### ANS4 - Decorators wrap a function to add extra behavior.\n",
    "##### Common use: logging, timing, authentication."
   ]
  },
  {
   "cell_type": "code",
   "execution_count": 56,
   "id": "d610dafe",
   "metadata": {},
   "outputs": [
    {
     "name": "stdout",
     "output_type": "stream",
     "text": [
      "Execution time: 1.000429 seconds\n"
     ]
    }
   ],
   "source": [
    "import time\n",
    "def timing(func):\n",
    "    def wrapper(*args, **kwargs):\n",
    "        start = time.time()\n",
    "        result = func(*args, **kwargs)\n",
    "        end = time.time()\n",
    "        print(f\"Execution time: {end - start:.6f} seconds\")\n",
    "        return result\n",
    "    return wrapper\n",
    "\n",
    "@timing\n",
    "def slow_function():\n",
    "    time.sleep(1)\n",
    "\n",
    "slow_function()"
   ]
  },
  {
   "cell_type": "markdown",
   "id": "bcb4c4d6",
   "metadata": {},
   "source": [
    "#### GENERATOR\n",
    "##### QUES5 - What are generators in Python, and how do they differ from regular functions in terms of memory usage and performance? Coding Challenge: Write a generator function \"countdown(n)\" that yields numbers from \"n\" down to 1.\n",
    "##### ANS5 - Generators yield values one by one, using less memory.\n",
    "##### Regular functions return all results at once."
   ]
  },
  {
   "cell_type": "code",
   "execution_count": 57,
   "id": "defb6b49",
   "metadata": {},
   "outputs": [
    {
     "name": "stdout",
     "output_type": "stream",
     "text": [
      "5\n",
      "4\n",
      "3\n",
      "2\n",
      "1\n"
     ]
    }
   ],
   "source": [
    "def countdown(n):\n",
    "    while n > 0:\n",
    "        yield n\n",
    "        n -= 1\n",
    "\n",
    "for num in countdown(5):\n",
    "    print(num)"
   ]
  },
  {
   "cell_type": "markdown",
   "id": "2370f355",
   "metadata": {},
   "source": [
    "##### QUES6 - Explain the role of the \"yield\" statement in Python generators. How does it differ from the \"return\" statement in regular functions? Coding Challenge: Write a generator \"fibonacci()\" that yields the Fibonacci sequence indefinitely.\n",
    "##### ANS6 - yield pauses the function and saves its state, return ends the function immediately."
   ]
  },
  {
   "cell_type": "code",
   "execution_count": 58,
   "id": "534cfd09",
   "metadata": {},
   "outputs": [
    {
     "name": "stdout",
     "output_type": "stream",
     "text": [
      "0\n",
      "1\n",
      "1\n",
      "2\n",
      "3\n",
      "5\n",
      "8\n",
      "13\n",
      "21\n",
      "34\n"
     ]
    }
   ],
   "source": [
    "def fibonacci():\n",
    "    a, b = 0, 1\n",
    "    while True:\n",
    "        yield a\n",
    "        a, b = b, a + b\n",
    "\n",
    "fib = fibonacci()\n",
    "for _ in range(10):\n",
    "    print(next(fib))"
   ]
  },
  {
   "cell_type": "markdown",
   "id": "4907b2a7",
   "metadata": {},
   "source": [
    "##### QUES7 - How can you use generators to handle large datasets or streams of data efficiently? Provide an example. Coding Challenge: Write a generator `file_reader(file_name)` that reads a large text file line by line and yields each line.\n",
    "##### ANS7 - Use generators for files or data streams — read/process in chunks."
   ]
  },
  {
   "cell_type": "code",
   "execution_count": 59,
   "id": "7f75e97b",
   "metadata": {},
   "outputs": [],
   "source": [
    "def file_reader(file_name):\n",
    "    with open(file_name, 'r') as file:\n",
    "        for line in file:\n",
    "            yield line\n",
    "            \n",
    "\n",
    "# Example usage (make sure you have a file):\n",
    "# for line in file_reader(\"large_file.txt\"):\n",
    "# print(line.strip())\n"
   ]
  },
  {
   "cell_type": "markdown",
   "id": "bf9ce4a0",
   "metadata": {},
   "source": [
    "##### QUES8 - What are generator expressions, and how do they differ from list comprehensions? Provide an example where a generator expression would be more efficient than a list comprehension. Coding Challenge: Convert the following list comprehension into a generator expression:\n",
    "     ```python\n",
    "     squares = [x **2 for x in range(1000000)]\n",
    "     ```\n",
    "##### ANSS8 - Like list comprehensions, but lazy. Save memory for big data."
   ]
  },
  {
   "cell_type": "code",
   "execution_count": 60,
   "id": "97c89c65",
   "metadata": {},
   "outputs": [
    {
     "name": "stdout",
     "output_type": "stream",
     "text": [
      "List comprehension: [0, 1, 4, 9, 16, 25, 36, 49, 64, 81]\n",
      "Generator expression (object): <generator object <genexpr> at 0x000002719B8C6740>\n",
      "Generator values:\n",
      "0\n",
      "1\n",
      "4\n",
      "9\n",
      "16\n",
      "25\n",
      "36\n",
      "49\n",
      "64\n",
      "81\n"
     ]
    }
   ],
   "source": [
    "# List comprehension\n",
    "squares = [x ** 2 for x in range(10)]\n",
    "print(\"List comprehension:\", squares)\n",
    "\n",
    "# Generator expression\n",
    "squares_gen = (x ** 2 for x in range(10))\n",
    "print(\"Generator expression (object):\", squares_gen)\n",
    "\n",
    "# To see actual numbers:\n",
    "print(\"Generator values:\")\n",
    "for num in squares_gen:\n",
    "    print(num)"
   ]
  },
  {
   "cell_type": "markdown",
   "id": "a3eb349f",
   "metadata": {},
   "source": [
    "#### LAMBDA FUNCTION \n",
    "##### QUES9 - What are lambda functions in Python, and when should they be used over regular functions? What are some limitations of lambda functions? Coding Challenge: Write a lambda function that takes two arguments and returns their product. Then, use this lambda function to multiply elements of two lists pairwise.\n",
    "##### ANS9 - Anonymous small functions: lambda x: x + 1. Good for simple operations and limited to one expression."
   ]
  },
  {
   "cell_type": "code",
   "execution_count": 61,
   "id": "9d2f909f",
   "metadata": {},
   "outputs": [
    {
     "name": "stdout",
     "output_type": "stream",
     "text": [
      "[4, 10, 18]\n"
     ]
    }
   ],
   "source": [
    "# Lambda for product:\n",
    "product = lambda x, y: x * y\n",
    "\n",
    "list1 = [1, 2, 3]\n",
    "list2 = [4, 5, 6]\n",
    "\n",
    "result = [product(a, b) for a, b in zip(list1, list2)]\n",
    "print(result)  # [4, 10, 18]\n"
   ]
  },
  {
   "cell_type": "markdown",
   "id": "3709e6c9",
   "metadata": {},
   "source": [
    "##### QUES10 - How can lambda functions be used with Python's built-in functions like \"map()\", \"filter()\", and \"reduce()\"? Provide examples of each. Coding Challenge: Use \"map()\" with a lambda function to convert a list of strings to uppercase. Use \"filter()\" with a lambda function to filter out even numbers from a list. Finally, use \"reduce()\" with a lambda function to find the product of all numbers in a list.\n",
    "##### ANS10 - "
   ]
  },
  {
   "cell_type": "code",
   "execution_count": 62,
   "id": "090cac52",
   "metadata": {},
   "outputs": [
    {
     "name": "stdout",
     "output_type": "stream",
     "text": [
      "['HELLO', 'WORLD']\n",
      "[1, 3, 5]\n",
      "120\n"
     ]
    }
   ],
   "source": [
    "from functools import reduce\n",
    "\n",
    "# map() - uppercase\n",
    "words = [\"hello\", \"world\"]\n",
    "upper = list(map(lambda s: s.upper(), words))\n",
    "print(upper)  # ['HELLO', 'WORLD']\n",
    "\n",
    "# filter() - keep odd numbers\n",
    "nums = [1, 2, 3, 4, 5]\n",
    "odds = list(filter(lambda x: x % 2 != 0, nums))\n",
    "print(odds)  # [1, 3, 5]\n",
    "\n",
    "# reduce() - product of list\n",
    "result = reduce(lambda x, y: x * y, nums)\n",
    "print(result)  # 120\n"
   ]
  }
 ],
 "metadata": {
  "kernelspec": {
   "display_name": "Python 3",
   "language": "python",
   "name": "python3"
  },
  "language_info": {
   "codemirror_mode": {
    "name": "ipython",
    "version": 3
   },
   "file_extension": ".py",
   "mimetype": "text/x-python",
   "name": "python",
   "nbconvert_exporter": "python",
   "pygments_lexer": "ipython3",
   "version": "3.11.9"
  }
 },
 "nbformat": 4,
 "nbformat_minor": 5
}
