{
 "cells": [
  {
   "cell_type": "markdown",
   "id": "a0952b20",
   "metadata": {},
   "source": [
    "# ASSIGNMENT 7\n",
    "### NUMPY\n",
    "##### QUES1 - What is NumPy and what are its main advantages over regular Python lists? Coding Challenge:  Create a NumPy array from a list of numbers and perform basic arithmetic operations (addition, multiplication) on the array.\n",
    "##### ANS1 - Numpy is a python library used for dealing with array \n",
    "##### Provides a powerful N-dimensional array object.\n",
    "##### Faster and more memory-efficient than Python lists."
   ]
  },
  {
   "cell_type": "code",
   "execution_count": 60,
   "id": "cdecf613",
   "metadata": {},
   "outputs": [],
   "source": [
    "import numpy as np "
   ]
  },
  {
   "cell_type": "code",
   "execution_count": 61,
   "id": "6dec633b",
   "metadata": {},
   "outputs": [
    {
     "name": "stdout",
     "output_type": "stream",
     "text": [
      "your array is :  [1 2 3 4 5]\n",
      "after addition array is :  [ 6  7  8  9 10]\n",
      "multiplied array is :  [ 6 12 18 24 30]\n"
     ]
    }
   ],
   "source": [
    "## creating array \n",
    "arr = np.array([1,2,3,4,5])\n",
    "arr\n",
    "\n",
    "## arithmetic operation \n",
    "arr1 = arr + 5\n",
    "arr2 = arr *6 \n",
    "print(\"your array is : \",arr)\n",
    "print(\"after addition array is : \",arr1)\n",
    "print(\"multiplied array is : \",arr2)"
   ]
  },
  {
   "cell_type": "markdown",
   "id": "ecf41ab8",
   "metadata": {},
   "source": [
    "##### QUES2 - How can you create different types of arrays in NumPy, such as arrays filled with zeros, ones, or random values? Coding Challenge:  Write a Python script that creates a 3x3 array of zeros, a 3x3 array of ones, and a 3x3 array of random integers between 1 and 10.\n",
    "##### ANS2 - Use np.zeros(), np.ones(), np.random for random arrays."
   ]
  },
  {
   "cell_type": "code",
   "execution_count": 62,
   "id": "3283728a",
   "metadata": {},
   "outputs": [
    {
     "name": "stdout",
     "output_type": "stream",
     "text": [
      "Zeros:\n",
      " [[0. 0. 0.]\n",
      " [0. 0. 0.]\n",
      " [0. 0. 0.]]\n",
      "Ones:\n",
      " [[1. 1. 1.]\n",
      " [1. 1. 1.]\n",
      " [1. 1. 1.]]\n",
      "Random Integers 1-10:\n",
      " [[ 8  8 10]\n",
      " [ 3  6  3]\n",
      " [ 2  6  3]]\n"
     ]
    }
   ],
   "source": [
    "zeros = np.zeros((3, 3))\n",
    "ones = np.ones((3, 3))\n",
    "random = np.random.randint(1, 11, (3, 3))\n",
    "\n",
    "print(\"Zeros:\\n\", zeros)\n",
    "print(\"Ones:\\n\", ones)\n",
    "print(\"Random Integers 1-10:\\n\", random)\n"
   ]
  },
  {
   "cell_type": "markdown",
   "id": "730cffc7",
   "metadata": {},
   "source": [
    "##### QUES3 - Explain how array indexing and slicing work in NumPy. How does it differ from standard Python list indexing? Coding Challenge:  Create a 2D NumPy array and use slicing to extract a subarray from it. For example, extract a 2x2 subarray from a 4x4 array.\n",
    "##### ANS3 - NumPy indexing works like lists but supports multi-dimensional arrays.\n",
    "##### while slicing is powerful"
   ]
  },
  {
   "cell_type": "code",
   "execution_count": 63,
   "id": "9bdd3f17",
   "metadata": {},
   "outputs": [
    {
     "name": "stdout",
     "output_type": "stream",
     "text": [
      "Original 4x4:\n",
      " [[ 0  1  2  3]\n",
      " [ 4  5  6  7]\n",
      " [ 8  9 10 11]\n",
      " [12 13 14 15]]\n",
      "2x2 Subarray:\n",
      " [[ 5  6]\n",
      " [ 9 10]]\n"
     ]
    }
   ],
   "source": [
    "arr = np.arange(16).reshape(4, 4)\n",
    "print(\"Original 4x4:\\n\", arr)\n",
    "\n",
    "subarray = arr[1:3, 1:3]  # Extract 2x2 from middle\n",
    "print(\"2x2 Subarray:\\n\", subarray)"
   ]
  },
  {
   "cell_type": "markdown",
   "id": "a51ddfe2",
   "metadata": {},
   "source": [
    "##### QUES4 - What are some common functions in NumPy for performing statistical operations, such as mean, median, and standard deviation? Coding Challenge: Write a Python script that computes the mean, median, and standard deviation of a NumPy array containing 100 random values.\n",
    "##### ANS4 - Common functions are : np.mean(), np.median(), np.std()."
   ]
  },
  {
   "cell_type": "code",
   "execution_count": 64,
   "id": "caf58565",
   "metadata": {},
   "outputs": [
    {
     "name": "stdout",
     "output_type": "stream",
     "text": [
      "original array : [1 2 3 4 5 6 7 8]\n",
      "mean :  4.5\n",
      "median :  4.5\n",
      "standard deviation :  2.29128784747792\n"
     ]
    }
   ],
   "source": [
    "arr = np.array([1,2,3,4,5,6,7,8])\n",
    "print(\"original array :\",arr)\n",
    "\n",
    "## statistical operation\n",
    "np.mean(arr)\n",
    "print(\"mean : \",np.mean(arr))\n",
    "print(\"median : \",np.median(arr))\n",
    "print(\"standard deviation : \",np.std(arr))"
   ]
  },
  {
   "cell_type": "markdown",
   "id": "00c391b0",
   "metadata": {},
   "source": [
    "##### QUES5 - How can you perform element-wise operations and matrix operations using NumPy? Provide examples of both. Coding Challenge: Create two 2D NumPy arrays and perform element-wise addition, subtraction, and matrix multiplication.\n",
    "##### ANS5 - Element-wise: +, -, * (broadcasts element-wise).\n",
    "##### Matrix: np.dot(), @ operator."
   ]
  },
  {
   "cell_type": "code",
   "execution_count": 65,
   "id": "6493a936",
   "metadata": {},
   "outputs": [
    {
     "name": "stdout",
     "output_type": "stream",
     "text": [
      "Element-wise Addition:\n",
      " [[ 6  8]\n",
      " [10 12]]\n",
      "Element-wise Subtraction:\n",
      " [[-4 -4]\n",
      " [-4 -4]]\n",
      "Matrix Multiplication:\n",
      " [[19 22]\n",
      " [43 50]]\n"
     ]
    }
   ],
   "source": [
    "A = np.array([[1, 2], [3, 4]])\n",
    "B = np.array([[5, 6], [7, 8]])\n",
    "\n",
    "print(\"Element-wise Addition:\\n\", A + B)\n",
    "print(\"Element-wise Subtraction:\\n\", A - B)\n",
    "print(\"Matrix Multiplication:\\n\", np.dot(A, B))\n"
   ]
  },
  {
   "cell_type": "markdown",
   "id": "e282b6ab",
   "metadata": {},
   "source": [
    "##### QUES6 - What are broadcasting and how does it work in NumPy? How can you use it to perform operations on arrays of different shapes? Coding Challenge:  Write a Python script that demonstrates broadcasting by adding a 1D array to each row of a 2D array.\n",
    "##### ANS6 - Allows operations on arrays of different shapes."
   ]
  },
  {
   "cell_type": "code",
   "execution_count": 66,
   "id": "cde96119",
   "metadata": {},
   "outputs": [
    {
     "name": "stdout",
     "output_type": "stream",
     "text": [
      "2D array:\n",
      " [[1 2 3]\n",
      " [4 5 6]]\n",
      "1D array:\n",
      " [10 20 30]\n",
      "Result of broadcasting:\n",
      " [[11 22 33]\n",
      " [14 25 36]]\n"
     ]
    }
   ],
   "source": [
    "arr = np.array([[1, 2, 3],[4, 5, 6]])\n",
    "arr1 = np.array([10, 20, 30])\n",
    "\n",
    "result = arr + arr1  # b is broadcasted to each row of A\n",
    "\n",
    "print(\"2D array:\\n\", arr)\n",
    "print(\"1D array:\\n\", arr1)\n",
    "print(\"Result of broadcasting:\\n\", result)\n"
   ]
  },
  {
   "cell_type": "markdown",
   "id": "0c5bec2f",
   "metadata": {},
   "source": [
    "##### QUES7 - How do you handle missing or NaN values in NumPy arrays? What functions or methods can be used for this purpose? Coding Challenge: Create a NumPy array with some NaN values and use NumPy functions to replace NaNs with the mean of the array.\n",
    "##### ANS7 - Use np.isnan(), np.nanmean(), np.nan_to_num()."
   ]
  },
  {
   "cell_type": "code",
   "execution_count": 67,
   "id": "2216c3fd",
   "metadata": {},
   "outputs": [
    {
     "name": "stdout",
     "output_type": "stream",
     "text": [
      "Original: [ 1.  2. nan  4. nan  6.]\n",
      "NaNs replaced with mean: [1.   2.   3.25 4.   3.25 6.  ]\n"
     ]
    }
   ],
   "source": [
    "arr = np.array([1, 2, np.nan, 4, np.nan, 6])\n",
    "print(\"Original:\", arr)\n",
    "\n",
    "mean_val = np.nanmean(arr)\n",
    "arr[np.isnan(arr)] = mean_val\n",
    "\n",
    "print(\"NaNs replaced with mean:\", arr)"
   ]
  },
  {
   "cell_type": "markdown",
   "id": "2399bd58",
   "metadata": {},
   "source": [
    "##### QUES8 - Explain the purpose and usage of NumPy's \"reshape()\" and \"flatten()\" methods. How can you change the shape of an array? Coding Challenge:  Write a Python script that creates a 1D array with 12 elements, reshapes it into a 3x4 array, and then flattens it back into a 1D array\n",
    "##### ANS8 - reshape(): Change shape.\n",
    "##### flatten(): Return a 1D copy."
   ]
  },
  {
   "cell_type": "code",
   "execution_count": 68,
   "id": "a47659db",
   "metadata": {},
   "outputs": [
    {
     "name": "stdout",
     "output_type": "stream",
     "text": [
      "1D array: [ 0  1  2  3  4  5  6  7  8  9 10 11]\n",
      "Reshaped to 3x4:\n",
      " [[ 0  1  2  3]\n",
      " [ 4  5  6  7]\n",
      " [ 8  9 10 11]]\n",
      "Flattened back: [ 0  1  2  3  4  5  6  7  8  9 10 11]\n"
     ]
    }
   ],
   "source": [
    "arr = np.arange(12)\n",
    "print(\"1D array:\", arr)\n",
    "## reshape\n",
    "reshaped = arr.reshape(3, 4)\n",
    "print(\"Reshaped to 3x4:\\n\", reshaped)\n",
    "## flatten\n",
    "flattened = reshaped.flatten()\n",
    "print(\"Flattened back:\", flattened)\n"
   ]
  },
  {
   "cell_type": "markdown",
   "id": "5a95a96d",
   "metadata": {},
   "source": [
    "##### QUES9 - .  What is the role of \"numpy.linalg\" for linear algebra operations? How can you use it to perform operations like matrix inversion or eigenvalue computation? Coding Challenge:  Create a 2x2 matrix and use \"numpy.linalg.inv()\" to compute its inverse. Also, compute the eigenvalues and eigenvectors of the matrix.\n",
    "##### ANS9 - For linear algebra: inversion, eigenvalues, etc."
   ]
  },
  {
   "cell_type": "code",
   "execution_count": 69,
   "id": "59950ae6",
   "metadata": {},
   "outputs": [
    {
     "name": "stdout",
     "output_type": "stream",
     "text": [
      "Matrix:\n",
      " [[4 2]\n",
      " [3 1]]\n",
      "Inverse:\n",
      " [[-0.5  1. ]\n",
      " [ 1.5 -2. ]]\n",
      "Eigenvalues: [ 5.37228132 -0.37228132]\n",
      "Eigenvectors:\n",
      " [[ 0.82456484 -0.41597356]\n",
      " [ 0.56576746  0.90937671]]\n"
     ]
    }
   ],
   "source": [
    "matrix = np.array([[4, 2],[3, 1]])\n",
    "\n",
    "inverse = np.linalg.inv(matrix)\n",
    "eigenvalues, eigenvectors = np.linalg.eig(matrix)\n",
    "\n",
    "print(\"Matrix:\\n\", matrix)\n",
    "print(\"Inverse:\\n\", inverse)\n",
    "print(\"Eigenvalues:\", eigenvalues)\n",
    "print(\"Eigenvectors:\\n\", eigenvectors)"
   ]
  },
  {
   "cell_type": "markdown",
   "id": "3fc1ca4d",
   "metadata": {},
   "source": [
    "##### QUES10 - How can you save and load NumPy arrays to and from files? What formats are supported? Coding Challenge:  Write a Python script that saves a NumPy array to a file using \"numpy.save()\" and then loads it back using \"numpy.load()\".\n",
    "##### ANS10 - np.save() → .npy binary.\n",
    "##### np.load() to read it back."
   ]
  },
  {
   "cell_type": "code",
   "execution_count": 70,
   "id": "a05326dc",
   "metadata": {},
   "outputs": [
    {
     "name": "stdout",
     "output_type": "stream",
     "text": [
      "Original: [1 2 3 4 5]\n",
      "Loaded: [1 2 3 4 5]\n"
     ]
    }
   ],
   "source": [
    "arr = np.array([1, 2, 3, 4, 5])\n",
    "\n",
    "np.save('my_array.npy', arr)\n",
    "loaded_arr = np.load('my_array.npy')\n",
    "\n",
    "print(\"Original:\", arr)\n",
    "print(\"Loaded:\", loaded_arr)\n"
   ]
  }
 ],
 "metadata": {
  "kernelspec": {
   "display_name": "Python 3",
   "language": "python",
   "name": "python3"
  },
  "language_info": {
   "codemirror_mode": {
    "name": "ipython",
    "version": 3
   },
   "file_extension": ".py",
   "mimetype": "text/x-python",
   "name": "python",
   "nbconvert_exporter": "python",
   "pygments_lexer": "ipython3",
   "version": "3.11.9"
  }
 },
 "nbformat": 4,
 "nbformat_minor": 5
}
