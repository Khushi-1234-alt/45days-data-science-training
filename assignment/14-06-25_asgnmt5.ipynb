{
 "cells": [
  {
   "cell_type": "markdown",
   "id": "045c419f",
   "metadata": {},
   "source": [
    "# ASSIGNMENT 5 \n",
    "### OOP\n",
    "#### OOPS CONCEPT\n",
    "##### QUES1 - What is the difference between a class and an object in Python? How do they relate to each other in the context of OOP?  Coding Challenge:   Define a class \"Book\" with attributes like \"title\", \"author\", and \"year_published\". Create an instance of the class and print out its attributes.\n",
    "##### ANS1 - Class: Blueprint for creating objects (defines attributes & behaviors).\n",
    "##### Object: Instance of a class — real entity with actual data."
   ]
  },
  {
   "cell_type": "code",
   "execution_count": 48,
   "id": "c05da036",
   "metadata": {},
   "outputs": [
    {
     "name": "stdout",
     "output_type": "stream",
     "text": [
      "Title: 1984, Author: George Orwell, Year: 1949\n"
     ]
    }
   ],
   "source": [
    "class Book:\n",
    "    def __init__(self, title, author, year_published):\n",
    "        self.title = title\n",
    "        self.author = author\n",
    "        self.year_published = year_published\n",
    "\n",
    "# Create an instance\n",
    "my_book = Book(\"1984\", \"George Orwell\", 1949)\n",
    "print(f\"Title: {my_book.title}, Author: {my_book.author}, Year: {my_book.year_published}\")\n"
   ]
  },
  {
   "cell_type": "markdown",
   "id": "adfeddc3",
   "metadata": {},
   "source": [
    "##### QUES2 - Explain the concept of inheritance in Python. How does it promote code reuse and what are some potential pitfalls?  Coding Challenge:   Create a base class \"Vehicle\" with a method \"move\". Then, create two derived classes \"Car\" and \"Bike\" that inherit from \"Vehicle\" and override the \"move\" method.\n",
    "##### ANS2 - Allows a class to use features of another class. Promotes code reuse."
   ]
  },
  {
   "cell_type": "code",
   "execution_count": 49,
   "id": "6e0f2434",
   "metadata": {},
   "outputs": [
    {
     "name": "stdout",
     "output_type": "stream",
     "text": [
      "Vehicle is moving\n",
      "Car is driving on road\n",
      "Bike is zooming on road\n"
     ]
    }
   ],
   "source": [
    "class Vehicle:\n",
    "    def move(self):\n",
    "        print(\"Vehicle is moving\")\n",
    "\n",
    "class Car(Vehicle):\n",
    "    def move(self):\n",
    "        print(\"Car is driving on road\")\n",
    "\n",
    "class Bike(Vehicle):\n",
    "    def move(self):\n",
    "        print(\"Bike is zooming on road\")\n",
    "\n",
    "v = Vehicle()\n",
    "c = Car()\n",
    "b = Bike()\n",
    "\n",
    "v.move()\n",
    "c.move()\n",
    "b.move()\n"
   ]
  },
  {
   "cell_type": "markdown",
   "id": "5cd11fd7",
   "metadata": {},
   "source": [
    "##### QUES3 - What is polymorphism in Python, and how is it implemented through method overriding and method overloading?  Coding Challenge: Write a function \"move_vehicle\" that takes an object as input and calls its \"move\" method. Create different classes (\"Boat\", \"Airplane\", etc.) that have their own \"move\" methods and pass their instances to \"move_vehicle\".\n",
    "##### ANS3 - Same interface, different behavior.\n",
    "##### Method overriding: child class redefines method."
   ]
  },
  {
   "cell_type": "code",
   "execution_count": 50,
   "id": "1a1113c6",
   "metadata": {},
   "outputs": [
    {
     "name": "stdout",
     "output_type": "stream",
     "text": [
      "Boat is sailing\n",
      "Airplane is flying\n"
     ]
    }
   ],
   "source": [
    "class Boat:\n",
    "    def move(self):\n",
    "        print(\"Boat is sailing\")\n",
    "\n",
    "class Airplane:\n",
    "    def move(self):\n",
    "        print(\"Airplane is flying\")\n",
    "\n",
    "def move_vehicle(vehicle):\n",
    "    vehicle.move()\n",
    "\n",
    "boat = Boat()\n",
    "plane = Airplane()\n",
    "\n",
    "move_vehicle(boat)\n",
    "move_vehicle(plane)"
   ]
  },
  {
   "cell_type": "markdown",
   "id": "1e1e03bd",
   "metadata": {},
   "source": [
    "##### QUES4 - What are class methods and static methods in Python? How do they differ from instance methods?  Coding Challenge:   Define a class \"Calculator\" with a static method \"multiply(a, b)\" that returns the product of \"a\" and \"b\", and a class method \"from_values\" that creates an instance from a list of two values and returns their product.\n",
    "##### ANS4 - ---> Instance methods: Operate on object (self).\n",
    "##### ---> Class methods: Operate on class (cls).\n",
    "##### ---> Static methods: No access to class or object — utility."
   ]
  },
  {
   "cell_type": "code",
   "execution_count": 51,
   "id": "03dc05e8",
   "metadata": {},
   "outputs": [
    {
     "name": "stdout",
     "output_type": "stream",
     "text": [
      "12\n",
      "30\n"
     ]
    }
   ],
   "source": [
    "class Calculator:\n",
    "    @staticmethod\n",
    "    def multiply(a, b):  ## direct parameter and argument passing\n",
    "        return a * b\n",
    "\n",
    "    @classmethod\n",
    "    def from_values(cls, values):      ## operate on class and take value \n",
    "        return cls.multiply(values[0], values[1])\n",
    "\n",
    "print(Calculator.multiply(3, 4))\n",
    "print(Calculator.from_values([5, 6]))\n"
   ]
  },
  {
   "cell_type": "markdown",
   "id": "71fc77a7",
   "metadata": {},
   "source": [
    "##### QUES5 - Explain the concept of encapsulation and how Python supports it through public, protected, and private attributes and methods.  Coding Challenge: Create a class \"Person\" with private attributes \"name\" and \"age\", and methods to set and get these attributes. Ensure that direct access to \"name\" and \"age\" is not allowed from outside the class.\n",
    "##### ANS5 - Hiding internal details.\n",
    "##### Private: __attr\n",
    "##### Protected: _attr"
   ]
  },
  {
   "cell_type": "code",
   "execution_count": 52,
   "id": "6c528e9d",
   "metadata": {},
   "outputs": [
    {
     "name": "stdout",
     "output_type": "stream",
     "text": [
      "Khushi\n",
      "21\n"
     ]
    }
   ],
   "source": [
    "class Person:\n",
    "    def __init__(self, name, age):\n",
    "        self.__name = name\n",
    "        self.__age = age\n",
    "\n",
    "    def set_name(self, name):\n",
    "        self.__name = name\n",
    "\n",
    "    def get_name(self):\n",
    "        return self.__name\n",
    "\n",
    "    def set_age(self, age):\n",
    "        self.__age = age\n",
    "\n",
    "    def get_age(self):\n",
    "        return self.__age\n",
    "\n",
    "p = Person(\"Khushi\", 21)\n",
    "print(p.get_name())\n",
    "print(p.get_age())\n"
   ]
  },
  {
   "cell_type": "markdown",
   "id": "1d282aba",
   "metadata": {},
   "source": [
    "##### QUES6 - What is the purpose of the \"__init__\" method in Python classes? How does it differ from other methods?  Coding Challenge:   Write a class \"Product\" with an \"__init__\" method that initializes the product's \"name\" and \"price\". Create an instance of \"Product\" and print the product's details.\n",
    "##### ANS6 - Constructor: runs when object is created. Initializes attributes."
   ]
  },
  {
   "cell_type": "code",
   "execution_count": 53,
   "id": "a5d996c8",
   "metadata": {},
   "outputs": [
    {
     "name": "stdout",
     "output_type": "stream",
     "text": [
      "Product: Laptop, Price: 58000\n"
     ]
    }
   ],
   "source": [
    "class Product:\n",
    "    def __init__(self, name, price):\n",
    "        self.name = name\n",
    "        self.price = price\n",
    "\n",
    "product = Product(\"Laptop\", 58000)\n",
    "print(f\"Product: {product.name}, Price: {product.price}\")\n"
   ]
  },
  {
   "cell_type": "markdown",
   "id": "4e66bff5",
   "metadata": {},
   "source": [
    "##### QUES7 - How does Python implement multiple inheritance, and what is the method resolution order (MRO)? How does MRO resolve conflicts in multiple inheritance?  Coding Challenge: Create two classes \"Appliance\" and \"Electronic\" with a method \"operate()\". Then, create a class \"SmartFridge\" that inherits from both \"Appliance\" and \"Electronic\" and overrides \"operate()\". Use \"super()\" to demonstrate MRO in \"SmartFridge\".\n",
    "##### ANS7 - MRO decides method call order."
   ]
  },
  {
   "cell_type": "code",
   "execution_count": 54,
   "id": "da2d6e0d",
   "metadata": {},
   "outputs": [
    {
     "name": "stdout",
     "output_type": "stream",
     "text": [
      "SmartFridge operating\n",
      "Appliance operating\n",
      "(<class '__main__.SmartFridge'>, <class '__main__.Appliance'>, <class '__main__.Electronic'>, <class 'object'>)\n"
     ]
    }
   ],
   "source": [
    "class Appliance:\n",
    "    def operate(self):\n",
    "        print(\"Appliance operating\")\n",
    "\n",
    "class Electronic:\n",
    "    def operate(self):\n",
    "        print(\"Electronic operating\")\n",
    "\n",
    "class SmartFridge(Appliance, Electronic):\n",
    "    def operate(self):\n",
    "        print(\"SmartFridge operating\")\n",
    "        super().operate()\n",
    "\n",
    "sf = SmartFridge()\n",
    "sf.operate()\n",
    "\n",
    "print(SmartFridge.__mro__)  # Shows MRO order\n"
   ]
  },
  {
   "cell_type": "markdown",
   "id": "3c87af4f",
   "metadata": {},
   "source": [
    "##### QUES8 - What are special methods (also known as magic methods) in Python? How can they be used to customize the behavior of Python classes?  Coding Challenge:   Implement the \"__eq__\" and \"__lt__\" methods in a \"Book\" class to compare books based on their \"year_published\".\n",
    "##### ANS8 - "
   ]
  },
  {
   "cell_type": "code",
   "execution_count": 55,
   "id": "41b5ea7a",
   "metadata": {},
   "outputs": [
    {
     "name": "stdout",
     "output_type": "stream",
     "text": [
      "False\n",
      "True\n"
     ]
    }
   ],
   "source": [
    "class Book:\n",
    "    def __init__(self, title, year_published):\n",
    "        self.title = title\n",
    "        self.year_published = year_published\n",
    "\n",
    "    def __eq__(self, other):\n",
    "        return self.year_published == other.year_published\n",
    "\n",
    "    def __lt__(self, other):\n",
    "        return self.year_published < other.year_published\n",
    "\n",
    "book1 = Book(\"Book A\", 2000)\n",
    "book2 = Book(\"Book B\", 2010)\n",
    "\n",
    "print(book1 == book2)  # False\n",
    "print(book1 < book2)   # True\n"
   ]
  },
  {
   "cell_type": "markdown",
   "id": "b1d76a7e",
   "metadata": {},
   "source": [
    "##### QUES9 - What is the difference between composition and inheritance in OOP? When would you use composition instead of inheritance?  Coding Challenge: Create a class \"Engine\" and a class \"Truck\" that uses composition by having an instance of \"Engine\" as an attribute of \"Truck\".\n",
    "##### ANS9 - Inheritance establishes an \"is-a\" relationship between classes.\n",
    "##### Composition, on the other hand, establishes a \"has-a\" relationship."
   ]
  },
  {
   "cell_type": "code",
   "execution_count": 56,
   "id": "6633993e",
   "metadata": {},
   "outputs": [
    {
     "name": "stdout",
     "output_type": "stream",
     "text": [
      "Engine started\n",
      "Truck is ready to go\n"
     ]
    }
   ],
   "source": [
    "class Engine:\n",
    "    def start(self):\n",
    "        print(\"Engine started\")\n",
    "\n",
    "class Truck:\n",
    "    def __init__(self):\n",
    "        self.engine = Engine()\n",
    "\n",
    "    def start(self):\n",
    "        self.engine.start()\n",
    "        print(\"Truck is ready to go\")\n",
    "\n",
    "truck = Truck()\n",
    "truck.start()"
   ]
  },
  {
   "cell_type": "markdown",
   "id": "9687959e",
   "metadata": {},
   "source": [
    "##### QUES10 - Explain the purpose of property decorators (`@property`) in Python. How do they contribute to data encapsulation and controlled access to class attributes?  Coding Challenge:   Write a class \"Circle\" with attributes \"radius\". Use property decorators to create a `diameter` property that returns the diameter of the circle and an \"area\" property that returns the area of the circle.\n",
    "##### ANS10 - @property makes method act like attribute. Used for controlled access."
   ]
  },
  {
   "cell_type": "code",
   "execution_count": 57,
   "id": "1abd1401",
   "metadata": {},
   "outputs": [
    {
     "name": "stdout",
     "output_type": "stream",
     "text": [
      "Radius: 5, Diameter: 10, Area: 78.54\n"
     ]
    }
   ],
   "source": [
    "import math\n",
    "\n",
    "class Circle:\n",
    "    def __init__(self, radius):\n",
    "        self.radius = radius\n",
    "\n",
    "    @property\n",
    "    def diameter(self):\n",
    "        return self.radius * 2\n",
    "\n",
    "    @property\n",
    "    def area(self):\n",
    "        return math.pi * self.radius ** 2\n",
    "\n",
    "c = Circle(5)\n",
    "print(f\"Radius: {c.radius}, Diameter: {c.diameter}, Area: {c.area:.2f}\")\n"
   ]
  }
 ],
 "metadata": {
  "kernelspec": {
   "display_name": "Python 3",
   "language": "python",
   "name": "python3"
  },
  "language_info": {
   "codemirror_mode": {
    "name": "ipython",
    "version": 3
   },
   "file_extension": ".py",
   "mimetype": "text/x-python",
   "name": "python",
   "nbconvert_exporter": "python",
   "pygments_lexer": "ipython3",
   "version": "3.11.9"
  }
 },
 "nbformat": 4,
 "nbformat_minor": 5
}
