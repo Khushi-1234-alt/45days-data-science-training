{
 "cells": [
  {
   "cell_type": "markdown",
   "id": "aa18b677",
   "metadata": {},
   "source": [
    "# OOPS -- object oriented programming\n",
    "##### It consist of class, object, method\n",
    "##### 4 pillar of oop\n",
    "##### > inheritance --- single, hybrid , hierarchical , multilevel , multiple\n",
    "##### > polymorphism\n",
    "##### > encapsulation \n",
    "##### > Abstraction \n",
    "\n",
    "### CLASS --- blueprint of object \n",
    "### OBJECT --- instance of class"
   ]
  },
  {
   "cell_type": "code",
   "execution_count": 59,
   "id": "288cc200",
   "metadata": {},
   "outputs": [
    {
     "data": {
      "text/plain": [
       "30"
      ]
     },
     "execution_count": 59,
     "metadata": {},
     "output_type": "execute_result"
    }
   ],
   "source": [
    "## class , object , self\n",
    "class car:\n",
    "    num1 = 10\n",
    "    num2 = 20\n",
    "    name = \"abc\"\n",
    "    model = \"xyz\"\n",
    "    \n",
    "    def add(self):\n",
    "        return self.num1 + self.num2   ## self help to access variables and methods itself in the class.\n",
    "    \n",
    "    def display(self):\n",
    "        return self.name , self.model\n",
    "    \n",
    "# obj == object (to access object outside the class)\n",
    "obj = car()\n",
    "obj.display()\n",
    "obj.add()"
   ]
  },
  {
   "cell_type": "markdown",
   "id": "dbae41dd",
   "metadata": {},
   "source": [
    "## Constructor"
   ]
  },
  {
   "cell_type": "code",
   "execution_count": 60,
   "id": "b063121a",
   "metadata": {},
   "outputs": [
    {
     "data": {
      "text/plain": [
       "('lion', 10)"
      ]
     },
     "execution_count": 60,
     "metadata": {},
     "output_type": "execute_result"
    }
   ],
   "source": [
    "## use of constructor to take input\n",
    "## constructor used is __init__(initialize variable)\n",
    "class animal:\n",
    "    def __init__(self,name,age):   ## passing parameter(instance variable)\n",
    "        self.name = name     # variable:parameter \n",
    "        self.age = age\n",
    "    def display(self):\n",
    "        return self.name , self.age \n",
    "obj = animal(\"lion\",10)\n",
    "obj.display()\n",
    "        "
   ]
  },
  {
   "cell_type": "markdown",
   "id": "f2a6b2b4",
   "metadata": {},
   "source": [
    "## Inheritance --> Inheritance allows us to define a class that inherits all the methods and properties from another class.\n",
    "##### main types of inheritance --->\n",
    "##### >> single "
   ]
  },
  {
   "cell_type": "code",
   "execution_count": 61,
   "id": "ea55b18a",
   "metadata": {},
   "outputs": [
    {
     "name": "stdout",
     "output_type": "stream",
     "text": [
      "car\n",
      "bike\n"
     ]
    }
   ],
   "source": [
    "## single Inheritance \n",
    "class car:\n",
    "    def display(self):\n",
    "        return \"car\"\n",
    "class bike(car):   ## concept of inheritance apply : child class(parent class)\n",
    "    def show(bike):\n",
    "        return \"bike\"\n",
    "obj = bike()\n",
    "print(obj.display())\n",
    "print(obj.show())"
   ]
  },
  {
   "cell_type": "code",
   "execution_count": 62,
   "id": "0bc9e205",
   "metadata": {},
   "outputs": [
    {
     "data": {
      "text/plain": [
       "'abc'"
      ]
     },
     "execution_count": 62,
     "metadata": {},
     "output_type": "execute_result"
    }
   ],
   "source": [
    "class person:\n",
    "    def __init__(self , name):\n",
    "        self.name = name \n",
    "    \n",
    "    def show(self):\n",
    "        return self.name\n",
    "        \n",
    "class employee(person):\n",
    "    def __init__(self , name , salary):\n",
    "        super().__init__(name)  ## working of super keyword \n",
    "        self.salary = salary\n",
    "obj = employee(\"abc\",1000)\n",
    "obj.show()\n",
    " "
   ]
  },
  {
   "cell_type": "code",
   "execution_count": 63,
   "id": "67597a4a",
   "metadata": {},
   "outputs": [
    {
     "data": {
      "text/plain": [
       "'abc'"
      ]
     },
     "execution_count": 63,
     "metadata": {},
     "output_type": "execute_result"
    }
   ],
   "source": [
    "## multiple inheritance \n",
    "class person:\n",
    "    def __init__(self , name):\n",
    "        self.name = name \n",
    "    \n",
    "    def show(self):\n",
    "        return self.name\n",
    "        \n",
    "class employee(person):\n",
    "    def __init__(self , name , salary):\n",
    "        super().__init__(name)  ## working of super keyword \n",
    "        self.salary = salary\n",
    "        \n",
    "class job:\n",
    "    def __init__(self , number):\n",
    "        self.number = number\n",
    "\n",
    "class employeepersonjob(employee , job ):\n",
    "    def __init__(self , name , number):\n",
    "        employee.__init__(self , name ,number)\n",
    "        job.__init__(self , number)\n",
    "\n",
    "obj = employeepersonjob(\"abc\",10000)\n",
    "obj.show()"
   ]
  },
  {
   "cell_type": "code",
   "execution_count": 64,
   "id": "43de6727",
   "metadata": {},
   "outputs": [
    {
     "name": "stdout",
     "output_type": "stream",
     "text": [
      "abc\n",
      "1234\n",
      "1234567889\n"
     ]
    }
   ],
   "source": [
    "## Multilevel inheritance \n",
    "class person:\n",
    "    def __init__(self , name):\n",
    "        self.name = name \n",
    "    \n",
    "    def show(self):\n",
    "        return self.name\n",
    "        \n",
    "class employee(person):\n",
    "    def __init__(self , name , salary):\n",
    "        super().__init__(name)  ## working of super keyword \n",
    "        self.salary = salary\n",
    "        \n",
    "class job:\n",
    "    def __init__(self , number):\n",
    "        self.number = number\n",
    "\n",
    "class employeepersonjob(employee , job ):\n",
    "    def __init__(self , name , salary, number):\n",
    "        employee.__init__(self , name ,salary)\n",
    "        job.__init__(self , number)\n",
    "\n",
    "obj = employeepersonjob(\"abc\",1234, 1234567889)\n",
    "print(obj.show())  # From Person\n",
    "print(obj.salary)  # From Employee\n",
    "print(obj.number)  # From EmployeePersonJob\n",
    "    "
   ]
  },
  {
   "cell_type": "markdown",
   "id": "40a29cc8",
   "metadata": {},
   "source": [
    "## POLYMORPHISM ---> \n",
    "#### The word \"polymorphism\" means \"many forms\", and in programming it refers to methods/functions/operators with the same name that can be executed on many objects or classes."
   ]
  },
  {
   "cell_type": "code",
   "execution_count": 65,
   "id": "25cef694",
   "metadata": {},
   "outputs": [
    {
     "name": "stdout",
     "output_type": "stream",
     "text": [
      "meow\n",
      "bark\n"
     ]
    }
   ],
   "source": [
    "class Cat:\n",
    "    def sound(self):\n",
    "        return \"meow\"\n",
    "\n",
    "class Dog:\n",
    "    def sound(self):\n",
    "        return \"bark\"\n",
    "\n",
    "# Polymorphic function\n",
    "def make_sound(animal):\n",
    "    print(animal.sound())\n",
    "\n",
    "# Create objects\n",
    "c = Cat()\n",
    "d = Dog()\n",
    "\n",
    "# Use the same function for different objects\n",
    "make_sound(c)  # Output: meow\n",
    "make_sound(d)  # Output: bark\n",
    "\n",
    "\n"
   ]
  },
  {
   "cell_type": "markdown",
   "id": "00862d28",
   "metadata": {},
   "source": [
    "#### ques- different shapes and calculate their area "
   ]
  },
  {
   "cell_type": "code",
   "execution_count": 66,
   "id": "353a1125",
   "metadata": {},
   "outputs": [
    {
     "name": "stdout",
     "output_type": "stream",
     "text": [
      "153.86\n",
      "24\n",
      "12.0\n"
     ]
    }
   ],
   "source": [
    "# creating class of different shapes \n",
    "class Circle:\n",
    "    def __init__(self, radius):\n",
    "        self.radius = radius\n",
    "\n",
    "    def area(self):\n",
    "        return 3.14 * self.radius * self.radius\n",
    "\n",
    "class Rectangle:\n",
    "    def __init__(self, length, width):\n",
    "        self.length = length\n",
    "        self.width = width\n",
    "\n",
    "    def area(self):\n",
    "        return self.length * self.width\n",
    "\n",
    "class Triangle:\n",
    "    def __init__(self, base, height):\n",
    "        self.base = base\n",
    "        self.height = height\n",
    "\n",
    "    def area(self):\n",
    "        return 0.5 * self.base * self.height\n",
    "\n",
    "# Create objects\n",
    "circle = Circle(7)\n",
    "rectangle = Rectangle(4, 6)\n",
    "triangle = Triangle(3, 8)\n",
    "\n",
    "# Print areas directly\n",
    "print( circle.area())\n",
    "print( rectangle.area())\n",
    "print( triangle.area())\n",
    "\n",
    "    "
   ]
  },
  {
   "cell_type": "markdown",
   "id": "1d904c66",
   "metadata": {},
   "source": [
    "## ENCAPSULATION \n",
    "#### it means hiding the internal details(methods and properties) of a class and protecting data from being access or modified directly by the outside world\n",
    "#### we can do it by using private and protected variable \n",
    "#### private variable ---> __name\n",
    "#### cannot be accessed outside the class\n",
    "\n",
    "#### protected variable ---> _name \n",
    "#### it can be accessed inside the class and its subclass"
   ]
  },
  {
   "cell_type": "code",
   "execution_count": 70,
   "id": "4615fcca",
   "metadata": {},
   "outputs": [
    {
     "data": {
      "text/plain": [
       "50"
      ]
     },
     "execution_count": 70,
     "metadata": {},
     "output_type": "execute_result"
    }
   ],
   "source": [
    "## private variable \n",
    "class student:\n",
    "    def __init__(self , name , marks):\n",
    "        self.name = name\n",
    "        self.__marks = marks\n",
    "    \n",
    "    def get_marks(self):\n",
    "        return self.__marks \n",
    "    \n",
    "    def set_marks(self , marks):\n",
    "        if 0 <= marks <= 100:\n",
    "            self,__marks = marks\n",
    "        else:\n",
    "            print(\"invalid marks\")\n",
    "            \n",
    "s = student(\"abc\" , 50)\n",
    "## name mangling \n",
    "s._student__marks\n",
    "# print(s.name)\n",
    "# print(s.get_marks())"
   ]
  }
 ],
 "metadata": {
  "kernelspec": {
   "display_name": "Python 3",
   "language": "python",
   "name": "python3"
  },
  "language_info": {
   "codemirror_mode": {
    "name": "ipython",
    "version": 3
   },
   "file_extension": ".py",
   "mimetype": "text/x-python",
   "name": "python",
   "nbconvert_exporter": "python",
   "pygments_lexer": "ipython3",
   "version": "3.11.9"
  }
 },
 "nbformat": 4,
 "nbformat_minor": 5
}
