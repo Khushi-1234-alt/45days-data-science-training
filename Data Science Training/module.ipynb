{
 "cells": [
  {
   "cell_type": "markdown",
   "id": "de41611e",
   "metadata": {},
   "source": [
    "# MODULE \n",
    "##### > It import other python file into current file\n",
    "##### > It is a single python file(.py)\n",
    "##### > Modules are of three types:\n",
    "   #####    >> built in module --- OS , datetime , re(regular expression , math)\n",
    "   #####    >> third party module --- pandas, numpy\n",
    "   #####    >> user define module --- user made\n",
    "\n"
   ]
  },
  {
   "cell_type": "code",
   "execution_count": 2,
   "id": "26cacab9",
   "metadata": {},
   "outputs": [],
   "source": [
    "## built in module \n",
    "import os\n",
    "from functools import reduce "
   ]
  },
  {
   "cell_type": "code",
   "execution_count": 5,
   "id": "c42c0bce",
   "metadata": {},
   "outputs": [
    {
     "name": "stdout",
     "output_type": "stream",
     "text": [
      "5\n"
     ]
    }
   ],
   "source": [
    "## user define module\n",
    "from basics import addfunction\n",
    "print(addfunction(2,3))"
   ]
  }
 ],
 "metadata": {
  "kernelspec": {
   "display_name": "Python 3",
   "language": "python",
   "name": "python3"
  },
  "language_info": {
   "codemirror_mode": {
    "name": "ipython",
    "version": 3
   },
   "file_extension": ".py",
   "mimetype": "text/x-python",
   "name": "python",
   "nbconvert_exporter": "python",
   "pygments_lexer": "ipython3",
   "version": "3.11.9"
  }
 },
 "nbformat": 4,
 "nbformat_minor": 5
}
