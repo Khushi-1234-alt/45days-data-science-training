{
 "cells": [
  {
   "cell_type": "markdown",
   "id": "038c0412",
   "metadata": {},
   "source": [
    "# Tuple"
   ]
  },
  {
   "cell_type": "markdown",
   "id": "b441c0ac",
   "metadata": {},
   "source": [
    "##### Tuple -- ordered, immutable, allow duplicate, hetrogenous\n",
    "##### denoted by (parenthesis)"
   ]
  },
  {
   "cell_type": "code",
   "execution_count": 2,
   "id": "cd1da2b5",
   "metadata": {},
   "outputs": [
    {
     "name": "stdout",
     "output_type": "stream",
     "text": [
      "('red', 'blue', 'white', 'green', 'black')\n",
      "<class 'tuple'>\n"
     ]
    }
   ],
   "source": [
    "tpl = (\"red\",\"blue\",\"white\", \"green\",\"black\")\n",
    "print(tpl)\n",
    "print(type(tpl))"
   ]
  },
  {
   "cell_type": "markdown",
   "id": "1bc4d8f3",
   "metadata": {},
   "source": [
    "### methods of tuples"
   ]
  },
  {
   "cell_type": "code",
   "execution_count": 4,
   "id": "6d9020b9",
   "metadata": {},
   "outputs": [
    {
     "data": {
      "text/plain": [
       "2"
      ]
     },
     "execution_count": 4,
     "metadata": {},
     "output_type": "execute_result"
    }
   ],
   "source": [
    "tpl = (\"red\",\"blue\",\"white\", \"green\",\"black\")\n",
    "tpl.count(\"red\")\n",
    "tpl.index(\"white\")"
   ]
  },
  {
   "cell_type": "code",
   "execution_count": 7,
   "id": "21877212",
   "metadata": {},
   "outputs": [
    {
     "name": "stdout",
     "output_type": "stream",
     "text": [
      "('pink', 'blue', 'white', 'green', 'black')\n"
     ]
    }
   ],
   "source": [
    "## how to convert tuple into list \n",
    "tpl = (\"red\",\"blue\",\"white\", \"green\",\"black\")\n",
    "temp = list(tpl)         # Convert to list\n",
    "temp[0] = \"pink\"          # Modify element\n",
    "tpl2 = tuple(temp)        \n",
    "print(tpl2)               \n"
   ]
  }
 ],
 "metadata": {
  "kernelspec": {
   "display_name": "Python 3",
   "language": "python",
   "name": "python3"
  },
  "language_info": {
   "codemirror_mode": {
    "name": "ipython",
    "version": 3
   },
   "file_extension": ".py",
   "mimetype": "text/x-python",
   "name": "python",
   "nbconvert_exporter": "python",
   "pygments_lexer": "ipython3",
   "version": "3.13.1"
  }
 },
 "nbformat": 4,
 "nbformat_minor": 5
}
