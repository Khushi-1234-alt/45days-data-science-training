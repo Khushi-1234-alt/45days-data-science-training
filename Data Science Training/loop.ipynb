{
 "cells": [
  {
   "cell_type": "markdown",
   "id": "f7d79faa",
   "metadata": {},
   "source": [
    "# Loops\n",
    "#### types of loops in python - FOR and WHILE "
   ]
  },
  {
   "cell_type": "markdown",
   "id": "ab2333c2",
   "metadata": {},
   "source": [
    "### FOR LOOP \n",
    "##### definition - A for loop is used to repeat a block of code for each item in a sequence (like a list, string, or range)."
   ]
  },
  {
   "cell_type": "code",
   "execution_count": 69,
   "id": "41933060",
   "metadata": {},
   "outputs": [
    {
     "name": "stdout",
     "output_type": "stream",
     "text": [
      "2\n",
      "4\n",
      "6\n",
      "8\n"
     ]
    }
   ],
   "source": [
    "# for i in \"hello\":\n",
    "#     print(i)\n",
    "    \n",
    "# using for loop in list \n",
    "# lst = [\"red\",\"blue\",\"green\",\"black\"]\n",
    "# for i in lst:\n",
    "#     print(i, end= \", \")\n",
    "    \n",
    "# using dictionary in for loop \n",
    "# student = {\n",
    "#     \"name\": \"Khushi\",\n",
    "#     \"age\": 21,\n",
    "#     \"city\": \"Ajmer\"\n",
    "# }\n",
    "# for key , value in student.items() :\n",
    "#     print(key,\":\",value, end=\" | \" )\n",
    "    \n",
    "# using for loop in range \n",
    "# for i in range(10):\n",
    "#     print(i)\n",
    "    \n",
    "# giving starting ending, and skip  value \n",
    "for i in range(2,10,2):\n",
    "    print(i)\n",
    "\n"
   ]
  },
  {
   "cell_type": "markdown",
   "id": "3ef90dfe",
   "metadata": {},
   "source": [
    "#### Nested loop"
   ]
  },
  {
   "cell_type": "code",
   "execution_count": 70,
   "id": "1f97318d",
   "metadata": {},
   "outputs": [
    {
     "name": "stdout",
     "output_type": "stream",
     "text": [
      "1 red\n",
      "--------\n",
      "1 blue\n",
      "--------\n",
      "1 green\n",
      "--------\n",
      "2 red\n",
      "--------\n",
      "2 blue\n",
      "--------\n",
      "2 green\n",
      "--------\n",
      "3 red\n",
      "--------\n",
      "3 blue\n",
      "--------\n",
      "3 green\n",
      "--------\n"
     ]
    }
   ],
   "source": [
    "lst1 = [1,2,3]\n",
    "lst2 = [\"red\",\"blue\",\"green\"]\n",
    "for i in lst1:\n",
    "    for j in lst2:\n",
    "        print(i,j)\n",
    "        print(\"--------\")"
   ]
  },
  {
   "cell_type": "markdown",
   "id": "2868013e",
   "metadata": {},
   "source": [
    "#### Keyword in for loop \n",
    "#### Break , Continue and pass"
   ]
  },
  {
   "cell_type": "code",
   "execution_count": 71,
   "id": "2e77746b",
   "metadata": {},
   "outputs": [
    {
     "name": "stdout",
     "output_type": "stream",
     "text": [
      "1\n",
      "2\n",
      "3\n",
      "4\n",
      "1\n",
      "2\n",
      "3\n",
      "4\n",
      "6\n",
      "7\n",
      "8\n",
      "9\n"
     ]
    }
   ],
   "source": [
    "# break\n",
    "for i in range (1,10):\n",
    "    if i == 5:\n",
    "        break    ## break if it found the given condition and stop \n",
    "    print (i)\n",
    "#  continue \n",
    "for i in range (1,10):\n",
    "    if i == 5:\n",
    "        continue  ## break that particular condition and continue working until it reaches to end \n",
    "    print(i)\n",
    "    \n",
    "# pass\n",
    "for i in range(1,10):\n",
    "    pass  ## stop the current function working w/o any error"
   ]
  },
  {
   "cell_type": "markdown",
   "id": "50521dd3",
   "metadata": {},
   "source": [
    "##### ques- you have to square the given list and print the output in list "
   ]
  },
  {
   "cell_type": "code",
   "execution_count": 72,
   "id": "df69c438",
   "metadata": {},
   "outputs": [
    {
     "name": "stdout",
     "output_type": "stream",
     "text": [
      "[1, 4, 9, 16, 25]\n"
     ]
    }
   ],
   "source": [
    "numbers = [1, 2, 3, 4, 5]\n",
    "sq_num = []    ## empty square list \n",
    "\n",
    "for num in numbers:\n",
    "    sq_num.append(num ** 2)  ## add square value in the squared list \n",
    "\n",
    "print(sq_num)\n"
   ]
  },
  {
   "cell_type": "markdown",
   "id": "aa2ec422",
   "metadata": {},
   "source": [
    "### WHILE LOOP \n",
    "##### With the while loop we can execute a set of statements as long as a condition is true."
   ]
  },
  {
   "cell_type": "code",
   "execution_count": 73,
   "id": "3b5e3947",
   "metadata": {},
   "outputs": [
    {
     "name": "stdout",
     "output_type": "stream",
     "text": [
      "10\n",
      "9\n",
      "8\n",
      "7\n",
      "6\n",
      "5\n",
      "4\n",
      "3\n",
      "2\n",
      "1\n"
     ]
    }
   ],
   "source": [
    "# i = 1  ## starting point \n",
    "# while i <=10:   ## condition \n",
    "#     print(i)\n",
    "#     i+=1     ## increment by one if not written the infinite loop \n",
    "    \n",
    "# print in reverse order \n",
    "i = 10\n",
    "while i>=1:\n",
    "    print(i)\n",
    "    i-=1\n",
    "    "
   ]
  },
  {
   "cell_type": "markdown",
   "id": "11d1a0f8",
   "metadata": {},
   "source": [
    "#### keywords in while loop \n",
    "##### break, continue, pass"
   ]
  },
  {
   "cell_type": "code",
   "execution_count": 1,
   "id": "f3fedb12",
   "metadata": {},
   "outputs": [
    {
     "name": "stdout",
     "output_type": "stream",
     "text": [
      "1\n",
      "2\n",
      "3\n",
      "4\n",
      "5\n",
      "6\n",
      "8\n",
      "9\n",
      "10\n"
     ]
    }
   ],
   "source": [
    "# break\n",
    "# i = 1\n",
    "# while i<=10:\n",
    "#     if i == 7:\n",
    "#         break\n",
    "#     print(i)\n",
    "#     i+=1\n",
    "    \n",
    "# continue \n",
    "i = 1\n",
    "while i <= 10:\n",
    "    if i == 7:\n",
    "        i += 1    # move this before continue to avoid infinite loop\n",
    "        continue\n",
    "    print(i)\n",
    "    i += 1\n"
   ]
  },
  {
   "cell_type": "markdown",
   "id": "186a592c",
   "metadata": {},
   "source": [
    "##### ques- find the sum of numbers from 1 to 10 using while loop "
   ]
  },
  {
   "cell_type": "code",
   "execution_count": null,
   "id": "925657a0",
   "metadata": {},
   "outputs": [
    {
     "name": "stdout",
     "output_type": "stream",
     "text": [
      "Sum: 55\n"
     ]
    }
   ],
   "source": [
    "i = 1\n",
    "total = 0  ## assigning the value in this \n",
    "while i <= 10:\n",
    "    total += i  # incrementing and adding value \n",
    "    i += 1\n",
    "print(\"Sum:\", total)\n"
   ]
  }
 ],
 "metadata": {
  "kernelspec": {
   "display_name": "Python 3",
   "language": "python",
   "name": "python3"
  },
  "language_info": {
   "codemirror_mode": {
    "name": "ipython",
    "version": 3
   },
   "file_extension": ".py",
   "mimetype": "text/x-python",
   "name": "python",
   "nbconvert_exporter": "python",
   "pygments_lexer": "ipython3",
   "version": "undefined.undefined.undefined"
  }
 },
 "nbformat": 4,
 "nbformat_minor": 5
}
