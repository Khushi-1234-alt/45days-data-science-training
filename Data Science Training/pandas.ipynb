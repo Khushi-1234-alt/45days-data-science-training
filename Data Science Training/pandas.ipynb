{
 "cells": [
  {
   "cell_type": "markdown",
   "id": "56117645",
   "metadata": {},
   "source": [
    "## PANDAS(pd)\n",
    "##### Pandas is a Python library used for working with data sets.\n",
    "##### It has functions for analyzing, cleaning, exploring, and manipulating data."
   ]
  },
  {
   "cell_type": "code",
   "execution_count": null,
   "id": "4c44af15",
   "metadata": {},
   "outputs": [],
   "source": []
  }
 ],
 "metadata": {
  "language_info": {
   "name": "python"
  }
 },
 "nbformat": 4,
 "nbformat_minor": 5
}
