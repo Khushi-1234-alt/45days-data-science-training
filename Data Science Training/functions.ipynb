{
 "cells": [
  {
   "cell_type": "markdown",
   "id": "7e5730cd",
   "metadata": {},
   "source": [
    "# Functions\n",
    "#### A function is a block of code which only runs when it is called. You can pass data, known as parameters, into a function\n"
   ]
  },
  {
   "cell_type": "markdown",
   "id": "663689ab",
   "metadata": {},
   "source": [
    "### Types of function ---> user define function ||  built in function "
   ]
  },
  {
   "cell_type": "markdown",
   "id": "1e290f06",
   "metadata": {},
   "source": [
    "#### USER-DEFINE Function "
   ]
  },
  {
   "cell_type": "code",
   "execution_count": 51,
   "id": "bef7432a",
   "metadata": {},
   "outputs": [
    {
     "name": "stdout",
     "output_type": "stream",
     "text": [
      "hello from the function.\n"
     ]
    }
   ],
   "source": [
    "def hello():\n",
    "    # block of code \n",
    "    print(\"hello from the function.\")\n",
    "    \n",
    "hello()   # calling a function "
   ]
  },
  {
   "cell_type": "code",
   "execution_count": 52,
   "id": "3cfe7b28",
   "metadata": {},
   "outputs": [
    {
     "name": "stdout",
     "output_type": "stream",
     "text": [
      "30\n"
     ]
    }
   ],
   "source": [
    "def add():\n",
    "    a = 10       ## parameter ---> information pass krna\n",
    "    b = 20       ## parameter \n",
    "    c = a+b\n",
    "    print(c)\n",
    "    \n",
    "add()           ## argument ---> call krna "
   ]
  },
  {
   "cell_type": "markdown",
   "id": "03be2335",
   "metadata": {},
   "source": [
    "#### PARAMETER AND ARGUMENT "
   ]
  },
  {
   "cell_type": "code",
   "execution_count": 53,
   "id": "6b594f9e",
   "metadata": {},
   "outputs": [
    {
     "name": "stdout",
     "output_type": "stream",
     "text": [
      "63350\n"
     ]
    }
   ],
   "source": [
    "def add(a,b):\n",
    "    print(a+b)\n",
    "add(5678 , 57672)"
   ]
  },
  {
   "cell_type": "markdown",
   "id": "badb022d",
   "metadata": {},
   "source": [
    "####  ARBITRARY ARGUMENT(args(*)) \n",
    "##### If you do not know how many arguments that will be passed into your function, add a * before the parameter name in the function definition.\n",
    "\n",
    "##### This way the function will receive a tuple of arguments, and can access the items accordingly"
   ]
  },
  {
   "cell_type": "code",
   "execution_count": 54,
   "id": "105d6213",
   "metadata": {},
   "outputs": [
    {
     "name": "stdout",
     "output_type": "stream",
     "text": [
      "The youngest child is Linus\n"
     ]
    }
   ],
   "source": [
    "def child(*kids):\n",
    "    print(\"The youngest child is \" + kids[2])\n",
    "\n",
    "child(\"Emil\", \"Tobias\", \"Linus\")"
   ]
  },
  {
   "cell_type": "markdown",
   "id": "f096a0b6",
   "metadata": {},
   "source": [
    "#### Keyword Arguments\n",
    "##### You can also send arguments with the key = value syntax.\n",
    "\n",
    "##### This way the order of the arguments does not matter."
   ]
  },
  {
   "cell_type": "code",
   "execution_count": 55,
   "id": "d837c12a",
   "metadata": {},
   "outputs": [
    {
     "name": "stdout",
     "output_type": "stream",
     "text": [
      "The youngest child is Linus\n"
     ]
    }
   ],
   "source": [
    "def child(child1, child2, child3):\n",
    "  print(\"The youngest child is \" + child3)\n",
    "\n",
    "child(child1 = \"Emil\", child2 = \"Tobias\", child3 = \"Linus\")"
   ]
  },
  {
   "cell_type": "markdown",
   "id": "bd7241c9",
   "metadata": {},
   "source": [
    "#### Arbitrary Keyword Arguments, **kwargs\n",
    "##### If you do not know how many keyword arguments that will be passed into your function, add two asterisk: ** before the parameter name in the function definition.\n",
    "\n",
    "##### This way the function will receive a dictionary of arguments, and can access the items accordingly"
   ]
  },
  {
   "cell_type": "code",
   "execution_count": 56,
   "id": "c4537595",
   "metadata": {},
   "outputs": [
    {
     "name": "stdout",
     "output_type": "stream",
     "text": [
      "The youngest child is Linus\n"
     ]
    }
   ],
   "source": [
    "def child(**kid):\n",
    "  print(\"The youngest child is \" + kid[\"child3\"])\n",
    "\n",
    "child(child1 = \"Tobias\", child2 = \" Emil\", child3 = \"Linus\")"
   ]
  },
  {
   "cell_type": "markdown",
   "id": "9d4f734c",
   "metadata": {},
   "source": [
    "#### Default Parameter Value\n",
    "\n",
    "##### If we call the function without argument, it uses the default value"
   ]
  },
  {
   "cell_type": "code",
   "execution_count": 57,
   "id": "d643c91f",
   "metadata": {},
   "outputs": [
    {
     "name": "stdout",
     "output_type": "stream",
     "text": [
      "My hobby is Cricket\n",
      "My hobby is coding\n"
     ]
    }
   ],
   "source": [
    "# def hobby(name):\n",
    "#     print(\"My hobby is \"+ name )\n",
    "    \n",
    "# hobby(\"Cricket\")\n",
    "\n",
    "## define the default value in the function itself\n",
    "def hobby(name=\"coding\"):\n",
    "    print(\"My hobby is \"+ name )\n",
    "    \n",
    "hobby(\"Cricket\")\n",
    "hobby()"
   ]
  },
  {
   "cell_type": "code",
   "execution_count": 58,
   "id": "0abf0697",
   "metadata": {},
   "outputs": [
    {
     "name": "stdout",
     "output_type": "stream",
     "text": [
      "mohan\n",
      "rohan\n",
      "sohan\n"
     ]
    }
   ],
   "source": [
    "## passing list in argument \n",
    "def lst(name):\n",
    "    for i in name:\n",
    "        print(i)\n",
    "\n",
    "lst([\"mohan\",\"rohan\",\"sohan\"])"
   ]
  },
  {
   "cell_type": "markdown",
   "id": "52750e06",
   "metadata": {},
   "source": [
    "##### ques- average function "
   ]
  },
  {
   "cell_type": "code",
   "execution_count": 60,
   "id": "c99ed30c",
   "metadata": {},
   "outputs": [
    {
     "name": "stdout",
     "output_type": "stream",
     "text": [
      "3.0\n"
     ]
    }
   ],
   "source": [
    "# def average(numbers):\n",
    "#     if len(numbers) == 0:\n",
    "#         return 0  # avoid division by zero\n",
    "#     return sum(numbers) / len(numbers)\n",
    "\n",
    "# nums = [10, 20, 30, 40, 50]\n",
    "# avg = average(nums)\n",
    "# print(\"Average:\", avg)\n",
    "\n",
    "## using predefine function\n",
    "def avg(name):\n",
    "    print(sum(name)/len(name))\n",
    "\n",
    "avg([1,2,3,4,5])"
   ]
  }
 ],
 "metadata": {
  "kernelspec": {
   "display_name": "Python 3",
   "language": "python",
   "name": "python3"
  },
  "language_info": {
   "codemirror_mode": {
    "name": "ipython",
    "version": 3
   },
   "file_extension": ".py",
   "mimetype": "text/x-python",
   "name": "python",
   "nbconvert_exporter": "python",
   "pygments_lexer": "ipython3",
   "version": "3.11.9"
  }
 },
 "nbformat": 4,
 "nbformat_minor": 5
}
