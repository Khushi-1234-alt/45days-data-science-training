{
 "cells": [
  {
   "cell_type": "markdown",
   "id": "7e5730cd",
   "metadata": {},
   "source": [
    "# Functions\n",
    "#### A function is a block of code which only runs when it is called. You can pass data, known as parameters, into a function\n"
   ]
  },
  {
   "cell_type": "markdown",
   "id": "663689ab",
   "metadata": {},
   "source": [
    "### Types of function ---> user define function ||  built in function "
   ]
  },
  {
   "cell_type": "markdown",
   "id": "1e290f06",
   "metadata": {},
   "source": [
    "#### USER-DEFINE Function "
   ]
  },
  {
   "cell_type": "code",
   "execution_count": 115,
   "id": "bef7432a",
   "metadata": {},
   "outputs": [
    {
     "name": "stdout",
     "output_type": "stream",
     "text": [
      "hello from the function.\n"
     ]
    }
   ],
   "source": [
    "def hello():\n",
    "    # block of code \n",
    "    print(\"hello from the function.\")\n",
    "    \n",
    "hello()   # calling a function "
   ]
  },
  {
   "cell_type": "code",
   "execution_count": 116,
   "id": "3cfe7b28",
   "metadata": {},
   "outputs": [
    {
     "name": "stdout",
     "output_type": "stream",
     "text": [
      "30\n"
     ]
    }
   ],
   "source": [
    "def add():\n",
    "    a = 10       ## parameter ---> information pass krna\n",
    "    b = 20       ## parameter \n",
    "    c = a+b\n",
    "    print(c)\n",
    "    \n",
    "add()           ## argument ---> call krna "
   ]
  },
  {
   "cell_type": "markdown",
   "id": "03be2335",
   "metadata": {},
   "source": [
    "#### PARAMETER AND ARGUMENT "
   ]
  },
  {
   "cell_type": "code",
   "execution_count": 117,
   "id": "6b594f9e",
   "metadata": {},
   "outputs": [
    {
     "name": "stdout",
     "output_type": "stream",
     "text": [
      "63350\n"
     ]
    }
   ],
   "source": [
    "def add(a,b):\n",
    "    print(a+b)\n",
    "add(5678 , 57672)"
   ]
  },
  {
   "cell_type": "markdown",
   "id": "badb022d",
   "metadata": {},
   "source": [
    "####  ARBITRARY ARGUMENT(args(*)) \n",
    "##### If you do not know how many arguments that will be passed into your function, add a * before the parameter name in the function definition.\n",
    "\n",
    "##### This way the function will receive a tuple of arguments, and can access the items accordingly"
   ]
  },
  {
   "cell_type": "code",
   "execution_count": 118,
   "id": "105d6213",
   "metadata": {},
   "outputs": [
    {
     "name": "stdout",
     "output_type": "stream",
     "text": [
      "The youngest child is Linus\n"
     ]
    }
   ],
   "source": [
    "def child(*kids):\n",
    "    print(\"The youngest child is \" + kids[2])\n",
    "\n",
    "child(\"Emil\", \"Tobias\", \"Linus\")"
   ]
  },
  {
   "cell_type": "markdown",
   "id": "f096a0b6",
   "metadata": {},
   "source": [
    "#### Keyword Arguments\n",
    "##### You can also send arguments with the key = value syntax.\n",
    "\n",
    "##### This way the order of the arguments does not matter."
   ]
  },
  {
   "cell_type": "code",
   "execution_count": 119,
   "id": "d837c12a",
   "metadata": {},
   "outputs": [
    {
     "name": "stdout",
     "output_type": "stream",
     "text": [
      "The youngest child is Linus\n"
     ]
    }
   ],
   "source": [
    "def child(child1, child2, child3):\n",
    "  print(\"The youngest child is \" + child3)\n",
    "\n",
    "child(child1 = \"Emil\", child2 = \"Tobias\", child3 = \"Linus\")"
   ]
  },
  {
   "cell_type": "markdown",
   "id": "bd7241c9",
   "metadata": {},
   "source": [
    "#### Arbitrary Keyword Arguments, **kwargs\n",
    "##### If you do not know how many keyword arguments that will be passed into your function, add two asterisk: ** before the parameter name in the function definition.\n",
    "\n",
    "##### This way the function will receive a dictionary of arguments, and can access the items accordingly"
   ]
  },
  {
   "cell_type": "code",
   "execution_count": 120,
   "id": "c4537595",
   "metadata": {},
   "outputs": [
    {
     "name": "stdout",
     "output_type": "stream",
     "text": [
      "The youngest child is Linus\n"
     ]
    }
   ],
   "source": [
    "def child(**kid):\n",
    "  print(\"The youngest child is \" + kid[\"child3\"])\n",
    "\n",
    "child(child1 = \"Tobias\", child2 = \" Emil\", child3 = \"Linus\")"
   ]
  },
  {
   "cell_type": "markdown",
   "id": "9d4f734c",
   "metadata": {},
   "source": [
    "#### Default Parameter Value\n",
    "\n",
    "##### If we call the function without argument, it uses the default value"
   ]
  },
  {
   "cell_type": "code",
   "execution_count": 121,
   "id": "d643c91f",
   "metadata": {},
   "outputs": [
    {
     "name": "stdout",
     "output_type": "stream",
     "text": [
      "My hobby is Cricket\n",
      "My hobby is coding\n"
     ]
    }
   ],
   "source": [
    "# def hobby(name):\n",
    "#     print(\"My hobby is \"+ name )\n",
    "    \n",
    "# hobby(\"Cricket\")\n",
    "\n",
    "## define the default value in the function itself\n",
    "def hobby(name=\"coding\"):\n",
    "    print(\"My hobby is \"+ name )\n",
    "    \n",
    "hobby(\"Cricket\")\n",
    "hobby()"
   ]
  },
  {
   "cell_type": "code",
   "execution_count": 122,
   "id": "0abf0697",
   "metadata": {},
   "outputs": [
    {
     "name": "stdout",
     "output_type": "stream",
     "text": [
      "mohan\n",
      "rohan\n",
      "sohan\n"
     ]
    }
   ],
   "source": [
    "## passing list in argument \n",
    "def lst(name):\n",
    "    for i in name:\n",
    "        print(i)\n",
    "\n",
    "lst([\"mohan\",\"rohan\",\"sohan\"])"
   ]
  },
  {
   "cell_type": "markdown",
   "id": "52750e06",
   "metadata": {},
   "source": [
    "##### ques- average function "
   ]
  },
  {
   "cell_type": "code",
   "execution_count": 123,
   "id": "c99ed30c",
   "metadata": {},
   "outputs": [
    {
     "name": "stdout",
     "output_type": "stream",
     "text": [
      "3.0\n"
     ]
    }
   ],
   "source": [
    "# def average(numbers):\n",
    "#     if len(numbers) == 0:\n",
    "#         return 0  # avoid division by zero\n",
    "#     return sum(numbers) / len(numbers)\n",
    "\n",
    "# nums = [10, 20, 30, 40, 50]\n",
    "# avg = average(nums)\n",
    "# print(\"Average:\", avg)\n",
    "\n",
    "## using predefine function\n",
    "def avg(name):\n",
    "    print(sum(name)/len(name))\n",
    "\n",
    "avg([1,2,3,4,5])"
   ]
  },
  {
   "cell_type": "markdown",
   "id": "24f80dfb",
   "metadata": {},
   "source": [
    "# IN BUILT FUNCTION\n",
    "## Lambda function \n",
    "##### small anonymous function \n",
    "##### lambda argument :expression "
   ]
  },
  {
   "cell_type": "code",
   "execution_count": 124,
   "id": "f9fdd63c",
   "metadata": {},
   "outputs": [
    {
     "data": {
      "text/plain": [
       "22"
      ]
     },
     "execution_count": 124,
     "metadata": {},
     "output_type": "execute_result"
    }
   ],
   "source": [
    "# single argument \n",
    "# x = lambda a: a+10\n",
    "# x(5)\n",
    "\n",
    "# multiple argument \n",
    "x = lambda a,b: a + b \n",
    "x(5,17)"
   ]
  },
  {
   "cell_type": "markdown",
   "id": "9bf3fa00",
   "metadata": {},
   "source": [
    "## Map Function \n",
    "##### map(function , iterable)"
   ]
  },
  {
   "cell_type": "code",
   "execution_count": 125,
   "id": "7f9ac938",
   "metadata": {},
   "outputs": [
    {
     "name": "stdout",
     "output_type": "stream",
     "text": [
      "<map object at 0x0000028BD8372B90>\n",
      "[1, 4, 9, 16, 25]\n"
     ]
    }
   ],
   "source": [
    "# def sq(num):\n",
    "#     return num*num \n",
    "\n",
    "lst = [1,2,3,4,5]\n",
    "result = map(lambda num : num*num , lst)\n",
    "print(result)       ## output in the form of object\n",
    "print(list(result))  ## to get correct readable answer u need to typecast "
   ]
  },
  {
   "cell_type": "markdown",
   "id": "da74d1fb",
   "metadata": {},
   "source": [
    "## FILTER FUNCTION \n",
    "##### filter(function , iterable) ----> perform task of filters in the given task "
   ]
  },
  {
   "cell_type": "code",
   "execution_count": 126,
   "id": "47bce46f",
   "metadata": {},
   "outputs": [
    {
     "name": "stdout",
     "output_type": "stream",
     "text": [
      "[2, 4]\n"
     ]
    }
   ],
   "source": [
    "lst = [1,2,3,4,5]\n",
    "result = filter(lambda num : num % 2 == 0 , lst)\n",
    "print(list(result))"
   ]
  },
  {
   "cell_type": "markdown",
   "id": "2f3fa702",
   "metadata": {},
   "source": [
    "## REDUCE FUNCTION \n",
    "##### from function tools import reduce (it is predefine but in other place to use this function we need to import )"
   ]
  },
  {
   "cell_type": "code",
   "execution_count": 127,
   "id": "2867ef1e",
   "metadata": {},
   "outputs": [
    {
     "name": "stdout",
     "output_type": "stream",
     "text": [
      "15\n"
     ]
    }
   ],
   "source": [
    "from functools import reduce\n",
    "\n",
    "lst = [1,2,3,4,5]\n",
    "result = reduce(lambda num1,num2 : num1 + num2 , lst) ## work from left to right add 2 number \n",
    "print(result)\n",
    "\n",
    "## from left to right \n",
    "## [1,2,3,4,5] -- [3,3,4,5] -- [6,4,5] --[10,5] --[15]"
   ]
  },
  {
   "cell_type": "markdown",
   "id": "ed989932",
   "metadata": {},
   "source": [
    "## enumerate function\n"
   ]
  },
  {
   "cell_type": "code",
   "execution_count": 128,
   "id": "a2d0e1f6",
   "metadata": {},
   "outputs": [
    {
     "name": "stdout",
     "output_type": "stream",
     "text": [
      "[(0, 'mohan'), (1, 'rohan'), (2, 'sohan')]\n",
      "[(10, 'mohan'), (11, 'rohan'), (12, 'sohan')]\n"
     ]
    }
   ],
   "source": [
    "## by default index number\n",
    "lst = [\"mohan\",\"rohan\",\"sohan\"]\n",
    "result = enumerate(lst)  ## return with the index number.\n",
    "print(list(result))\n",
    "\n",
    "## according to our need \n",
    "lst = [\"mohan\",\"rohan\",\"sohan\"]\n",
    "result = enumerate(lst,start=10)  ## return with the index number.\n",
    "print(list(result))"
   ]
  },
  {
   "cell_type": "markdown",
   "id": "eaf73277",
   "metadata": {},
   "source": [
    "## ZIP FUNCTION \n",
    "##### it is used to combine two or more iterables"
   ]
  },
  {
   "cell_type": "code",
   "execution_count": 129,
   "id": "d6bc375a",
   "metadata": {},
   "outputs": [
    {
     "name": "stdout",
     "output_type": "stream",
     "text": [
      "[('rohan', 1), ('mohan', 2), ('sohan', 3)]\n",
      "[('rohan', 1), ('mohan', 2)]\n",
      "[(1, 'a'), (2, 'b'), (3, 'c')]\n"
     ]
    }
   ],
   "source": [
    "lst1 = [\"rohan\",\"mohan\",\"sohan\"]\n",
    "lst2 = [1,2,3]\n",
    "result = zip(lst1,lst2)\n",
    "print(list(result))\n",
    "\n",
    "## if less number of iterable is given \n",
    "lst1 = [\"rohan\",\"mohan\",\"sohan\"]\n",
    "lst2 = [1,2]\n",
    "result = zip(lst1,lst2)\n",
    "print(list(result))\n",
    "\n",
    "## adding 2 different datatype\n",
    "numbers = [1, 2, 3]\n",
    "letters = \"abc\"\n",
    "result = list(zip(numbers, letters))\n",
    "print(result)\n"
   ]
  },
  {
   "cell_type": "markdown",
   "id": "98491a1e",
   "metadata": {},
   "source": [
    "### UNZIP FUNCTION"
   ]
  },
  {
   "cell_type": "code",
   "execution_count": 135,
   "id": "1b1518f8",
   "metadata": {},
   "outputs": [
    {
     "name": "stdout",
     "output_type": "stream",
     "text": [
      "['mohan', 'rohan', 'ram']\n",
      "[1, 2, 3]\n"
     ]
    }
   ],
   "source": [
    "zipped = [('mohan', 1), ('rohan', 2), ('ram', 3)]\n",
    "result , index = zip(*zipped)\n",
    "\n",
    "# separate print\n",
    "print(list(result))\n",
    "print(list(index))\n"
   ]
  }
 ],
 "metadata": {
  "kernelspec": {
   "display_name": "Python 3",
   "language": "python",
   "name": "python3"
  },
  "language_info": {
   "codemirror_mode": {
    "name": "ipython",
    "version": 3
   },
   "file_extension": ".py",
   "mimetype": "text/x-python",
   "name": "python",
   "nbconvert_exporter": "python",
   "pygments_lexer": "ipython3",
   "version": "3.11.9"
  }
 },
 "nbformat": 4,
 "nbformat_minor": 5
}
