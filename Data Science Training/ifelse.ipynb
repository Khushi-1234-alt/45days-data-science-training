{
 "cells": [
  {
   "cell_type": "markdown",
   "id": "9de371c9",
   "metadata": {},
   "source": [
    "# Conditional Statement \n",
    "##### it include -- if, elif, else "
   ]
  },
  {
   "cell_type": "markdown",
   "id": "823c660e",
   "metadata": {},
   "source": [
    "#### IF-ELSE STATEMENT "
   ]
  },
  {
   "cell_type": "code",
   "execution_count": 33,
   "id": "417555e0",
   "metadata": {},
   "outputs": [
    {
     "name": "stdout",
     "output_type": "stream",
     "text": [
      "b is greater than a\n",
      "b is less than a\n"
     ]
    }
   ],
   "source": [
    "a= 10\n",
    "b= 20\n",
    "if b>a:      ## if condition and run until its condition is true \n",
    "    print(\"b is greater than a\")\n",
    "    \n",
    "## with Else \n",
    "a= 45\n",
    "b= 20\n",
    "if b>a:      ## if condition and run until its condition is true \n",
    "    print(\"b is greater than a\")\n",
    "else:\n",
    "    print(\"b is less than a\")"
   ]
  },
  {
   "cell_type": "markdown",
   "id": "295745f6",
   "metadata": {},
   "source": [
    "#### ELIF STATEMENT "
   ]
  },
  {
   "cell_type": "code",
   "execution_count": 34,
   "id": "2a840f37",
   "metadata": {},
   "outputs": [
    {
     "name": "stdout",
     "output_type": "stream",
     "text": [
      "b is equal to a\n"
     ]
    }
   ],
   "source": [
    "a= 20\n",
    "b= 20\n",
    "if b>a:      ## if condition and run until its condition is true \n",
    "    print(\"b is greater than a\")\n",
    "elif b==a:\n",
    "    print(\"b is equal to a\")\n",
    "else:\n",
    "    print(\"b is less than a\")"
   ]
  },
  {
   "cell_type": "markdown",
   "id": "f7165314",
   "metadata": {},
   "source": [
    "#### logical operation "
   ]
  },
  {
   "cell_type": "code",
   "execution_count": 35,
   "id": "8fde8a1c",
   "metadata": {},
   "outputs": [
    {
     "name": "stdout",
     "output_type": "stream",
     "text": [
      "b is less than a\n"
     ]
    }
   ],
   "source": [
    "a= 10\n",
    "b= 20\n",
    "c= 30\n",
    "# AND operation \n",
    "# if b>a and a<c:     ## if condition and run until its condition is true \n",
    "#     print(\"b is greater than a and a is less than c \")\n",
    "# elif b==a and b==c:\n",
    "#     print(\"all three are equal\")\n",
    "# else:\n",
    "#     print(\"b is less than a\")\n",
    "    \n",
    "# Not operation \n",
    "a= 10\n",
    "b= 20\n",
    "c= 30\n",
    "# AND operation\n",
    "if not(b>a and a<c):     ## if condition and run until its condition is true \n",
    "    print(\"b is greater than a and a is less than c \")\n",
    "elif b==a and b==c:\n",
    "    print(\"all three are equal\")\n",
    "else:\n",
    "    print(\"b is less than a\")"
   ]
  },
  {
   "cell_type": "markdown",
   "id": "d5484c19",
   "metadata": {},
   "source": [
    "#### Nested IF-ELSE statement "
   ]
  },
  {
   "cell_type": "code",
   "execution_count": 36,
   "id": "c30fffc2",
   "metadata": {},
   "outputs": [
    {
     "name": "stdout",
     "output_type": "stream",
     "text": [
      "a is even\n",
      "a is positive\n"
     ]
    }
   ],
   "source": [
    "a= 10\n",
    "if a>0:\n",
    "    if a%2==0:\n",
    "        print(\"a is even\")\n",
    "    else:\n",
    "        print(\"a is odd\")\n",
    "    print(\"a is positive\")\n",
    "else:\n",
    "    print(\"a is negative\")\n",
    "    "
   ]
  },
  {
   "cell_type": "markdown",
   "id": "69da0046",
   "metadata": {},
   "source": [
    "#### taking input from user "
   ]
  },
  {
   "cell_type": "code",
   "execution_count": 37,
   "id": "57e0bb56",
   "metadata": {},
   "outputs": [
    {
     "ename": "ValueError",
     "evalue": "invalid literal for int() with base 10: ''",
     "output_type": "error",
     "traceback": [
      "\u001b[31m---------------------------------------------------------------------------\u001b[39m",
      "\u001b[31mValueError\u001b[39m                                Traceback (most recent call last)",
      "\u001b[36mCell\u001b[39m\u001b[36m \u001b[39m\u001b[32mIn[37]\u001b[39m\u001b[32m, line 1\u001b[39m\n\u001b[32m----> \u001b[39m\u001b[32m1\u001b[39m a = \u001b[38;5;28;43mint\u001b[39;49m\u001b[43m(\u001b[49m\u001b[38;5;28;43minput\u001b[39;49m\u001b[43m(\u001b[49m\u001b[33;43m\"\u001b[39;49m\u001b[33;43menter the number\u001b[39;49m\u001b[33;43m\"\u001b[39;49m\u001b[43m)\u001b[49m\u001b[43m)\u001b[49m\n\u001b[32m      2\u001b[39m \u001b[38;5;28mprint\u001b[39m(a)\n\u001b[32m      3\u001b[39m \u001b[38;5;28mprint\u001b[39m(\u001b[38;5;28mtype\u001b[39m(a))\n",
      "\u001b[31mValueError\u001b[39m: invalid literal for int() with base 10: ''"
     ]
    }
   ],
   "source": [
    "a = int(input(\"enter the number\"))\n",
    "print(a)\n",
    "print(type(a))\n",
    "if a>0:\n",
    "    if a%2==0:\n",
    "        print(\"a is even\")\n",
    "    else:\n",
    "        print(\"a is odd\")\n",
    "    print(\"a is positive\")\n",
    "else:\n",
    "    print(\"a is negative\")\n",
    "    "
   ]
  },
  {
   "cell_type": "markdown",
   "id": "595f025b",
   "metadata": {},
   "source": [
    "##### ques- check if number is divisible by 5 and 7 "
   ]
  },
  {
   "cell_type": "code",
   "execution_count": null,
   "id": "e1007a17",
   "metadata": {},
   "outputs": [
    {
     "name": "stdout",
     "output_type": "stream",
     "text": [
      "35 a is divisible by 5 and 7\n"
     ]
    }
   ],
   "source": [
    "a = int(input(\"enter the value\"))\n",
    "print(a)\n",
    "if a%5==0 and a%7 ==  0:\n",
    "    print(a, \" is divisible by 5 and 7\")\n",
    "else:\n",
    "    print(a,\"try again with different value \")\n",
    "    \n"
   ]
  },
  {
   "cell_type": "markdown",
   "id": "09fd59eb",
   "metadata": {},
   "source": [
    "##### year is is leap year or not "
   ]
  },
  {
   "cell_type": "code",
   "execution_count": 38,
   "id": "ef0d0350",
   "metadata": {},
   "outputs": [
    {
     "name": "stdout",
     "output_type": "stream",
     "text": [
      "Not a Leap Year\n"
     ]
    }
   ],
   "source": [
    "year = int(input(\"Enter a year: \"))\n",
    "\n",
    "if (year % 4 == 0):\n",
    "    if (year % 100 == 0):\n",
    "        if (year % 400 == 0):\n",
    "            print(\"Leap Year\")\n",
    "        else:\n",
    "            print(\"Not a Leap Year\")\n",
    "    else:\n",
    "        print(\"Leap Year\")\n",
    "else:\n",
    "    print(\"Not a Leap Year\")\n"
   ]
  }
 ],
 "metadata": {
  "kernelspec": {
   "display_name": "Python 3",
   "language": "python",
   "name": "python3"
  },
  "language_info": {
   "codemirror_mode": {
    "name": "ipython",
    "version": 3
   },
   "file_extension": ".py",
   "mimetype": "text/x-python",
   "name": "python",
   "nbconvert_exporter": "python",
   "pygments_lexer": "ipython3",
   "version": "3.13.1"
  }
 },
 "nbformat": 4,
 "nbformat_minor": 5
}
