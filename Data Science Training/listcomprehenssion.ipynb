{
 "cells": [
  {
   "cell_type": "markdown",
   "id": "7f4ecf4a",
   "metadata": {},
   "source": [
    "# List Comprehension\n",
    "#### List comprehension offers a shorter syntax when you want to create a new list based on the values of an existing list.\n",
    "##### denoted by [ ] || it uses for loop || then condition on right hand side of loop || right hand side is expression \n",
    "##### [expression/output for loop condition]"
   ]
  },
  {
   "cell_type": "code",
   "execution_count": 14,
   "id": "67697880",
   "metadata": {},
   "outputs": [
    {
     "name": "stdout",
     "output_type": "stream",
     "text": [
      "[1, 4, 9, 16, 25]\n"
     ]
    }
   ],
   "source": [
    "# lst = [\"red\",\"blue\",\"green\",\"black\"]\n",
    "# # newlist = [expression for condition]\n",
    "# newlist = [i.upper() for i in lst]\n",
    "# print(newlist)\n",
    "\n",
    "## squaring the element of list \n",
    "lst = [1,2,3,4,5]\n",
    "newlist = [i*i for i in lst]\n",
    "print(newlist)"
   ]
  },
  {
   "cell_type": "markdown",
   "id": "eb55c9d0",
   "metadata": {},
   "source": [
    "#### condition in LC "
   ]
  },
  {
   "cell_type": "code",
   "execution_count": 15,
   "id": "be922cdc",
   "metadata": {},
   "outputs": [
    {
     "name": "stdout",
     "output_type": "stream",
     "text": [
      "[4, 16]\n",
      "[2, 4]\n"
     ]
    }
   ],
   "source": [
    "# square the element\n",
    "lst = [1,2,3,4,5]\n",
    "newlist = [i*i for i in lst if i%2==0]\n",
    "print(newlist)\n",
    "\n",
    "# applying condition \n",
    "lst = [1,2,3,4,5]\n",
    "newlist = [i for i in lst if i%2==0]\n",
    "print(newlist)\n"
   ]
  },
  {
   "cell_type": "markdown",
   "id": "e10bb5d7",
   "metadata": {},
   "source": [
    "##### ques- generate with the first letter of the element "
   ]
  },
  {
   "cell_type": "code",
   "execution_count": 16,
   "id": "db0d1ca3",
   "metadata": {},
   "outputs": [
    {
     "name": "stdout",
     "output_type": "stream",
     "text": [
      "['r', 'b', 'g', 'b']\n"
     ]
    }
   ],
   "source": [
    "lst = [\"red\",\"blue\",\"green\",\"black\"]\n",
    "firstletter = [i[0] for i in lst]\n",
    "print(firstletter)"
   ]
  },
  {
   "cell_type": "markdown",
   "id": "be742d5f",
   "metadata": {},
   "source": [
    "##### ques- flattening a list "
   ]
  },
  {
   "cell_type": "code",
   "execution_count": 18,
   "id": "41030d54",
   "metadata": {},
   "outputs": [
    {
     "name": "stdout",
     "output_type": "stream",
     "text": [
      "[1, 2, 3, 4, 5, 6, 7, 8, 9]\n"
     ]
    }
   ],
   "source": [
    "lst = [[1,2,3],[4,5,6],[7,8,9]]\n",
    "flattened = [i for sublist in lst for i in sublist]\n",
    "print(flattened)"
   ]
  },
  {
   "cell_type": "markdown",
   "id": "62c17ffa",
   "metadata": {},
   "source": []
  }
 ],
 "metadata": {
  "kernelspec": {
   "display_name": "Python 3",
   "language": "python",
   "name": "python3"
  },
  "language_info": {
   "codemirror_mode": {
    "name": "ipython",
    "version": 3
   },
   "file_extension": ".py",
   "mimetype": "text/x-python",
   "name": "python",
   "nbconvert_exporter": "python",
   "pygments_lexer": "ipython3",
   "version": "3.11.9"
  }
 },
 "nbformat": 4,
 "nbformat_minor": 5
}
