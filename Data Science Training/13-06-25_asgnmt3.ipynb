{
 "cells": [
  {
   "cell_type": "markdown",
   "id": "03aa0ffe",
   "metadata": {},
   "source": [
    "# ASSIGNMENT 3 \n",
    "### LIST COMPREHENSION\n",
    "##### QUES1 - What are list comprehensions in Python, and how do they differ from traditional `for` loops in terms of syntax and performance? Coding Challenge:  Convert the following `for` loop into a list comprehension:\n",
    "##### squares = [ ]\n",
    "##### for i in range(10): squares.append(i  ** 2)\n",
    "##### ANS1 - List comprehensions ---> It provide a concise way to create lists. \n",
    "##### ---> They replace a traditional for loop + append() with a single readable expression."
   ]
  },
  {
   "cell_type": "code",
   "execution_count": 11,
   "id": "5ac2e6db",
   "metadata": {},
   "outputs": [
    {
     "name": "stdout",
     "output_type": "stream",
     "text": [
      "[0, 1, 4, 9, 16, 25, 36, 49, 64, 81]\n",
      "[0, 1, 4, 9, 16, 25, 36, 49, 64, 81]\n"
     ]
    }
   ],
   "source": [
    "## Traditional method\n",
    "squares = []\n",
    "for i in range(10):\n",
    "    squares.append(i ** 2)\n",
    "print(squares)\n",
    "\n",
    "## list comprehension\n",
    "squares = [i ** 2 for i in range(10)]\n",
    "print(squares)\n"
   ]
  },
  {
   "cell_type": "markdown",
   "id": "52da2e88",
   "metadata": {},
   "source": [
    "##### QUES2 - How can you include conditional statements within a list comprehension? Provide an example. Coding Challenge:  Create a list comprehension that generates a list of all even numbers between 1 and 50\n",
    "##### ANS2 - Add an \"if\" at the end to filter items."
   ]
  },
  {
   "cell_type": "code",
   "execution_count": 12,
   "id": "a42a9727",
   "metadata": {},
   "outputs": [
    {
     "name": "stdout",
     "output_type": "stream",
     "text": [
      "[2, 4, 6, 8, 10, 12, 14, 16, 18, 20, 22, 24, 26, 28, 30, 32, 34, 36, 38, 40, 42, 44, 46, 48, 50]\n"
     ]
    }
   ],
   "source": [
    "even_numbers = [i for i in range(1, 51) if i % 2 == 0]\n",
    "print(even_numbers)"
   ]
  },
  {
   "cell_type": "markdown",
   "id": "3ed9a745",
   "metadata": {},
   "source": [
    "##### QUES3 - Explain the difference between \"if\" and \"if-else\" conditions in list comprehensions. How do you use them? Coding Challenge:  Write a list comprehension that replaces every negative number in a list with 0, leaving positive numbers unchanged\n",
    "##### ANS3 - ---> \"if\" only filters elements, whereas\n",
    "##### ---> \"if-else- work on the block of code to execute and transform each element."
   ]
  },
  {
   "cell_type": "code",
   "execution_count": 13,
   "id": "165404e3",
   "metadata": {},
   "outputs": [
    {
     "name": "stdout",
     "output_type": "stream",
     "text": [
      "[0, 0, 0, 1, 2]\n"
     ]
    }
   ],
   "source": [
    "number = [-2, -1, 0, 1, 2]\n",
    "result = [i if i >= 0 else 0 for i in number]\n",
    "print(result)  # [0, 0, 0, 1, 2]"
   ]
  },
  {
   "cell_type": "markdown",
   "id": "f2ff6b95",
   "metadata": {},
   "source": [
    "##### QUES4 - How can you use nested list comprehensions to flatten a 2D list (a list of lists) into a 1D list? Coding Challenge:  Given a 2D list \"matrix = [[1, 2, 3], [4, 5, 6], [7, 8, 9]]\", write a list comprehension to flatten it into a single list\n",
    "##### ANS4 - To flatten a 2D list into 1D list we use nested for loop"
   ]
  },
  {
   "cell_type": "code",
   "execution_count": 14,
   "id": "8430e7ae",
   "metadata": {},
   "outputs": [
    {
     "name": "stdout",
     "output_type": "stream",
     "text": [
      "[1, 2, 3, 4, 5, 6, 7, 8, 9]\n"
     ]
    }
   ],
   "source": [
    "lst = [[1,2,3],[4,5,6],[7,8,9]]\n",
    "flattened = [i for sublist in lst for i in sublist]\n",
    "print(flattened)"
   ]
  },
  {
   "cell_type": "markdown",
   "id": "20a6acaf",
   "metadata": {},
   "source": [
    "##### QUES5 - What are the limitations of list comprehensions in terms of readability and complexity? When should you prefer a traditional loop over a list comprehension? Coding Challenge:  Rewrite the following list comprehension using a traditional loop to improve readability: result = [x*y for x in range(1, 10) for y in range(1, 10) if x*y % 2 == 0]\n",
    "##### ANS5 - LIMITATIONS: hard to read for complex loops.\n",
    "##### : debugging is tough.\n",
    "##### : shouldn't be too long\n",
    "##### Use a regular loop for clarity when there are multiple nested loops or Complex logic is involved."
   ]
  },
  {
   "cell_type": "code",
   "execution_count": 15,
   "id": "94b62651",
   "metadata": {},
   "outputs": [
    {
     "name": "stdout",
     "output_type": "stream",
     "text": [
      "[2, 4, 6, 8, 2, 4, 6, 8, 10, 12, 14, 16, 18, 6, 12, 18, 24, 4, 8, 12, 16, 20, 24, 28, 32, 36, 10, 20, 30, 40, 6, 12, 18, 24, 30, 36, 42, 48, 54, 14, 28, 42, 56, 8, 16, 24, 32, 40, 48, 56, 64, 72, 18, 36, 54, 72]\n",
      "[2, 4, 6, 8, 2, 4, 6, 8, 10, 12, 14, 16, 18, 6, 12, 18, 24, 4, 8, 12, 16, 20, 24, 28, 32, 36, 10, 20, 30, 40, 6, 12, 18, 24, 30, 36, 42, 48, 54, 14, 28, 42, 56, 8, 16, 24, 32, 40, 48, 56, 64, 72, 18, 36, 54, 72]\n"
     ]
    }
   ],
   "source": [
    "# list comprehension\n",
    "result = [x * y for x in range(1, 10) for y in range(1, 10) if x * y % 2 == 0]\n",
    "print(result)\n",
    "\n",
    "# Traditional loop\n",
    "result = []\n",
    "for x in range(1, 10):\n",
    "    for y in range(1, 10):\n",
    "        if (x * y) % 2 == 0:\n",
    "            result.append(x * y)\n",
    "print(result)\n"
   ]
  },
  {
   "cell_type": "markdown",
   "id": "fd2f9b92",
   "metadata": {},
   "source": [
    "##### QUES6 - How can you use list comprehensions with functions? Provide an example where a function is called within a list comprehension. Coding Challenge:  Write a list comprehension that applies the \"abs()\" function to each number in a list, converting all numbers to their absolute values.\n",
    "##### ANS6 - The abs() function in Python returns the absolute value of a number."
   ]
  },
  {
   "cell_type": "code",
   "execution_count": 16,
   "id": "1d417506",
   "metadata": {},
   "outputs": [
    {
     "name": "stdout",
     "output_type": "stream",
     "text": [
      "[5, 3, 0, 2, 5]\n"
     ]
    }
   ],
   "source": [
    "nums = [-5, -3, 0, 2, 5]\n",
    "abs_values = [abs(i) for i in nums]\n",
    "print(abs_values)  # [5, 3, 0, 2, 5]"
   ]
  },
  {
   "cell_type": "markdown",
   "id": "595dc873",
   "metadata": {},
   "source": [
    "##### QUES7 - How do list comprehensions handle the scope of variables? What happens if you use a variable name inside a list comprehension that is also used outside it? Coding Challenge:  Demonstrate the scope behavior of variables in list comprehensions by creating a list comprehension that unintentionally overrides a variable defined outside the comprehension\n",
    "##### ANS7 - Variables inside a list comprehension have their own local scope.\n",
    "##### ---> Using the same name can shadow an outer variable."
   ]
  },
  {
   "cell_type": "code",
   "execution_count": 17,
   "id": "92a002fd",
   "metadata": {},
   "outputs": [
    {
     "name": "stdout",
     "output_type": "stream",
     "text": [
      "5\n",
      "[0, 1, 4, 9, 16]\n"
     ]
    }
   ],
   "source": [
    "x = 5\n",
    "squares = [x ** 2 for x in range(5)]  \n",
    "print(x)         # 5  (unchanged!)\n",
    "print(squares)   # [0, 1, 4, 9, 16]\n"
   ]
  },
  {
   "cell_type": "markdown",
   "id": "eff0141d",
   "metadata": {},
   "source": [
    "##### QUES8 - What are the differences between list comprehensions and generator expressions? When would you use one over the other? Coding Challenge:  Convert the following list comprehension into a generator expression:\n",
    "     ```python\n",
    "     multiples_of_three = [x for x in range(100) if x % 3 == 0]\n",
    "     ```\n"
   ]
  },
  {
   "cell_type": "code",
   "execution_count": 18,
   "id": "9b33875b",
   "metadata": {},
   "outputs": [
    {
     "name": "stdout",
     "output_type": "stream",
     "text": [
      "[0, 3, 6, 9, 12, 15, 18, 21, 24, 27, 30, 33, 36, 39, 42, 45, 48, 51, 54, 57, 60, 63, 66, 69, 72, 75, 78, 81, 84, 87, 90, 93, 96, 99]\n"
     ]
    }
   ],
   "source": [
    "# List comprehension:\n",
    "multiples_of_three = [x for x in range(100) if x % 3 == 0]\n",
    "\n",
    "# Generator expression:\n",
    "multiples_of_three_gen = (x for x in range(100) if x % 3 == 0)\n",
    "\n",
    "# To use generator:\n",
    "print(list(multiples_of_three_gen))\n"
   ]
  },
  {
   "cell_type": "markdown",
   "id": "d3305e45",
   "metadata": {},
   "source": [
    "##### QUES9 - How can you use a list comprehension to filter and transform data in one step? Provide an example. Coding Challenge:  Write a list comprehension that filters out all strings from a mixed list of integers and strings, and then converts the remaining integers to their square values.\n",
    "##### ANS9 - "
   ]
  },
  {
   "cell_type": "code",
   "execution_count": 19,
   "id": "a1367505",
   "metadata": {},
   "outputs": [
    {
     "name": "stdout",
     "output_type": "stream",
     "text": [
      "[1, 4, 9]\n"
     ]
    }
   ],
   "source": [
    "items = [1, 'a', 2, 'b', 3]\n",
    "squares_of_ints = [i ** 2 for i in items if isinstance(i, int)]\n",
    "print(squares_of_ints)  # [1, 4, 9]\n"
   ]
  },
  {
   "cell_type": "markdown",
   "id": "279df3b4",
   "metadata": {},
   "source": [
    "##### QUES10 - Can you create a dictionary or set using comprehension syntax in Python? How does the syntax differ from list comprehensions? Coding Challenge:  Write a dictionary comprehension that maps each character in a string to its ASCII value. For example, given the string \"hello\", the result should be \"{'h': 104, 'e': 101, 'l': 108, 'o': 111}\".\n",
    "##### ANS10 - ---> Set: {expression for item in iterable}\n",
    "##### ---> Dict: {key: value for item in iterable}"
   ]
  },
  {
   "cell_type": "code",
   "execution_count": 20,
   "id": "8d070941",
   "metadata": {},
   "outputs": [
    {
     "name": "stdout",
     "output_type": "stream",
     "text": [
      "{'h': 104, 'e': 101, 'l': 108, 'o': 111}\n"
     ]
    }
   ],
   "source": [
    "str = \"hello\"\n",
    "ascii_map = {char: ord(char) for char in str}\n",
    "print(ascii_map)  # {'h': 104, 'e': 101, 'l': 108, 'o': 111}\n"
   ]
  }
 ],
 "metadata": {
  "kernelspec": {
   "display_name": "Python 3",
   "language": "python",
   "name": "python3"
  },
  "language_info": {
   "codemirror_mode": {
    "name": "ipython",
    "version": 3
   },
   "file_extension": ".py",
   "mimetype": "text/x-python",
   "name": "python",
   "nbconvert_exporter": "python",
   "pygments_lexer": "ipython3",
   "version": "3.11.9"
  }
 },
 "nbformat": 4,
 "nbformat_minor": 5
}
