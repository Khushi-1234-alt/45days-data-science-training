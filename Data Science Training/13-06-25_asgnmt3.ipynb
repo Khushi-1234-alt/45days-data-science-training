{
 "cells": [
  {
   "cell_type": "markdown",
   "id": "03aa0ffe",
   "metadata": {},
   "source": [
    "# ASSIGNMENT 3 \n",
    "### LIST COMPREHENSION\n",
    "##### QUES1 - What are list comprehensions in Python, and how do they differ from traditional `for` loops in terms of syntax and performance? Coding Challenge:  Convert the following `for` loop into a list comprehension:\n",
    "##### squares = [ ]\n",
    "##### for i in range(10): squares.append(i  ** 2)\n"
   ]
  }
 ],
 "metadata": {
  "language_info": {
   "name": "python"
  }
 },
 "nbformat": 4,
 "nbformat_minor": 5
}
