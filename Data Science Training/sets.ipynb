{
 "cells": [
  {
   "cell_type": "markdown",
   "id": "ed3ea572",
   "metadata": {},
   "source": [
    "# Sets\n",
    "#### sets -- unordered, no indexing and slicing , no duplicates allow , Set items are unchangeable, but you can remove items and add new items."
   ]
  },
  {
   "cell_type": "code",
   "execution_count": 14,
   "id": "6b308fe9",
   "metadata": {},
   "outputs": [
    {
     "name": "stdout",
     "output_type": "stream",
     "text": [
      "{1, 2, 'hello'}\n",
      "<class 'set'>\n"
     ]
    }
   ],
   "source": [
    "st = {1,2,\"hello\",True, \"hello\"}\n",
    "print(st)\n",
    "print(type(st))   ## true is not in output because true==1 therefore 1 is already present "
   ]
  },
  {
   "cell_type": "markdown",
   "id": "964302e9",
   "metadata": {},
   "source": [
    "### Methods of sets"
   ]
  },
  {
   "cell_type": "code",
   "execution_count": 15,
   "id": "f731faea",
   "metadata": {},
   "outputs": [
    {
     "data": {
      "text/plain": [
       "{1, 2}"
      ]
     },
     "execution_count": 15,
     "metadata": {},
     "output_type": "execute_result"
    }
   ],
   "source": [
    "st = {1,2,\"hello\",True, \"hello\"}\n",
    "# st.add(\"python\")\n",
    "# st.update([1,2,3,4,5])\n",
    "# st.remove(\"hello\")\n",
    "#st.pop()\n",
    "st.discard(\"hello\")\n",
    "st"
   ]
  },
  {
   "cell_type": "markdown",
   "id": "286ea715",
   "metadata": {},
   "source": [
    "### Mathematical method of sets"
   ]
  },
  {
   "cell_type": "code",
   "execution_count": null,
   "id": "5358c1e3",
   "metadata": {},
   "outputs": [
    {
     "name": "stdout",
     "output_type": "stream",
     "text": [
      "{1, 2}\n",
      "{1, 2, 3, 4, 5}\n"
     ]
    }
   ],
   "source": [
    "a= {1,2,3}\n",
    "b= {3,4,5}\n",
    "# print(a.union(b))\n",
    "# print(a.intersection(b))\n",
    "\n",
    "## difference\n",
    "## Return a new set with elements in the set that are not in the others.\n",
    "# print(a.difference(b))\n",
    "# print(b.difference(a))\n",
    "\n",
    "## symmetric difference\n",
    "## Return a new set with elements in either the set or other but not both.\n",
    "# print(a.symmetric_difference(b))\n",
    "\n",
    "## subset \n",
    "## checks if all teh elements of one set is in another element \n",
    "## print(a.issubset(b))\n",
    "\n",
    "## superset\n",
    "## Report whether this set contains another set\n",
    "## print(a.issuperset(b))\n",
    "\n",
    "## disjoint \n",
    "## Return True if two sets have a null intersection.\n",
    "#print(a.isdisjoint(b))\n",
    "\n",
    "## intersection_update \n",
    "## Update the set, keeping only elements found in it and all others.\n",
    "# a.intersection_update(b)\n",
    "# print(a)\n",
    "\n",
    "## difference update \n",
    "## Update the set, removing elements found in others.\n",
    "# a.difference_update(b)\n",
    "# print(a)\n",
    "\n",
    "## symmetric_difference_update\n",
    "## Update the set, keeping only elements found in either set, but not in both\n",
    "a.symmetric_difference_update(b)\n",
    "print(a)"
   ]
  }
 ],
 "metadata": {
  "kernelspec": {
   "display_name": "Python 3",
   "language": "python",
   "name": "python3"
  },
  "language_info": {
   "codemirror_mode": {
    "name": "ipython",
    "version": 3
   },
   "file_extension": ".py",
   "mimetype": "text/x-python",
   "name": "python",
   "nbconvert_exporter": "python",
   "pygments_lexer": "ipython3",
   "version": "3.13.1"
  }
 },
 "nbformat": 4,
 "nbformat_minor": 5
}
