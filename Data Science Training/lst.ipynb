{
 "cells": [
  {
   "cell_type": "code",
   "execution_count": 49,
   "id": "24ddeafb",
   "metadata": {},
   "outputs": [
    {
     "name": "stdout",
     "output_type": "stream",
     "text": [
      "hello world\n"
     ]
    }
   ],
   "source": [
    "print(\"hello world\")"
   ]
  },
  {
   "cell_type": "markdown",
   "id": "e44fce72",
   "metadata": {},
   "source": [
    "# List"
   ]
  },
  {
   "cell_type": "code",
   "execution_count": 50,
   "id": "cdc2d590",
   "metadata": {},
   "outputs": [],
   "source": [
    "## list-- ordered, mutable , allow duplicate values , heterogenous \n",
    "## it is denoted by square brackets "
   ]
  },
  {
   "cell_type": "code",
   "execution_count": 51,
   "id": "980fd4a4",
   "metadata": {},
   "outputs": [
    {
     "name": "stdout",
     "output_type": "stream",
     "text": [
      "[1, 2, 'hello', True, 33.23, 'world']\n",
      "<class 'list'>\n"
     ]
    }
   ],
   "source": [
    "lst = [1,2,\"hello\" , True, 33.23, \"world\"]\n",
    "print(lst)\n",
    "print(type(lst))"
   ]
  },
  {
   "cell_type": "markdown",
   "id": "58ac3953",
   "metadata": {},
   "source": [
    "# List Slicing"
   ]
  },
  {
   "cell_type": "code",
   "execution_count": 52,
   "id": "9a88def7",
   "metadata": {},
   "outputs": [
    {
     "name": "stdout",
     "output_type": "stream",
     "text": [
      "[1, 2, 'hello', True, 33.23, 'world']\n",
      "[1, 2, 'hello']\n",
      "[1, 2, 'hello', True]\n",
      "[1, 'hello', 33.23]\n"
     ]
    }
   ],
   "source": [
    "lst = [1,2,\"hello\" , True, 33.23, \"world\"]\n",
    "print(lst)\n",
    "print(lst[0:3])    ## slicing \n",
    "print(lst[-6:-2])  ## negative slicing \n",
    "print(lst[0:6:2])  ## using skip by 2"
   ]
  },
  {
   "cell_type": "markdown",
   "id": "42dec1a1",
   "metadata": {},
   "source": [
    "# List Indexing "
   ]
  },
  {
   "cell_type": "code",
   "execution_count": 53,
   "id": "77d13fd9",
   "metadata": {},
   "outputs": [
    {
     "name": "stdout",
     "output_type": "stream",
     "text": [
      "[1, 2, 'hello', True, 33.23, 'world']\n",
      "33.23\n",
      "True\n"
     ]
    }
   ],
   "source": [
    "lst = [1,2,\"hello\" , True, 33.23, \"world\"]\n",
    "print(lst)\n",
    "print(lst[4])          ## indexing \n",
    "print(lst[-3])         ## negative indexing "
   ]
  },
  {
   "cell_type": "markdown",
   "id": "012bce47",
   "metadata": {},
   "source": [
    "### Indexing update "
   ]
  },
  {
   "cell_type": "code",
   "execution_count": 54,
   "id": "49536963",
   "metadata": {},
   "outputs": [
    {
     "name": "stdout",
     "output_type": "stream",
     "text": [
      "[1, 'Khushi', 'hello', True, 33.23, 'world']\n"
     ]
    }
   ],
   "source": [
    "lst = [1,2,\"hello\" , True, 33.23, \"world\"]\n",
    "lst[1] = \"Khushi\"  ## update in list \n",
    "print(lst)"
   ]
  },
  {
   "cell_type": "markdown",
   "id": "39bf04ef",
   "metadata": {},
   "source": [
    "### slicing update "
   ]
  },
  {
   "cell_type": "code",
   "execution_count": 55,
   "id": "91d681d8",
   "metadata": {},
   "outputs": [
    {
     "name": "stdout",
     "output_type": "stream",
     "text": [
      "['a', 'b', 'c', True, 33.23, 'world']\n",
      "[10, 'c', True, 33.23, 'world']\n",
      "[[10, 'well'], 'c', True, 33.23, 'world']\n",
      "[[10, 'well'], 'c', 30, 40, 'world']\n"
     ]
    }
   ],
   "source": [
    "lst = [1,2,\"hello\" , True, 33.23, \"world\"]\n",
    "lst[0:3] = [\"a\", \"b\", \"c\"]    ## slicing update \n",
    "print(lst)\n",
    "lst[0:2] = [10]               ## giving less update value \n",
    "print(lst)\n",
    "lst[0] = [10, \"well\"]         ## km slicing value h \n",
    "print(lst)\n",
    "lst[-3:-1] = [ 30, 40]\n",
    "print(lst)\n"
   ]
  },
  {
   "cell_type": "markdown",
   "id": "61786161",
   "metadata": {},
   "source": [
    "### Nested list "
   ]
  },
  {
   "cell_type": "code",
   "execution_count": 56,
   "id": "1f0d093a",
   "metadata": {},
   "outputs": [
    {
     "name": "stdout",
     "output_type": "stream",
     "text": [
      "[10, 20, [30, 40, [50, 6000], 70], 80]\n"
     ]
    }
   ],
   "source": [
    "lst = [10,20,[30,40,[50,60],70],80]\n",
    "lst[2][2][1] = 6000\n",
    "print(lst)"
   ]
  },
  {
   "cell_type": "markdown",
   "id": "c3739789",
   "metadata": {},
   "source": [
    "### methods of list"
   ]
  },
  {
   "cell_type": "code",
   "execution_count": 80,
   "id": "b7a0a374",
   "metadata": {},
   "outputs": [
    {
     "data": {
      "text/plain": [
       "['red', 'black', 'yellow', 'green', 'blue', 'red']"
      ]
     },
     "execution_count": 80,
     "metadata": {},
     "output_type": "execute_result"
    }
   ],
   "source": [
    "lst = [\"red\", \"blue\", \"green\", \"yellow\",\"black\", \"red\"]\n",
    "# lst.count(\"red\")\n",
    "# lst.index(\"red\")\n",
    "# lst2 =lst.copy()\n",
    "# lst2\n",
    "# lst.clear()   ## clear all elements but list is present \n",
    "# del lst     ## delete full list \n",
    "# lst.insert(2, \"white \")  # insert value at particular position \n",
    "# lst.append(\"white\")\n",
    "#lst.extend([\"white\", \"grey\", \"pink\"])\n",
    "#lst.remove(\"black\")\n",
    "# lst.pop()            ## delete last element always when value is not given \n",
    "# lst.pop(1)\n",
    "#lst.reverse()\n",
    "#lst.sort()\n",
    "#lst.sort(reverse= True)\n",
    "\n",
    "## reverse list using slicing \n",
    "rev = lst[::-1]\n",
    "rev\n"
   ]
  },
  {
   "cell_type": "code",
   "execution_count": null,
   "id": "73ec6a41",
   "metadata": {},
   "outputs": [],
   "source": []
  }
 ],
 "metadata": {
  "kernelspec": {
   "display_name": "Python 3",
   "language": "python",
   "name": "python3"
  },
  "language_info": {
   "codemirror_mode": {
    "name": "ipython",
    "version": 3
   },
   "file_extension": ".py",
   "mimetype": "text/x-python",
   "name": "python",
   "nbconvert_exporter": "python",
   "pygments_lexer": "ipython3",
   "version": "3.13.1"
  }
 },
 "nbformat": 4,
 "nbformat_minor": 5
}
