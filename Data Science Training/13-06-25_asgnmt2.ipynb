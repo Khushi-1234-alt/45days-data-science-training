{
 "cells": [
  {
   "cell_type": "markdown",
   "id": "8f735fd1",
   "metadata": {},
   "source": [
    "# ASSIGNMENT 2\n",
    "### LOOP AND CONDITIONAL STATEMENTS\n",
    "#### LOOP\n",
    "##### QUES1 - How do \"if-elif-else\" statements work in Python? Provide an example where multiple conditions must be checked and explain the flow of control.Coding Challenge:Write a function that takes a number as input and returns \"Positive\", \"Negative\", or \"Zero\" based on the input value.\n",
    "##### ANS1 - \"if\" checks the first condition.\n",
    "##### If \"if\" is False, \"elif\" checks the next condition in order.\n",
    "##### If none are True, \"else\" runs by default.\n",
    "##### Only one block runs — the first True one\n"
   ]
  },
  {
   "cell_type": "code",
   "execution_count": 48,
   "id": "c3497099",
   "metadata": {},
   "outputs": [
    {
     "name": "stdout",
     "output_type": "stream",
     "text": [
      "Number is positive\n",
      "Number is negative\n",
      "Number is zero\n"
     ]
    }
   ],
   "source": [
    "def check_number(a):\n",
    "    \n",
    "# if-else loop\n",
    "    if a > 0:\n",
    "        return \"Number is positive\"\n",
    "    elif a < 0 :\n",
    "        return \"Number is negative\"\n",
    "    else:\n",
    "        return \"Number is zero\"\n",
    "\n",
    "print(check_number(10))   # Positive\n",
    "print(check_number(-5))   # Negative\n",
    "print(check_number(0))    # Zero"
   ]
  },
  {
   "cell_type": "markdown",
   "id": "f38b4c72",
   "metadata": {},
   "source": [
    "##### QUES2 - What is the difference between \"for\" loops and \"while\" loops in terms of conditional checks? When would you prefer one over the other? Coding Challenge:  Write a Python script to print all prime numbers between 1 and 100 using a \"for\" loop.\n",
    "##### ANS2 -for loop ---> It is used for iterating over a sequence.\n",
    "##### while loop ---> It is used to execute a set of statements as long as a condition is true.\n",
    "##### Use \"for\" when you know how many times to loop whereas use \"while\" when looping until something happens.\n"
   ]
  },
  {
   "cell_type": "code",
   "execution_count": 49,
   "id": "96dd6561",
   "metadata": {},
   "outputs": [
    {
     "name": "stdout",
     "output_type": "stream",
     "text": [
      "2 3 5 7 11 13 17 19 23 29 31 37 41 43 47 53 59 61 67 71 73 79 83 89 97 "
     ]
    }
   ],
   "source": [
    "for num in range(2, 101):\n",
    "    is_prime = True\n",
    "    for i in range(2, int(num ** 0.5) + 1):\n",
    "        if num % i == 0:\n",
    "            is_prime = False\n",
    "            break\n",
    "    if is_prime:\n",
    "        print(num, end=\" \")\n"
   ]
  },
  {
   "cell_type": "markdown",
   "id": "94827ca5",
   "metadata": {},
   "source": [
    "##### QUES3 - Explain how nested \"if\" statements work in Python. How can you avoid deep nesting to make your code more readable? Coding Challenge:  Write a function that takes three numbers as input and returns the largest of the three using nested if\" statements.\n",
    "##### ANS3 - to avoid deep nesting you can put an if inside another if to check more specific conditions or use elif, return, or separate conditions.\n"
   ]
  },
  {
   "cell_type": "code",
   "execution_count": 50,
   "id": "0246249e",
   "metadata": {},
   "outputs": [
    {
     "name": "stdout",
     "output_type": "stream",
     "text": [
      "20\n"
     ]
    }
   ],
   "source": [
    "def find_largest(a, b, c):\n",
    "    if a >= b and a >= c:\n",
    "        return a\n",
    "    if b >= c and b >= a:\n",
    "        return b\n",
    "    else:\n",
    "        return c\n",
    "\n",
    "print(find_largest(10, 20, 15))  # 20\n"
   ]
  },
  {
   "cell_type": "markdown",
   "id": "df15ec87",
   "metadata": {},
   "source": [
    "##### QUES4 - What are the potential risks of using \"break\" in loops? How does it affect loop execution and what alternatives can you use? Coding Challenge:  Write a Python program that reads numbers from the user until they input a negative number. The program should then print the sum of all positive numbers entered.\n",
    "##### ANS4 - break exits a loop immediately.\n",
    "##### alternatives used is use of proper loop condition\n"
   ]
  },
  {
   "cell_type": "code",
   "execution_count": 51,
   "id": "cbe25019",
   "metadata": {},
   "outputs": [
    {
     "name": "stdout",
     "output_type": "stream",
     "text": [
      "Sum of positives: 30\n"
     ]
    }
   ],
   "source": [
    "numbers = [5, 10, 15, -1]  \n",
    "total = 0\n",
    "for i in numbers:\n",
    "    if i < 0:\n",
    "        break\n",
    "    total += i\n",
    "print(\"Sum of positives:\", total)\n"
   ]
  },
  {
   "cell_type": "markdown",
   "id": "f662f873",
   "metadata": {},
   "source": [
    "##### QUES5 - How does the \"else\" clause in a loop work, and how does it differ from the \"else\" in conditional statements? Coding Challenge:  Write a function that searches for a specific element in a list using a \"for\" loop. If the element is found, return its index; if not, return -1 using the \"else\" clause in the loop.\n",
    "##### ANS5 - else with a for or while runs if the loop finishes normally. whereas Different from if-else which picks a block based on condition."
   ]
  },
  {
   "cell_type": "code",
   "execution_count": 52,
   "id": "2d2309b3",
   "metadata": {},
   "outputs": [
    {
     "name": "stdout",
     "output_type": "stream",
     "text": [
      "1\n",
      "-1\n"
     ]
    }
   ],
   "source": [
    "def find_element(lst, target):\n",
    "    for index, value in enumerate(lst):\n",
    "        if value == target:\n",
    "            return index\n",
    "    else:\n",
    "        return -1\n",
    "\n",
    "print(find_element([10, 20, 30], 20))  # 1\n",
    "print(find_element([10, 20, 30], 50))  # -1\n"
   ]
  },
  {
   "cell_type": "markdown",
   "id": "a855f6bc",
   "metadata": {},
   "source": [
    "##### QUES6 - What is a common pitfall when using floating-point numbers in conditional statements? How can you avoid it? Coding Challenge:  Write a Python function that compares two floating-point numbers and returns `True` if they are approximately equal, considering a small tolerance value\n",
    "##### ANS6 - Floats have rounding errors and use of \"==\" may fail due to tiny differences."
   ]
  },
  {
   "cell_type": "code",
   "execution_count": 53,
   "id": "7a14615d",
   "metadata": {},
   "outputs": [
    {
     "name": "stdout",
     "output_type": "stream",
     "text": [
      "Not Equal\n"
     ]
    }
   ],
   "source": [
    "a = 0.1 + 0.2\n",
    "b = 0.3\n",
    "if a == b:\n",
    "    print(\"Equal\")\n",
    "else:\n",
    "    print(\"Not Equal\")\n"
   ]
  },
  {
   "cell_type": "markdown",
   "id": "1ef3e12c",
   "metadata": {},
   "source": [
    "##### QUES7 - How can you combine \"for\" loops and \"if\" statements to filter and process data in Python?  Coding Challenge:  Given a list of integers, write a Python program that uses a \"for\" loop and \"if\" statements to create a new list containing only the even numbers.\n",
    "##### ANS7- Use \"for\" to iterate and \"if\" to process.\n"
   ]
  },
  {
   "cell_type": "code",
   "execution_count": 54,
   "id": "6eda103a",
   "metadata": {},
   "outputs": [
    {
     "name": "stdout",
     "output_type": "stream",
     "text": [
      "[2, 4, 6, 8, 10]\n"
     ]
    }
   ],
   "source": [
    "lst = [1, 2, 3, 4, 5, 6, 7, 8, 9, 10]\n",
    "evens = []\n",
    "for i in lst:\n",
    "    if i % 2 == 0:\n",
    "        evens.append(i)\n",
    "\n",
    "print(evens)  # [2, 4, 6, 8, 10]\n"
   ]
  },
  {
   "cell_type": "markdown",
   "id": "36f938ae",
   "metadata": {},
   "source": [
    "##### QUES8 - Discuss the concept of short-circuit evaluation in Python. How does it affect the performance of conditional statements? Coding Challenge:  Write a function that takes three boolean values and returns \"True\" if at least two of them are \"True\", using short-circuit evaluation.\n",
    "##### ANS8 - Python stops evaluating and/or as soon as the result is known.\n",
    "##### ---> Saves time and avoids unnecessary checks.\n"
   ]
  },
  {
   "cell_type": "code",
   "execution_count": 55,
   "id": "761a43c1",
   "metadata": {},
   "outputs": [
    {
     "name": "stdout",
     "output_type": "stream",
     "text": [
      "True\n"
     ]
    }
   ],
   "source": [
    "def at_least_two(a, b, c):\n",
    "    return (a and b) or (b and c) or (a and c)\n",
    "\n",
    "print(at_least_two(True, False, True))  # True\n"
   ]
  },
  {
   "cell_type": "markdown",
   "id": "8c567d81",
   "metadata": {},
   "source": [
    "##### QUES9 - Explain how the \"continue\" statement works in a loop. What are some scenarios where using \"continue\" is more beneficial than restructuring the loop? Coding Challenge:  Write a Python program that iterates through a list of numbers and prints only those numbers that are divisible by 3, using the \"continue\" statement.\n",
    "##### ANS9 - skips to the next loop iteration.\n",
    "##### ---> Useful for ignoring unwanted cases.\n",
    "##### ---> use if with inverted logic."
   ]
  },
  {
   "cell_type": "code",
   "execution_count": 56,
   "id": "6059ea74",
   "metadata": {},
   "outputs": [
    {
     "name": "stdout",
     "output_type": "stream",
     "text": [
      "3\n",
      "6\n",
      "9\n",
      "12\n",
      "15\n",
      "18\n"
     ]
    }
   ],
   "source": [
    "lst = [1, 2, 3, 4, 5, 6, 9, 12, 13, 14, 15, 16, 17, 18, 19, 20]\n",
    "for i in lst:\n",
    "    if i % 3 != 0:\n",
    "        continue\n",
    "    print(i)\n"
   ]
  },
  {
   "cell_type": "markdown",
   "id": "3781c30d",
   "metadata": {},
   "source": [
    "##### QUES10 - How can you use list comprehensions in combination with conditional statements to make your code more concise? Coding Challenge:  Write a list comprehension that generates a list of squares of all even numbers between 1 and 20.\n",
    "##### ANS10 - Concise way to create lists and Can add if to filter."
   ]
  },
  {
   "cell_type": "code",
   "execution_count": 57,
   "id": "4aab65ed",
   "metadata": {},
   "outputs": [
    {
     "name": "stdout",
     "output_type": "stream",
     "text": [
      "[4, 16, 36, 64, 100, 144, 196, 256, 324, 400]\n"
     ]
    }
   ],
   "source": [
    "squares = [x**2 for x in range(1, 21) if x % 2 == 0]\n",
    "print(squares)"
   ]
  }
 ],
 "metadata": {
  "kernelspec": {
   "display_name": "Python 3",
   "language": "python",
   "name": "python3"
  },
  "language_info": {
   "codemirror_mode": {
    "name": "ipython",
    "version": 3
   },
   "file_extension": ".py",
   "mimetype": "text/x-python",
   "name": "python",
   "nbconvert_exporter": "python",
   "pygments_lexer": "ipython3",
   "version": "3.11.9"
  }
 },
 "nbformat": 4,
 "nbformat_minor": 5
}
