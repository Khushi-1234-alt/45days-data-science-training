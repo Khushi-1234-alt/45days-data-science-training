{
 "cells": [
  {
   "cell_type": "markdown",
   "id": "11c4eea0",
   "metadata": {},
   "source": [
    "# Exception Handling \n",
    "##### it is used to handle error .\n",
    "##### 4 types of blocks ---> try , except , else , finally.\n",
    "###### TRY ----> it is used to test a block of code for error.\n",
    "###### EXCEPT ----> it is used to handle the error.\n",
    "###### ELSE ----> it is used to define a block of code to be executed if there is no error.\n",
    "###### FINALLY ----> it is used to define a block of code executed regardless of the result of the try and except blocks."
   ]
  },
  {
   "cell_type": "markdown",
   "id": "7f2b5f65",
   "metadata": {},
   "source": [
    "#### Zero division error "
   ]
  },
  {
   "cell_type": "code",
   "execution_count": 5,
   "id": "4389bb20",
   "metadata": {},
   "outputs": [],
   "source": [
    "## Zerodivision error \n",
    "# try:\n",
    "#     print(10/0)\n",
    "# except:\n",
    "#     print(\"zero division error\")\n",
    "# else:\n",
    "#     print(\"else block\")\n",
    "# finally:\n",
    "#     print(\"finally block\")\n",
    "    \n",
    "## defining error name \n",
    "# try:\n",
    "#     print(10/0)\n",
    "# except ZeroDivisionError:           ## when error is known \n",
    "#     print(\"zero division error\")\n",
    "# else:\n",
    "#     print(\"else block\")\n",
    "# finally:\n",
    "#     print(\"finally block\")\n",
    "    \n",
    "## calling class \n",
    "# try:\n",
    "#     print(10/0)\n",
    "# except Exception as e:  # when error is unknown and calling class\n",
    "#     print(e)\n",
    "# else:\n",
    "#     print(\"else block\")\n",
    "# finally:\n",
    "#     print(\"finally block\")"
   ]
  },
  {
   "cell_type": "markdown",
   "id": "b7841c9b",
   "metadata": {},
   "source": [
    "#### Index error"
   ]
  },
  {
   "cell_type": "code",
   "execution_count": 6,
   "id": "3a2f34b6",
   "metadata": {},
   "outputs": [
    {
     "name": "stdout",
     "output_type": "stream",
     "text": [
      "Trying to access index 3...\n",
      "Index out of range!\n",
      "This will always run.\n"
     ]
    }
   ],
   "source": [
    "my_list = [10, 20, 30]\n",
    "try:\n",
    "    print(\"Trying to access index 3...\")\n",
    "    value = my_list[3]  # Valid index\n",
    "except IndexError:\n",
    "    print(\"Index out of range!\")\n",
    "else:\n",
    "    print(\"Access successful. Value is:\", value)\n",
    "finally:\n",
    "    print(\"This will always run.\")\n"
   ]
  }
 ],
 "metadata": {
  "kernelspec": {
   "display_name": "Python 3",
   "language": "python",
   "name": "python3"
  },
  "language_info": {
   "codemirror_mode": {
    "name": "ipython",
    "version": 3
   },
   "file_extension": ".py",
   "mimetype": "text/x-python",
   "name": "python",
   "nbconvert_exporter": "python",
   "pygments_lexer": "ipython3",
   "version": "3.11.9"
  }
 },
 "nbformat": 4,
 "nbformat_minor": 5
}
