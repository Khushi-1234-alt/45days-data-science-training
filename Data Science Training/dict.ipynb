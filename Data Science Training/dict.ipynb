{
 "cells": [
  {
   "cell_type": "markdown",
   "id": "b52f25d4",
   "metadata": {},
   "source": [
    "# Dictionary\n",
    "#### dict -- key value pair , \n",
    "#### denoted by {}\n",
    "#### it is ordered, changeable and do not allow duplicates."
   ]
  },
  {
   "cell_type": "code",
   "execution_count": 32,
   "id": "dfd643fb",
   "metadata": {},
   "outputs": [
    {
     "name": "stdout",
     "output_type": "stream",
     "text": [
      "{'name': 'Hello', 'age': 25, 'hobby': 'irritate krna'}\n",
      "<class 'dict'>\n",
      "{'name': ['Hello', 'world'], 'age': 25, 'hobby': 'irritate krna'}\n",
      "<class 'dict'>\n"
     ]
    }
   ],
   "source": [
    "dt = {\n",
    "    \"name\" : \"Hello\",     ## key:value pair \n",
    "    \"age\" : 21,\n",
    "    \"hobby\": \"irritate krna\",\n",
    "    \"age\" : 25    ## latest value will be shown \n",
    "}\n",
    "print(dt)\n",
    "print(type(dt))\n",
    "\n",
    "## using list and tuples \n",
    "dt = {\n",
    "    \"name\" : [\"Hello\", \"world\"],    ## key:value pair \n",
    "    \"age\" : 21,\n",
    "    \"hobby\": \"irritate krna\",\n",
    "    \"age\" : 25    ## latest value will be shown \n",
    "}\n",
    "print(dt)\n",
    "print(type(dt))"
   ]
  },
  {
   "cell_type": "markdown",
   "id": "75179639",
   "metadata": {},
   "source": [
    "#### nested dictionary "
   ]
  },
  {
   "cell_type": "code",
   "execution_count": 33,
   "id": "1a9a8641",
   "metadata": {},
   "outputs": [
    {
     "name": "stdout",
     "output_type": "stream",
     "text": [
      "{'name': ['Hello', 'world'], 'age': {'age1': 10, 'age2': 20}, 'hobby': 'coding'}\n",
      "<class 'dict'>\n"
     ]
    }
   ],
   "source": [
    "dt = {\n",
    "    \"name\" : [\"Hello\", \"world\"],    ## key:value pair \n",
    "    \"age\" : 21,\n",
    "    \"hobby\": \"coding\",\n",
    "    \"age\" :{\"age1\": 10, \"age2\":20}    ## latest value will be shown \n",
    "}\n",
    "print(dt)\n",
    "print(type(dt))"
   ]
  },
  {
   "cell_type": "markdown",
   "id": "c7876719",
   "metadata": {},
   "source": [
    "#### Indexing "
   ]
  },
  {
   "cell_type": "code",
   "execution_count": 34,
   "id": "557cbe20",
   "metadata": {},
   "outputs": [
    {
     "data": {
      "text/plain": [
       "{'name': ['Hello', 'world'],\n",
       " 'age': {'age1': 10, 'age2': 20},\n",
       " 'hobby': 'coding '}"
      ]
     },
     "execution_count": 34,
     "metadata": {},
     "output_type": "execute_result"
    }
   ],
   "source": [
    "dt[\"hobby\"] ## indexing through key \n",
    "\n",
    "## changing values\n",
    "dt[\"hobby\"]= \"coding \"\n",
    "dt"
   ]
  },
  {
   "cell_type": "markdown",
   "id": "c35af470",
   "metadata": {},
   "source": [
    "#### Methods of Dictionary "
   ]
  },
  {
   "cell_type": "code",
   "execution_count": null,
   "id": "46473fb3",
   "metadata": {},
   "outputs": [
    {
     "name": "stdout",
     "output_type": "stream",
     "text": [
      "{'a': 10, 'b': 10, 'c': 10}\n"
     ]
    }
   ],
   "source": [
    "dt = {\n",
    "    \"name\" : \"Hello\",     ## key:value pair \n",
    "    \"age\" : 21,\n",
    "    \"hobby\": \"coding\"\n",
    "}\n",
    "\n",
    "# Get\n",
    "# dt.get(\"name\")  ## return the value of the given key \n",
    "\n",
    "# Items\n",
    "# dt.items()   ## returns the key value pair \n",
    "\n",
    "# keys \n",
    "# dt.keys()   ## returns only keys\n",
    "\n",
    "# values \n",
    "# dt.values()  ## return only values \n",
    "\n",
    "# pop\n",
    "# dt.pop(\"name\")  ## remove specific key \n",
    "\n",
    "# pop item \n",
    "# dt.popitem()    ## remove key and pair both \n",
    "\n",
    "# update \n",
    "# dt.update({\"hobby\": \"basketball\", \"class\":\"10th\"})  ## update the value and if want then add keys \n",
    "# dt\n",
    "\n",
    "# fromkeys \n",
    "# dt = {}.fromkeys(\"abc\", 10)      ## create a dict from the given keys and with same value \n",
    "# print(dt) \n"
   ]
  },
  {
   "cell_type": "markdown",
   "id": "77014733",
   "metadata": {},
   "source": [
    "#### setdefault method "
   ]
  },
  {
   "cell_type": "code",
   "execution_count": 36,
   "id": "84a7714b",
   "metadata": {},
   "outputs": [
    {
     "name": "stdout",
     "output_type": "stream",
     "text": [
      "{'a': 1, 'b': 2}\n",
      "{'a': 1, 'b': 3}\n"
     ]
    }
   ],
   "source": [
    "dt = {\"a\": 1}\n",
    "value = dt.setdefault(\"b\",2)  ## set the default value \n",
    "print(dt)\n",
    "\n",
    "# if given value \n",
    "dt = {\"a\": 1, \"b\":3}\n",
    "value = dt.setdefault(\"b\",2)  \n",
    "print(dt)  ## return the given value rather than default "
   ]
  }
 ],
 "metadata": {
  "kernelspec": {
   "display_name": "Python 3",
   "language": "python",
   "name": "python3"
  },
  "language_info": {
   "codemirror_mode": {
    "name": "ipython",
    "version": 3
   },
   "file_extension": ".py",
   "mimetype": "text/x-python",
   "name": "python",
   "nbconvert_exporter": "python",
   "pygments_lexer": "ipython3",
   "version": "3.13.1"
  }
 },
 "nbformat": 4,
 "nbformat_minor": 5
}
