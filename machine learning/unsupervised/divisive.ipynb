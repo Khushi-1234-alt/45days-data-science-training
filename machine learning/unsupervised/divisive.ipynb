{
 "cells": [
  {
   "cell_type": "code",
   "execution_count": 25,
   "id": "29bf50f2",
   "metadata": {},
   "outputs": [],
   "source": [
    "import numpy as np \n",
    "import matplotlib.pyplot as plt \n",
    "from sklearn.datasets import make_blobs \n",
    "from sklearn.cluster import KMeans "
   ]
  },
  {
   "cell_type": "code",
   "execution_count": 26,
   "id": "7b0d128b",
   "metadata": {},
   "outputs": [],
   "source": [
    "x , _ = make_blobs(n_samples=100,\n",
    "                    centers=1,\n",
    "                    cluster_std=2,\n",
    "                    random_state=42)"
   ]
  },
  {
   "cell_type": "code",
   "execution_count": 27,
   "id": "e17ebafe",
   "metadata": {},
   "outputs": [],
   "source": [
    "def divisive_clustering (data,\n",
    "                        max_clusters = 4):\n",
    "    clusters = [data]  ## start with one big clusters \n",
    "    labels = np.zeros(len(data),dtype = int)\n",
    "    while len(clusters) < max_clusters:\n",
    "        idx_to_split = np.argmax([len(c) for c in clusters]) ## returns the maximum of the index value \n",
    "        ## this is the clusters we want to split next \n",
    "        cluster_to_split = clusters.pop(idx_to_split)\n",
    "        ## get a new label to assign to newly formed cluster\n",
    "        current_label = np.max(labels) + 1\n",
    "        ## kmeans to split the clusters \n",
    "        kmeans = KMeans(n_clusters=2,random_state=42)\n",
    "        split_labels = kmeans.fit_predict(cluster_to_split)\n",
    "        ## divides the clusters into two based on kmeans data\n",
    "        cluster1 = cluster_to_split[split_labels == 0]\n",
    "        cluster2 = cluster_to_split[split_labels == 1]\n",
    "        ## add the new clusters back into the list \n",
    "        clusters.append(cluster1)\n",
    "        clusters.append(cluster2)\n",
    "        ## label assignments \n",
    "        label_indices = np.where([np.any(np.all(x == cluster_to_split,\n",
    "                                                axis = 1)) for x in data])[0]\n",
    "        label_subset = split_labels \n",
    "        labels[label_indices] = current_label\n",
    "        labels[label_indices[label_subset == 0]] = current_label\n",
    "        labels[label_indices[label_subset == 1]] = current_label + 1\n",
    "    return labels"
   ]
  },
  {
   "cell_type": "code",
   "execution_count": 28,
   "id": "89d83113",
   "metadata": {},
   "outputs": [],
   "source": [
    "cluster_labels = divisive_clustering(x,\n",
    "                                    max_clusters=4)"
   ]
  },
  {
   "cell_type": "code",
   "execution_count": null,
   "id": "2146cc01",
   "metadata": {},
   "outputs": [],
   "source": []
  }
 ],
 "metadata": {
  "kernelspec": {
   "display_name": "Python 3",
   "language": "python",
   "name": "python3"
  },
  "language_info": {
   "codemirror_mode": {
    "name": "ipython",
    "version": 3
   },
   "file_extension": ".py",
   "mimetype": "text/x-python",
   "name": "python",
   "nbconvert_exporter": "python",
   "pygments_lexer": "ipython3",
   "version": "3.11.9"
  }
 },
 "nbformat": 4,
 "nbformat_minor": 5
}
