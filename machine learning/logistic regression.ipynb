{
 "cells": [
  {
   "cell_type": "code",
   "execution_count": 1,
   "id": "f8aa444e",
   "metadata": {},
   "outputs": [],
   "source": [
    "import numpy as np \n",
    "import pandas as pd \n",
    "import matplotlib.pyplot as plt \n",
    "import seaborn as sns "
   ]
  },
  {
   "cell_type": "code",
   "execution_count": 2,
   "id": "62a2fc56",
   "metadata": {},
   "outputs": [
    {
     "data": {
      "application/vnd.microsoft.datawrangler.viewer.v0+json": {
       "columns": [
        {
         "name": "index",
         "rawType": "int64",
         "type": "integer"
        },
        {
         "name": "Gender",
         "rawType": "object",
         "type": "string"
        },
        {
         "name": "Customer Type",
         "rawType": "object",
         "type": "string"
        },
        {
         "name": "Type of Travel",
         "rawType": "object",
         "type": "string"
        },
        {
         "name": "Class",
         "rawType": "object",
         "type": "string"
        },
        {
         "name": "satisfaction",
         "rawType": "object",
         "type": "string"
        },
        {
         "name": "Age",
         "rawType": "int64",
         "type": "integer"
        },
        {
         "name": "Flight Distance",
         "rawType": "int64",
         "type": "integer"
        },
        {
         "name": "Inflight entertainment",
         "rawType": "int64",
         "type": "integer"
        },
        {
         "name": "Baggage handling",
         "rawType": "int64",
         "type": "integer"
        },
        {
         "name": "Cleanliness",
         "rawType": "int64",
         "type": "integer"
        },
        {
         "name": "Departure Delay in Minutes",
         "rawType": "int64",
         "type": "integer"
        },
        {
         "name": "Arrival Delay in Minutes",
         "rawType": "float64",
         "type": "float"
        }
       ],
       "ref": "0651164a-22a2-40c9-a5a7-045f52b9ab37",
       "rows": [
        [
         "0",
         "Male",
         "Loyal Customer",
         "Personal Travel",
         "Eco Plus",
         "neutral or dissatisfied",
         "13",
         "460",
         "5",
         "4",
         "5",
         "25",
         "18.0"
        ],
        [
         "1",
         "Male",
         "disloyal Customer",
         "Business travel",
         "Business",
         "neutral or dissatisfied",
         "25",
         "235",
         "1",
         "3",
         "1",
         "1",
         "6.0"
        ],
        [
         "2",
         "Female",
         "Loyal Customer",
         "Business travel",
         "Business",
         "satisfied",
         "26",
         "1142",
         "5",
         "4",
         "5",
         "0",
         "0.0"
        ],
        [
         "3",
         "Female",
         "Loyal Customer",
         "Business travel",
         "Business",
         "neutral or dissatisfied",
         "25",
         "562",
         "2",
         "3",
         "2",
         "11",
         "9.0"
        ],
        [
         "4",
         "Male",
         "Loyal Customer",
         "Business travel",
         "Business",
         "satisfied",
         "61",
         "214",
         "3",
         "4",
         "3",
         "0",
         "0.0"
        ]
       ],
       "shape": {
        "columns": 12,
        "rows": 5
       }
      },
      "text/html": [
       "<div>\n",
       "<style scoped>\n",
       "    .dataframe tbody tr th:only-of-type {\n",
       "        vertical-align: middle;\n",
       "    }\n",
       "\n",
       "    .dataframe tbody tr th {\n",
       "        vertical-align: top;\n",
       "    }\n",
       "\n",
       "    .dataframe thead th {\n",
       "        text-align: right;\n",
       "    }\n",
       "</style>\n",
       "<table border=\"1\" class=\"dataframe\">\n",
       "  <thead>\n",
       "    <tr style=\"text-align: right;\">\n",
       "      <th></th>\n",
       "      <th>Gender</th>\n",
       "      <th>Customer Type</th>\n",
       "      <th>Type of Travel</th>\n",
       "      <th>Class</th>\n",
       "      <th>satisfaction</th>\n",
       "      <th>Age</th>\n",
       "      <th>Flight Distance</th>\n",
       "      <th>Inflight entertainment</th>\n",
       "      <th>Baggage handling</th>\n",
       "      <th>Cleanliness</th>\n",
       "      <th>Departure Delay in Minutes</th>\n",
       "      <th>Arrival Delay in Minutes</th>\n",
       "    </tr>\n",
       "  </thead>\n",
       "  <tbody>\n",
       "    <tr>\n",
       "      <th>0</th>\n",
       "      <td>Male</td>\n",
       "      <td>Loyal Customer</td>\n",
       "      <td>Personal Travel</td>\n",
       "      <td>Eco Plus</td>\n",
       "      <td>neutral or dissatisfied</td>\n",
       "      <td>13</td>\n",
       "      <td>460</td>\n",
       "      <td>5</td>\n",
       "      <td>4</td>\n",
       "      <td>5</td>\n",
       "      <td>25</td>\n",
       "      <td>18.0</td>\n",
       "    </tr>\n",
       "    <tr>\n",
       "      <th>1</th>\n",
       "      <td>Male</td>\n",
       "      <td>disloyal Customer</td>\n",
       "      <td>Business travel</td>\n",
       "      <td>Business</td>\n",
       "      <td>neutral or dissatisfied</td>\n",
       "      <td>25</td>\n",
       "      <td>235</td>\n",
       "      <td>1</td>\n",
       "      <td>3</td>\n",
       "      <td>1</td>\n",
       "      <td>1</td>\n",
       "      <td>6.0</td>\n",
       "    </tr>\n",
       "    <tr>\n",
       "      <th>2</th>\n",
       "      <td>Female</td>\n",
       "      <td>Loyal Customer</td>\n",
       "      <td>Business travel</td>\n",
       "      <td>Business</td>\n",
       "      <td>satisfied</td>\n",
       "      <td>26</td>\n",
       "      <td>1142</td>\n",
       "      <td>5</td>\n",
       "      <td>4</td>\n",
       "      <td>5</td>\n",
       "      <td>0</td>\n",
       "      <td>0.0</td>\n",
       "    </tr>\n",
       "    <tr>\n",
       "      <th>3</th>\n",
       "      <td>Female</td>\n",
       "      <td>Loyal Customer</td>\n",
       "      <td>Business travel</td>\n",
       "      <td>Business</td>\n",
       "      <td>neutral or dissatisfied</td>\n",
       "      <td>25</td>\n",
       "      <td>562</td>\n",
       "      <td>2</td>\n",
       "      <td>3</td>\n",
       "      <td>2</td>\n",
       "      <td>11</td>\n",
       "      <td>9.0</td>\n",
       "    </tr>\n",
       "    <tr>\n",
       "      <th>4</th>\n",
       "      <td>Male</td>\n",
       "      <td>Loyal Customer</td>\n",
       "      <td>Business travel</td>\n",
       "      <td>Business</td>\n",
       "      <td>satisfied</td>\n",
       "      <td>61</td>\n",
       "      <td>214</td>\n",
       "      <td>3</td>\n",
       "      <td>4</td>\n",
       "      <td>3</td>\n",
       "      <td>0</td>\n",
       "      <td>0.0</td>\n",
       "    </tr>\n",
       "  </tbody>\n",
       "</table>\n",
       "</div>"
      ],
      "text/plain": [
       "   Gender      Customer Type   Type of Travel     Class  \\\n",
       "0    Male     Loyal Customer  Personal Travel  Eco Plus   \n",
       "1    Male  disloyal Customer  Business travel  Business   \n",
       "2  Female     Loyal Customer  Business travel  Business   \n",
       "3  Female     Loyal Customer  Business travel  Business   \n",
       "4    Male     Loyal Customer  Business travel  Business   \n",
       "\n",
       "              satisfaction  Age  Flight Distance  Inflight entertainment  \\\n",
       "0  neutral or dissatisfied   13              460                       5   \n",
       "1  neutral or dissatisfied   25              235                       1   \n",
       "2                satisfied   26             1142                       5   \n",
       "3  neutral or dissatisfied   25              562                       2   \n",
       "4                satisfied   61              214                       3   \n",
       "\n",
       "   Baggage handling  Cleanliness  Departure Delay in Minutes  \\\n",
       "0                 4            5                          25   \n",
       "1                 3            1                           1   \n",
       "2                 4            5                           0   \n",
       "3                 3            2                          11   \n",
       "4                 4            3                           0   \n",
       "\n",
       "   Arrival Delay in Minutes  \n",
       "0                      18.0  \n",
       "1                       6.0  \n",
       "2                       0.0  \n",
       "3                       9.0  \n",
       "4                       0.0  "
      ]
     },
     "execution_count": 2,
     "metadata": {},
     "output_type": "execute_result"
    }
   ],
   "source": [
    "df = pd.read_csv('cust_satisfaction.csv')\n",
    "df.head()"
   ]
  },
  {
   "cell_type": "code",
   "execution_count": 3,
   "id": "25155913",
   "metadata": {},
   "outputs": [
    {
     "name": "stdout",
     "output_type": "stream",
     "text": [
      "<class 'pandas.core.frame.DataFrame'>\n",
      "RangeIndex: 103904 entries, 0 to 103903\n",
      "Data columns (total 12 columns):\n",
      " #   Column                      Non-Null Count   Dtype  \n",
      "---  ------                      --------------   -----  \n",
      " 0   Gender                      103904 non-null  object \n",
      " 1   Customer Type               103904 non-null  object \n",
      " 2   Type of Travel              103904 non-null  object \n",
      " 3   Class                       103904 non-null  object \n",
      " 4   satisfaction                103904 non-null  object \n",
      " 5   Age                         103904 non-null  int64  \n",
      " 6   Flight Distance             103904 non-null  int64  \n",
      " 7   Inflight entertainment      103904 non-null  int64  \n",
      " 8   Baggage handling            103904 non-null  int64  \n",
      " 9   Cleanliness                 103904 non-null  int64  \n",
      " 10  Departure Delay in Minutes  103904 non-null  int64  \n",
      " 11  Arrival Delay in Minutes    103594 non-null  float64\n",
      "dtypes: float64(1), int64(6), object(5)\n",
      "memory usage: 9.5+ MB\n"
     ]
    }
   ],
   "source": [
    "df.info()"
   ]
  },
  {
   "cell_type": "code",
   "execution_count": 4,
   "id": "d22d124c",
   "metadata": {},
   "outputs": [
    {
     "data": {
      "application/vnd.microsoft.datawrangler.viewer.v0+json": {
       "columns": [
        {
         "name": "index",
         "rawType": "object",
         "type": "string"
        },
        {
         "name": "0",
         "rawType": "int64",
         "type": "integer"
        }
       ],
       "ref": "06ae2987-8864-4284-b9b4-889b75b72737",
       "rows": [
        [
         "Gender",
         "0"
        ],
        [
         "Customer Type",
         "0"
        ],
        [
         "Type of Travel",
         "0"
        ],
        [
         "Class",
         "0"
        ],
        [
         "satisfaction",
         "0"
        ],
        [
         "Age",
         "0"
        ],
        [
         "Flight Distance",
         "0"
        ],
        [
         "Inflight entertainment",
         "0"
        ],
        [
         "Baggage handling",
         "0"
        ],
        [
         "Cleanliness",
         "0"
        ],
        [
         "Departure Delay in Minutes",
         "0"
        ],
        [
         "Arrival Delay in Minutes",
         "0"
        ]
       ],
       "shape": {
        "columns": 1,
        "rows": 12
       }
      },
      "text/plain": [
       "Gender                        0\n",
       "Customer Type                 0\n",
       "Type of Travel                0\n",
       "Class                         0\n",
       "satisfaction                  0\n",
       "Age                           0\n",
       "Flight Distance               0\n",
       "Inflight entertainment        0\n",
       "Baggage handling              0\n",
       "Cleanliness                   0\n",
       "Departure Delay in Minutes    0\n",
       "Arrival Delay in Minutes      0\n",
       "dtype: int64"
      ]
     },
     "execution_count": 4,
     "metadata": {},
     "output_type": "execute_result"
    }
   ],
   "source": [
    "df.isnull().sum()\n",
    "\n",
    "## to delete the null value \n",
    "df.dropna(inplace=True)\n",
    "df.isnull().sum()"
   ]
  },
  {
   "cell_type": "code",
   "execution_count": 5,
   "id": "58ff8f8d",
   "metadata": {},
   "outputs": [],
   "source": [
    "df.duplicated().sum()\n",
    "df.drop_duplicates(inplace=True)"
   ]
  },
  {
   "cell_type": "code",
   "execution_count": 6,
   "id": "76cc3f2b",
   "metadata": {},
   "outputs": [
    {
     "data": {
      "application/vnd.microsoft.datawrangler.viewer.v0+json": {
       "columns": [
        {
         "name": "Customer Type",
         "rawType": "object",
         "type": "string"
        },
        {
         "name": "count",
         "rawType": "int64",
         "type": "integer"
        }
       ],
       "ref": "5f3eb683-cdac-4a38-b656-d9bf880ce105",
       "rows": [
        [
         "Loyal Customer",
         "84517"
        ],
        [
         "disloyal Customer",
         "18905"
        ]
       ],
       "shape": {
        "columns": 1,
        "rows": 2
       }
      },
      "text/plain": [
       "Customer Type\n",
       "Loyal Customer       84517\n",
       "disloyal Customer    18905\n",
       "Name: count, dtype: int64"
      ]
     },
     "execution_count": 6,
     "metadata": {},
     "output_type": "execute_result"
    }
   ],
   "source": [
    "df['Customer Type'].value_counts()"
   ]
  },
  {
   "cell_type": "code",
   "execution_count": 7,
   "id": "6832119a",
   "metadata": {},
   "outputs": [],
   "source": [
    "loyal_customer = df[df[\"Customer Type\"] == \"Loyal Customer\"]\n",
    "disloyal_customer = df[df[\"Customer Type\"] == \"disloyal Customer\"]"
   ]
  },
  {
   "cell_type": "code",
   "execution_count": 8,
   "id": "3bbbf589",
   "metadata": {},
   "outputs": [
    {
     "data": {
      "text/plain": [
       "(20000, 12)"
      ]
     },
     "execution_count": 8,
     "metadata": {},
     "output_type": "execute_result"
    }
   ],
   "source": [
    "loyal_customer = loyal_customer.sample(20000)\n",
    "loyal_customer.shape"
   ]
  },
  {
   "cell_type": "code",
   "execution_count": 9,
   "id": "51fd67a8",
   "metadata": {},
   "outputs": [
    {
     "data": {
      "text/plain": [
       "(38905, 12)"
      ]
     },
     "execution_count": 9,
     "metadata": {},
     "output_type": "execute_result"
    }
   ],
   "source": [
    "balance_df = pd.concat([loyal_customer,disloyal_customer],axis = 0)\n",
    "balance_df.shape"
   ]
  },
  {
   "cell_type": "code",
   "execution_count": 10,
   "id": "4bf52b46",
   "metadata": {},
   "outputs": [
    {
     "data": {
      "application/vnd.microsoft.datawrangler.viewer.v0+json": {
       "columns": [
        {
         "name": "index",
         "rawType": "int64",
         "type": "integer"
        },
        {
         "name": "Gender",
         "rawType": "object",
         "type": "string"
        },
        {
         "name": "Customer Type",
         "rawType": "object",
         "type": "string"
        },
        {
         "name": "Type of Travel",
         "rawType": "object",
         "type": "string"
        },
        {
         "name": "Class",
         "rawType": "object",
         "type": "string"
        },
        {
         "name": "satisfaction",
         "rawType": "object",
         "type": "string"
        }
       ],
       "ref": "cd8c45d6-1752-4746-abe5-86c99dc26d92",
       "rows": [
        [
         "44807",
         "Male",
         "Loyal Customer",
         "Personal Travel",
         "Eco",
         "neutral or dissatisfied"
        ],
        [
         "83960",
         "Female",
         "Loyal Customer",
         "Business travel",
         "Eco",
         "neutral or dissatisfied"
        ],
        [
         "97376",
         "Male",
         "Loyal Customer",
         "Business travel",
         "Business",
         "satisfied"
        ],
        [
         "47499",
         "Male",
         "Loyal Customer",
         "Personal Travel",
         "Eco",
         "neutral or dissatisfied"
        ],
        [
         "64730",
         "Female",
         "Loyal Customer",
         "Business travel",
         "Eco",
         "neutral or dissatisfied"
        ]
       ],
       "shape": {
        "columns": 5,
        "rows": 5
       }
      },
      "text/html": [
       "<div>\n",
       "<style scoped>\n",
       "    .dataframe tbody tr th:only-of-type {\n",
       "        vertical-align: middle;\n",
       "    }\n",
       "\n",
       "    .dataframe tbody tr th {\n",
       "        vertical-align: top;\n",
       "    }\n",
       "\n",
       "    .dataframe thead th {\n",
       "        text-align: right;\n",
       "    }\n",
       "</style>\n",
       "<table border=\"1\" class=\"dataframe\">\n",
       "  <thead>\n",
       "    <tr style=\"text-align: right;\">\n",
       "      <th></th>\n",
       "      <th>Gender</th>\n",
       "      <th>Customer Type</th>\n",
       "      <th>Type of Travel</th>\n",
       "      <th>Class</th>\n",
       "      <th>satisfaction</th>\n",
       "    </tr>\n",
       "  </thead>\n",
       "  <tbody>\n",
       "    <tr>\n",
       "      <th>44807</th>\n",
       "      <td>Male</td>\n",
       "      <td>Loyal Customer</td>\n",
       "      <td>Personal Travel</td>\n",
       "      <td>Eco</td>\n",
       "      <td>neutral or dissatisfied</td>\n",
       "    </tr>\n",
       "    <tr>\n",
       "      <th>83960</th>\n",
       "      <td>Female</td>\n",
       "      <td>Loyal Customer</td>\n",
       "      <td>Business travel</td>\n",
       "      <td>Eco</td>\n",
       "      <td>neutral or dissatisfied</td>\n",
       "    </tr>\n",
       "    <tr>\n",
       "      <th>97376</th>\n",
       "      <td>Male</td>\n",
       "      <td>Loyal Customer</td>\n",
       "      <td>Business travel</td>\n",
       "      <td>Business</td>\n",
       "      <td>satisfied</td>\n",
       "    </tr>\n",
       "    <tr>\n",
       "      <th>47499</th>\n",
       "      <td>Male</td>\n",
       "      <td>Loyal Customer</td>\n",
       "      <td>Personal Travel</td>\n",
       "      <td>Eco</td>\n",
       "      <td>neutral or dissatisfied</td>\n",
       "    </tr>\n",
       "    <tr>\n",
       "      <th>64730</th>\n",
       "      <td>Female</td>\n",
       "      <td>Loyal Customer</td>\n",
       "      <td>Business travel</td>\n",
       "      <td>Eco</td>\n",
       "      <td>neutral or dissatisfied</td>\n",
       "    </tr>\n",
       "  </tbody>\n",
       "</table>\n",
       "</div>"
      ],
      "text/plain": [
       "       Gender   Customer Type   Type of Travel     Class  \\\n",
       "44807    Male  Loyal Customer  Personal Travel       Eco   \n",
       "83960  Female  Loyal Customer  Business travel       Eco   \n",
       "97376    Male  Loyal Customer  Business travel  Business   \n",
       "47499    Male  Loyal Customer  Personal Travel       Eco   \n",
       "64730  Female  Loyal Customer  Business travel       Eco   \n",
       "\n",
       "                  satisfaction  \n",
       "44807  neutral or dissatisfied  \n",
       "83960  neutral or dissatisfied  \n",
       "97376                satisfied  \n",
       "47499  neutral or dissatisfied  \n",
       "64730  neutral or dissatisfied  "
      ]
     },
     "execution_count": 10,
     "metadata": {},
     "output_type": "execute_result"
    }
   ],
   "source": [
    "cat_col = balance_df.select_dtypes(include=[\"object\"])\n",
    "cat_col.head()"
   ]
  },
  {
   "cell_type": "code",
   "execution_count": 11,
   "id": "477acb23",
   "metadata": {},
   "outputs": [
    {
     "data": {
      "application/vnd.microsoft.datawrangler.viewer.v0+json": {
       "columns": [
        {
         "name": "index",
         "rawType": "int64",
         "type": "integer"
        },
        {
         "name": "Age",
         "rawType": "int64",
         "type": "integer"
        },
        {
         "name": "Flight Distance",
         "rawType": "int64",
         "type": "integer"
        },
        {
         "name": "Inflight entertainment",
         "rawType": "int64",
         "type": "integer"
        },
        {
         "name": "Baggage handling",
         "rawType": "int64",
         "type": "integer"
        },
        {
         "name": "Cleanliness",
         "rawType": "int64",
         "type": "integer"
        },
        {
         "name": "Departure Delay in Minutes",
         "rawType": "int64",
         "type": "integer"
        },
        {
         "name": "Arrival Delay in Minutes",
         "rawType": "float64",
         "type": "float"
        }
       ],
       "ref": "83839661-dc46-4460-a33a-5347ddfd6baa",
       "rows": [
        [
         "44807",
         "44",
         "349",
         "5",
         "5",
         "5",
         "0",
         "0.0"
        ],
        [
         "83960",
         "42",
         "627",
         "2",
         "2",
         "4",
         "0",
         "0.0"
        ],
        [
         "97376",
         "32",
         "404",
         "5",
         "1",
         "5",
         "23",
         "0.0"
        ],
        [
         "47499",
         "66",
         "595",
         "5",
         "4",
         "5",
         "0",
         "0.0"
        ],
        [
         "64730",
         "48",
         "1024",
         "3",
         "3",
         "1",
         "0",
         "15.0"
        ]
       ],
       "shape": {
        "columns": 7,
        "rows": 5
       }
      },
      "text/html": [
       "<div>\n",
       "<style scoped>\n",
       "    .dataframe tbody tr th:only-of-type {\n",
       "        vertical-align: middle;\n",
       "    }\n",
       "\n",
       "    .dataframe tbody tr th {\n",
       "        vertical-align: top;\n",
       "    }\n",
       "\n",
       "    .dataframe thead th {\n",
       "        text-align: right;\n",
       "    }\n",
       "</style>\n",
       "<table border=\"1\" class=\"dataframe\">\n",
       "  <thead>\n",
       "    <tr style=\"text-align: right;\">\n",
       "      <th></th>\n",
       "      <th>Age</th>\n",
       "      <th>Flight Distance</th>\n",
       "      <th>Inflight entertainment</th>\n",
       "      <th>Baggage handling</th>\n",
       "      <th>Cleanliness</th>\n",
       "      <th>Departure Delay in Minutes</th>\n",
       "      <th>Arrival Delay in Minutes</th>\n",
       "    </tr>\n",
       "  </thead>\n",
       "  <tbody>\n",
       "    <tr>\n",
       "      <th>44807</th>\n",
       "      <td>44</td>\n",
       "      <td>349</td>\n",
       "      <td>5</td>\n",
       "      <td>5</td>\n",
       "      <td>5</td>\n",
       "      <td>0</td>\n",
       "      <td>0.0</td>\n",
       "    </tr>\n",
       "    <tr>\n",
       "      <th>83960</th>\n",
       "      <td>42</td>\n",
       "      <td>627</td>\n",
       "      <td>2</td>\n",
       "      <td>2</td>\n",
       "      <td>4</td>\n",
       "      <td>0</td>\n",
       "      <td>0.0</td>\n",
       "    </tr>\n",
       "    <tr>\n",
       "      <th>97376</th>\n",
       "      <td>32</td>\n",
       "      <td>404</td>\n",
       "      <td>5</td>\n",
       "      <td>1</td>\n",
       "      <td>5</td>\n",
       "      <td>23</td>\n",
       "      <td>0.0</td>\n",
       "    </tr>\n",
       "    <tr>\n",
       "      <th>47499</th>\n",
       "      <td>66</td>\n",
       "      <td>595</td>\n",
       "      <td>5</td>\n",
       "      <td>4</td>\n",
       "      <td>5</td>\n",
       "      <td>0</td>\n",
       "      <td>0.0</td>\n",
       "    </tr>\n",
       "    <tr>\n",
       "      <th>64730</th>\n",
       "      <td>48</td>\n",
       "      <td>1024</td>\n",
       "      <td>3</td>\n",
       "      <td>3</td>\n",
       "      <td>1</td>\n",
       "      <td>0</td>\n",
       "      <td>15.0</td>\n",
       "    </tr>\n",
       "  </tbody>\n",
       "</table>\n",
       "</div>"
      ],
      "text/plain": [
       "       Age  Flight Distance  Inflight entertainment  Baggage handling  \\\n",
       "44807   44              349                       5                 5   \n",
       "83960   42              627                       2                 2   \n",
       "97376   32              404                       5                 1   \n",
       "47499   66              595                       5                 4   \n",
       "64730   48             1024                       3                 3   \n",
       "\n",
       "       Cleanliness  Departure Delay in Minutes  Arrival Delay in Minutes  \n",
       "44807            5                           0                       0.0  \n",
       "83960            4                           0                       0.0  \n",
       "97376            5                          23                       0.0  \n",
       "47499            5                           0                       0.0  \n",
       "64730            1                           0                      15.0  "
      ]
     },
     "execution_count": 11,
     "metadata": {},
     "output_type": "execute_result"
    }
   ],
   "source": [
    "## for numerical column \n",
    "num_col = balance_df.select_dtypes(exclude=\"object\")\n",
    "num_col.head()"
   ]
  },
  {
   "cell_type": "code",
   "execution_count": 12,
   "id": "82fc8247",
   "metadata": {},
   "outputs": [
    {
     "data": {
      "application/vnd.microsoft.datawrangler.viewer.v0+json": {
       "columns": [
        {
         "name": "index",
         "rawType": "int64",
         "type": "integer"
        },
        {
         "name": "Gender_Female",
         "rawType": "int64",
         "type": "integer"
        },
        {
         "name": "Gender_Male",
         "rawType": "int64",
         "type": "integer"
        },
        {
         "name": "Customer Type_Loyal Customer",
         "rawType": "int64",
         "type": "integer"
        },
        {
         "name": "Customer Type_disloyal Customer",
         "rawType": "int64",
         "type": "integer"
        },
        {
         "name": "Type of Travel_Business travel",
         "rawType": "int64",
         "type": "integer"
        },
        {
         "name": "Type of Travel_Personal Travel",
         "rawType": "int64",
         "type": "integer"
        },
        {
         "name": "Class_Business",
         "rawType": "int64",
         "type": "integer"
        },
        {
         "name": "Class_Eco",
         "rawType": "int64",
         "type": "integer"
        },
        {
         "name": "Class_Eco Plus",
         "rawType": "int64",
         "type": "integer"
        },
        {
         "name": "satisfaction_neutral or dissatisfied",
         "rawType": "int64",
         "type": "integer"
        },
        {
         "name": "satisfaction_satisfied",
         "rawType": "int64",
         "type": "integer"
        }
       ],
       "ref": "faa0a6df-eb4a-4bb0-85a4-e3f748f09f95",
       "rows": [
        [
         "44807",
         "0",
         "1",
         "1",
         "0",
         "0",
         "1",
         "0",
         "1",
         "0",
         "1",
         "0"
        ],
        [
         "83960",
         "1",
         "0",
         "1",
         "0",
         "1",
         "0",
         "0",
         "1",
         "0",
         "1",
         "0"
        ],
        [
         "97376",
         "0",
         "1",
         "1",
         "0",
         "1",
         "0",
         "1",
         "0",
         "0",
         "0",
         "1"
        ],
        [
         "47499",
         "0",
         "1",
         "1",
         "0",
         "0",
         "1",
         "0",
         "1",
         "0",
         "1",
         "0"
        ],
        [
         "64730",
         "1",
         "0",
         "1",
         "0",
         "1",
         "0",
         "0",
         "1",
         "0",
         "1",
         "0"
        ]
       ],
       "shape": {
        "columns": 11,
        "rows": 5
       }
      },
      "text/html": [
       "<div>\n",
       "<style scoped>\n",
       "    .dataframe tbody tr th:only-of-type {\n",
       "        vertical-align: middle;\n",
       "    }\n",
       "\n",
       "    .dataframe tbody tr th {\n",
       "        vertical-align: top;\n",
       "    }\n",
       "\n",
       "    .dataframe thead th {\n",
       "        text-align: right;\n",
       "    }\n",
       "</style>\n",
       "<table border=\"1\" class=\"dataframe\">\n",
       "  <thead>\n",
       "    <tr style=\"text-align: right;\">\n",
       "      <th></th>\n",
       "      <th>Gender_Female</th>\n",
       "      <th>Gender_Male</th>\n",
       "      <th>Customer Type_Loyal Customer</th>\n",
       "      <th>Customer Type_disloyal Customer</th>\n",
       "      <th>Type of Travel_Business travel</th>\n",
       "      <th>Type of Travel_Personal Travel</th>\n",
       "      <th>Class_Business</th>\n",
       "      <th>Class_Eco</th>\n",
       "      <th>Class_Eco Plus</th>\n",
       "      <th>satisfaction_neutral or dissatisfied</th>\n",
       "      <th>satisfaction_satisfied</th>\n",
       "    </tr>\n",
       "  </thead>\n",
       "  <tbody>\n",
       "    <tr>\n",
       "      <th>44807</th>\n",
       "      <td>0</td>\n",
       "      <td>1</td>\n",
       "      <td>1</td>\n",
       "      <td>0</td>\n",
       "      <td>0</td>\n",
       "      <td>1</td>\n",
       "      <td>0</td>\n",
       "      <td>1</td>\n",
       "      <td>0</td>\n",
       "      <td>1</td>\n",
       "      <td>0</td>\n",
       "    </tr>\n",
       "    <tr>\n",
       "      <th>83960</th>\n",
       "      <td>1</td>\n",
       "      <td>0</td>\n",
       "      <td>1</td>\n",
       "      <td>0</td>\n",
       "      <td>1</td>\n",
       "      <td>0</td>\n",
       "      <td>0</td>\n",
       "      <td>1</td>\n",
       "      <td>0</td>\n",
       "      <td>1</td>\n",
       "      <td>0</td>\n",
       "    </tr>\n",
       "    <tr>\n",
       "      <th>97376</th>\n",
       "      <td>0</td>\n",
       "      <td>1</td>\n",
       "      <td>1</td>\n",
       "      <td>0</td>\n",
       "      <td>1</td>\n",
       "      <td>0</td>\n",
       "      <td>1</td>\n",
       "      <td>0</td>\n",
       "      <td>0</td>\n",
       "      <td>0</td>\n",
       "      <td>1</td>\n",
       "    </tr>\n",
       "    <tr>\n",
       "      <th>47499</th>\n",
       "      <td>0</td>\n",
       "      <td>1</td>\n",
       "      <td>1</td>\n",
       "      <td>0</td>\n",
       "      <td>0</td>\n",
       "      <td>1</td>\n",
       "      <td>0</td>\n",
       "      <td>1</td>\n",
       "      <td>0</td>\n",
       "      <td>1</td>\n",
       "      <td>0</td>\n",
       "    </tr>\n",
       "    <tr>\n",
       "      <th>64730</th>\n",
       "      <td>1</td>\n",
       "      <td>0</td>\n",
       "      <td>1</td>\n",
       "      <td>0</td>\n",
       "      <td>1</td>\n",
       "      <td>0</td>\n",
       "      <td>0</td>\n",
       "      <td>1</td>\n",
       "      <td>0</td>\n",
       "      <td>1</td>\n",
       "      <td>0</td>\n",
       "    </tr>\n",
       "  </tbody>\n",
       "</table>\n",
       "</div>"
      ],
      "text/plain": [
       "       Gender_Female  Gender_Male  Customer Type_Loyal Customer  \\\n",
       "44807              0            1                             1   \n",
       "83960              1            0                             1   \n",
       "97376              0            1                             1   \n",
       "47499              0            1                             1   \n",
       "64730              1            0                             1   \n",
       "\n",
       "       Customer Type_disloyal Customer  Type of Travel_Business travel  \\\n",
       "44807                                0                               0   \n",
       "83960                                0                               1   \n",
       "97376                                0                               1   \n",
       "47499                                0                               0   \n",
       "64730                                0                               1   \n",
       "\n",
       "       Type of Travel_Personal Travel  Class_Business  Class_Eco  \\\n",
       "44807                               1               0          1   \n",
       "83960                               0               0          1   \n",
       "97376                               0               1          0   \n",
       "47499                               1               0          1   \n",
       "64730                               0               0          1   \n",
       "\n",
       "       Class_Eco Plus  satisfaction_neutral or dissatisfied  \\\n",
       "44807               0                                     1   \n",
       "83960               0                                     1   \n",
       "97376               0                                     0   \n",
       "47499               0                                     1   \n",
       "64730               0                                     1   \n",
       "\n",
       "       satisfaction_satisfied  \n",
       "44807                       0  \n",
       "83960                       0  \n",
       "97376                       1  \n",
       "47499                       0  \n",
       "64730                       0  "
      ]
     },
     "execution_count": 12,
     "metadata": {},
     "output_type": "execute_result"
    }
   ],
   "source": [
    "pd.get_dummies(cat_col).head() ## answer in true or false \n",
    "\n",
    "## if want in integer or other datatype\n",
    "pd.get_dummies(cat_col).astype(int).head()"
   ]
  },
  {
   "cell_type": "code",
   "execution_count": 13,
   "id": "37712063",
   "metadata": {},
   "outputs": [
    {
     "data": {
      "application/vnd.microsoft.datawrangler.viewer.v0+json": {
       "columns": [
        {
         "name": "index",
         "rawType": "int64",
         "type": "integer"
        },
        {
         "name": "Gender_Male",
         "rawType": "int64",
         "type": "integer"
        },
        {
         "name": "Customer Type_disloyal Customer",
         "rawType": "int64",
         "type": "integer"
        },
        {
         "name": "Type of Travel_Personal Travel",
         "rawType": "int64",
         "type": "integer"
        },
        {
         "name": "Class_Eco",
         "rawType": "int64",
         "type": "integer"
        },
        {
         "name": "Class_Eco Plus",
         "rawType": "int64",
         "type": "integer"
        },
        {
         "name": "satisfaction_satisfied",
         "rawType": "int64",
         "type": "integer"
        }
       ],
       "ref": "2e7868ff-3422-464b-8d02-75b32e277d89",
       "rows": [
        [
         "44807",
         "1",
         "0",
         "1",
         "1",
         "0",
         "0"
        ],
        [
         "83960",
         "0",
         "0",
         "0",
         "1",
         "0",
         "0"
        ],
        [
         "97376",
         "1",
         "0",
         "0",
         "0",
         "0",
         "1"
        ],
        [
         "47499",
         "1",
         "0",
         "1",
         "1",
         "0",
         "0"
        ],
        [
         "64730",
         "0",
         "0",
         "0",
         "1",
         "0",
         "0"
        ]
       ],
       "shape": {
        "columns": 6,
        "rows": 5
       }
      },
      "text/html": [
       "<div>\n",
       "<style scoped>\n",
       "    .dataframe tbody tr th:only-of-type {\n",
       "        vertical-align: middle;\n",
       "    }\n",
       "\n",
       "    .dataframe tbody tr th {\n",
       "        vertical-align: top;\n",
       "    }\n",
       "\n",
       "    .dataframe thead th {\n",
       "        text-align: right;\n",
       "    }\n",
       "</style>\n",
       "<table border=\"1\" class=\"dataframe\">\n",
       "  <thead>\n",
       "    <tr style=\"text-align: right;\">\n",
       "      <th></th>\n",
       "      <th>Gender_Male</th>\n",
       "      <th>Customer Type_disloyal Customer</th>\n",
       "      <th>Type of Travel_Personal Travel</th>\n",
       "      <th>Class_Eco</th>\n",
       "      <th>Class_Eco Plus</th>\n",
       "      <th>satisfaction_satisfied</th>\n",
       "    </tr>\n",
       "  </thead>\n",
       "  <tbody>\n",
       "    <tr>\n",
       "      <th>44807</th>\n",
       "      <td>1</td>\n",
       "      <td>0</td>\n",
       "      <td>1</td>\n",
       "      <td>1</td>\n",
       "      <td>0</td>\n",
       "      <td>0</td>\n",
       "    </tr>\n",
       "    <tr>\n",
       "      <th>83960</th>\n",
       "      <td>0</td>\n",
       "      <td>0</td>\n",
       "      <td>0</td>\n",
       "      <td>1</td>\n",
       "      <td>0</td>\n",
       "      <td>0</td>\n",
       "    </tr>\n",
       "    <tr>\n",
       "      <th>97376</th>\n",
       "      <td>1</td>\n",
       "      <td>0</td>\n",
       "      <td>0</td>\n",
       "      <td>0</td>\n",
       "      <td>0</td>\n",
       "      <td>1</td>\n",
       "    </tr>\n",
       "    <tr>\n",
       "      <th>47499</th>\n",
       "      <td>1</td>\n",
       "      <td>0</td>\n",
       "      <td>1</td>\n",
       "      <td>1</td>\n",
       "      <td>0</td>\n",
       "      <td>0</td>\n",
       "    </tr>\n",
       "    <tr>\n",
       "      <th>64730</th>\n",
       "      <td>0</td>\n",
       "      <td>0</td>\n",
       "      <td>0</td>\n",
       "      <td>1</td>\n",
       "      <td>0</td>\n",
       "      <td>0</td>\n",
       "    </tr>\n",
       "  </tbody>\n",
       "</table>\n",
       "</div>"
      ],
      "text/plain": [
       "       Gender_Male  Customer Type_disloyal Customer  \\\n",
       "44807            1                                0   \n",
       "83960            0                                0   \n",
       "97376            1                                0   \n",
       "47499            1                                0   \n",
       "64730            0                                0   \n",
       "\n",
       "       Type of Travel_Personal Travel  Class_Eco  Class_Eco Plus  \\\n",
       "44807                               1          1               0   \n",
       "83960                               0          1               0   \n",
       "97376                               0          0               0   \n",
       "47499                               1          1               0   \n",
       "64730                               0          1               0   \n",
       "\n",
       "       satisfaction_satisfied  \n",
       "44807                       0  \n",
       "83960                       0  \n",
       "97376                       1  \n",
       "47499                       0  \n",
       "64730                       0  "
      ]
     },
     "execution_count": 13,
     "metadata": {},
     "output_type": "execute_result"
    }
   ],
   "source": [
    "pd.get_dummies(cat_col,drop_first=True).astype(int).head()"
   ]
  },
  {
   "cell_type": "code",
   "execution_count": 14,
   "id": "7941815e",
   "metadata": {},
   "outputs": [
    {
     "data": {
      "text/plain": [
       "array([[1., 0., 1., ..., 1., 0., 0.],\n",
       "       [0., 0., 0., ..., 1., 0., 0.],\n",
       "       [1., 0., 0., ..., 0., 0., 1.],\n",
       "       ...,\n",
       "       [0., 1., 0., ..., 1., 0., 0.],\n",
       "       [1., 1., 0., ..., 0., 0., 0.],\n",
       "       [0., 1., 0., ..., 1., 0., 0.]], shape=(38905, 7))"
      ]
     },
     "execution_count": 14,
     "metadata": {},
     "output_type": "execute_result"
    }
   ],
   "source": [
    "from sklearn.preprocessing import OneHotEncoder , LabelEncoder \n",
    "ohe = OneHotEncoder(drop=\"if_binary\")\n",
    "cat_col_encoded = ohe.fit_transform(cat_col).toarray()\n",
    "cat_col_encoded"
   ]
  },
  {
   "cell_type": "code",
   "execution_count": 15,
   "id": "889a86ca",
   "metadata": {},
   "outputs": [
    {
     "data": {
      "text/plain": [
       "array(['Gender_Male', 'Customer Type_disloyal Customer',\n",
       "       'Type of Travel_Personal Travel', 'Class_Business', 'Class_Eco',\n",
       "       'Class_Eco Plus', 'satisfaction_satisfied'], dtype=object)"
      ]
     },
     "execution_count": 15,
     "metadata": {},
     "output_type": "execute_result"
    }
   ],
   "source": [
    "column_name = ohe.get_feature_names_out()\n",
    "column_name"
   ]
  },
  {
   "cell_type": "code",
   "execution_count": 16,
   "id": "a163be93",
   "metadata": {},
   "outputs": [
    {
     "data": {
      "application/vnd.microsoft.datawrangler.viewer.v0+json": {
       "columns": [
        {
         "name": "index",
         "rawType": "int64",
         "type": "integer"
        },
        {
         "name": "Gender_Male",
         "rawType": "float64",
         "type": "float"
        },
        {
         "name": "Customer Type_disloyal Customer",
         "rawType": "float64",
         "type": "float"
        },
        {
         "name": "Type of Travel_Personal Travel",
         "rawType": "float64",
         "type": "float"
        },
        {
         "name": "Class_Business",
         "rawType": "float64",
         "type": "float"
        },
        {
         "name": "Class_Eco",
         "rawType": "float64",
         "type": "float"
        },
        {
         "name": "Class_Eco Plus",
         "rawType": "float64",
         "type": "float"
        },
        {
         "name": "satisfaction_satisfied",
         "rawType": "float64",
         "type": "float"
        }
       ],
       "ref": "7096de1f-6c62-4a53-955e-9949dca52450",
       "rows": [
        [
         "0",
         "1.0",
         "0.0",
         "1.0",
         "0.0",
         "1.0",
         "0.0",
         "0.0"
        ],
        [
         "1",
         "0.0",
         "0.0",
         "0.0",
         "0.0",
         "1.0",
         "0.0",
         "0.0"
        ],
        [
         "2",
         "1.0",
         "0.0",
         "0.0",
         "1.0",
         "0.0",
         "0.0",
         "1.0"
        ],
        [
         "3",
         "1.0",
         "0.0",
         "1.0",
         "0.0",
         "1.0",
         "0.0",
         "0.0"
        ],
        [
         "4",
         "0.0",
         "0.0",
         "0.0",
         "0.0",
         "1.0",
         "0.0",
         "0.0"
        ]
       ],
       "shape": {
        "columns": 7,
        "rows": 5
       }
      },
      "text/html": [
       "<div>\n",
       "<style scoped>\n",
       "    .dataframe tbody tr th:only-of-type {\n",
       "        vertical-align: middle;\n",
       "    }\n",
       "\n",
       "    .dataframe tbody tr th {\n",
       "        vertical-align: top;\n",
       "    }\n",
       "\n",
       "    .dataframe thead th {\n",
       "        text-align: right;\n",
       "    }\n",
       "</style>\n",
       "<table border=\"1\" class=\"dataframe\">\n",
       "  <thead>\n",
       "    <tr style=\"text-align: right;\">\n",
       "      <th></th>\n",
       "      <th>Gender_Male</th>\n",
       "      <th>Customer Type_disloyal Customer</th>\n",
       "      <th>Type of Travel_Personal Travel</th>\n",
       "      <th>Class_Business</th>\n",
       "      <th>Class_Eco</th>\n",
       "      <th>Class_Eco Plus</th>\n",
       "      <th>satisfaction_satisfied</th>\n",
       "    </tr>\n",
       "  </thead>\n",
       "  <tbody>\n",
       "    <tr>\n",
       "      <th>0</th>\n",
       "      <td>1.0</td>\n",
       "      <td>0.0</td>\n",
       "      <td>1.0</td>\n",
       "      <td>0.0</td>\n",
       "      <td>1.0</td>\n",
       "      <td>0.0</td>\n",
       "      <td>0.0</td>\n",
       "    </tr>\n",
       "    <tr>\n",
       "      <th>1</th>\n",
       "      <td>0.0</td>\n",
       "      <td>0.0</td>\n",
       "      <td>0.0</td>\n",
       "      <td>0.0</td>\n",
       "      <td>1.0</td>\n",
       "      <td>0.0</td>\n",
       "      <td>0.0</td>\n",
       "    </tr>\n",
       "    <tr>\n",
       "      <th>2</th>\n",
       "      <td>1.0</td>\n",
       "      <td>0.0</td>\n",
       "      <td>0.0</td>\n",
       "      <td>1.0</td>\n",
       "      <td>0.0</td>\n",
       "      <td>0.0</td>\n",
       "      <td>1.0</td>\n",
       "    </tr>\n",
       "    <tr>\n",
       "      <th>3</th>\n",
       "      <td>1.0</td>\n",
       "      <td>0.0</td>\n",
       "      <td>1.0</td>\n",
       "      <td>0.0</td>\n",
       "      <td>1.0</td>\n",
       "      <td>0.0</td>\n",
       "      <td>0.0</td>\n",
       "    </tr>\n",
       "    <tr>\n",
       "      <th>4</th>\n",
       "      <td>0.0</td>\n",
       "      <td>0.0</td>\n",
       "      <td>0.0</td>\n",
       "      <td>0.0</td>\n",
       "      <td>1.0</td>\n",
       "      <td>0.0</td>\n",
       "      <td>0.0</td>\n",
       "    </tr>\n",
       "  </tbody>\n",
       "</table>\n",
       "</div>"
      ],
      "text/plain": [
       "   Gender_Male  Customer Type_disloyal Customer  \\\n",
       "0          1.0                              0.0   \n",
       "1          0.0                              0.0   \n",
       "2          1.0                              0.0   \n",
       "3          1.0                              0.0   \n",
       "4          0.0                              0.0   \n",
       "\n",
       "   Type of Travel_Personal Travel  Class_Business  Class_Eco  Class_Eco Plus  \\\n",
       "0                             1.0             0.0        1.0             0.0   \n",
       "1                             0.0             0.0        1.0             0.0   \n",
       "2                             0.0             1.0        0.0             0.0   \n",
       "3                             1.0             0.0        1.0             0.0   \n",
       "4                             0.0             0.0        1.0             0.0   \n",
       "\n",
       "   satisfaction_satisfied  \n",
       "0                     0.0  \n",
       "1                     0.0  \n",
       "2                     1.0  \n",
       "3                     0.0  \n",
       "4                     0.0  "
      ]
     },
     "execution_count": 16,
     "metadata": {},
     "output_type": "execute_result"
    }
   ],
   "source": [
    "one_hot = pd.DataFrame(cat_col_encoded,columns=column_name)\n",
    "one_hot.head()"
   ]
  },
  {
   "cell_type": "code",
   "execution_count": 17,
   "id": "2d6cee81",
   "metadata": {},
   "outputs": [
    {
     "data": {
      "application/vnd.microsoft.datawrangler.viewer.v0+json": {
       "columns": [
        {
         "name": "index",
         "rawType": "int64",
         "type": "integer"
        },
        {
         "name": "Gender_Male",
         "rawType": "float64",
         "type": "float"
        },
        {
         "name": "Customer Type_disloyal Customer",
         "rawType": "float64",
         "type": "float"
        },
        {
         "name": "Type of Travel_Personal Travel",
         "rawType": "float64",
         "type": "float"
        },
        {
         "name": "Class_Business",
         "rawType": "float64",
         "type": "float"
        },
        {
         "name": "Class_Eco",
         "rawType": "float64",
         "type": "float"
        },
        {
         "name": "Class_Eco Plus",
         "rawType": "float64",
         "type": "float"
        },
        {
         "name": "satisfaction_satisfied",
         "rawType": "float64",
         "type": "float"
        },
        {
         "name": "Age",
         "rawType": "int64",
         "type": "integer"
        },
        {
         "name": "Flight Distance",
         "rawType": "int64",
         "type": "integer"
        },
        {
         "name": "Inflight entertainment",
         "rawType": "int64",
         "type": "integer"
        },
        {
         "name": "Baggage handling",
         "rawType": "int64",
         "type": "integer"
        },
        {
         "name": "Cleanliness",
         "rawType": "int64",
         "type": "integer"
        },
        {
         "name": "Departure Delay in Minutes",
         "rawType": "int64",
         "type": "integer"
        },
        {
         "name": "Arrival Delay in Minutes",
         "rawType": "float64",
         "type": "float"
        }
       ],
       "ref": "e8599bf1-4278-4696-86f8-73fadb7474a0",
       "rows": [
        [
         "0",
         "1.0",
         "0.0",
         "1.0",
         "0.0",
         "1.0",
         "0.0",
         "0.0",
         "44",
         "349",
         "5",
         "5",
         "5",
         "0",
         "0.0"
        ],
        [
         "1",
         "0.0",
         "0.0",
         "0.0",
         "0.0",
         "1.0",
         "0.0",
         "0.0",
         "42",
         "627",
         "2",
         "2",
         "4",
         "0",
         "0.0"
        ],
        [
         "2",
         "1.0",
         "0.0",
         "0.0",
         "1.0",
         "0.0",
         "0.0",
         "1.0",
         "32",
         "404",
         "5",
         "1",
         "5",
         "23",
         "0.0"
        ],
        [
         "3",
         "1.0",
         "0.0",
         "1.0",
         "0.0",
         "1.0",
         "0.0",
         "0.0",
         "66",
         "595",
         "5",
         "4",
         "5",
         "0",
         "0.0"
        ],
        [
         "4",
         "0.0",
         "0.0",
         "0.0",
         "0.0",
         "1.0",
         "0.0",
         "0.0",
         "48",
         "1024",
         "3",
         "3",
         "1",
         "0",
         "15.0"
        ]
       ],
       "shape": {
        "columns": 14,
        "rows": 5
       }
      },
      "text/html": [
       "<div>\n",
       "<style scoped>\n",
       "    .dataframe tbody tr th:only-of-type {\n",
       "        vertical-align: middle;\n",
       "    }\n",
       "\n",
       "    .dataframe tbody tr th {\n",
       "        vertical-align: top;\n",
       "    }\n",
       "\n",
       "    .dataframe thead th {\n",
       "        text-align: right;\n",
       "    }\n",
       "</style>\n",
       "<table border=\"1\" class=\"dataframe\">\n",
       "  <thead>\n",
       "    <tr style=\"text-align: right;\">\n",
       "      <th></th>\n",
       "      <th>Gender_Male</th>\n",
       "      <th>Customer Type_disloyal Customer</th>\n",
       "      <th>Type of Travel_Personal Travel</th>\n",
       "      <th>Class_Business</th>\n",
       "      <th>Class_Eco</th>\n",
       "      <th>Class_Eco Plus</th>\n",
       "      <th>satisfaction_satisfied</th>\n",
       "      <th>Age</th>\n",
       "      <th>Flight Distance</th>\n",
       "      <th>Inflight entertainment</th>\n",
       "      <th>Baggage handling</th>\n",
       "      <th>Cleanliness</th>\n",
       "      <th>Departure Delay in Minutes</th>\n",
       "      <th>Arrival Delay in Minutes</th>\n",
       "    </tr>\n",
       "  </thead>\n",
       "  <tbody>\n",
       "    <tr>\n",
       "      <th>0</th>\n",
       "      <td>1.0</td>\n",
       "      <td>0.0</td>\n",
       "      <td>1.0</td>\n",
       "      <td>0.0</td>\n",
       "      <td>1.0</td>\n",
       "      <td>0.0</td>\n",
       "      <td>0.0</td>\n",
       "      <td>44</td>\n",
       "      <td>349</td>\n",
       "      <td>5</td>\n",
       "      <td>5</td>\n",
       "      <td>5</td>\n",
       "      <td>0</td>\n",
       "      <td>0.0</td>\n",
       "    </tr>\n",
       "    <tr>\n",
       "      <th>1</th>\n",
       "      <td>0.0</td>\n",
       "      <td>0.0</td>\n",
       "      <td>0.0</td>\n",
       "      <td>0.0</td>\n",
       "      <td>1.0</td>\n",
       "      <td>0.0</td>\n",
       "      <td>0.0</td>\n",
       "      <td>42</td>\n",
       "      <td>627</td>\n",
       "      <td>2</td>\n",
       "      <td>2</td>\n",
       "      <td>4</td>\n",
       "      <td>0</td>\n",
       "      <td>0.0</td>\n",
       "    </tr>\n",
       "    <tr>\n",
       "      <th>2</th>\n",
       "      <td>1.0</td>\n",
       "      <td>0.0</td>\n",
       "      <td>0.0</td>\n",
       "      <td>1.0</td>\n",
       "      <td>0.0</td>\n",
       "      <td>0.0</td>\n",
       "      <td>1.0</td>\n",
       "      <td>32</td>\n",
       "      <td>404</td>\n",
       "      <td>5</td>\n",
       "      <td>1</td>\n",
       "      <td>5</td>\n",
       "      <td>23</td>\n",
       "      <td>0.0</td>\n",
       "    </tr>\n",
       "    <tr>\n",
       "      <th>3</th>\n",
       "      <td>1.0</td>\n",
       "      <td>0.0</td>\n",
       "      <td>1.0</td>\n",
       "      <td>0.0</td>\n",
       "      <td>1.0</td>\n",
       "      <td>0.0</td>\n",
       "      <td>0.0</td>\n",
       "      <td>66</td>\n",
       "      <td>595</td>\n",
       "      <td>5</td>\n",
       "      <td>4</td>\n",
       "      <td>5</td>\n",
       "      <td>0</td>\n",
       "      <td>0.0</td>\n",
       "    </tr>\n",
       "    <tr>\n",
       "      <th>4</th>\n",
       "      <td>0.0</td>\n",
       "      <td>0.0</td>\n",
       "      <td>0.0</td>\n",
       "      <td>0.0</td>\n",
       "      <td>1.0</td>\n",
       "      <td>0.0</td>\n",
       "      <td>0.0</td>\n",
       "      <td>48</td>\n",
       "      <td>1024</td>\n",
       "      <td>3</td>\n",
       "      <td>3</td>\n",
       "      <td>1</td>\n",
       "      <td>0</td>\n",
       "      <td>15.0</td>\n",
       "    </tr>\n",
       "  </tbody>\n",
       "</table>\n",
       "</div>"
      ],
      "text/plain": [
       "   Gender_Male  Customer Type_disloyal Customer  \\\n",
       "0          1.0                              0.0   \n",
       "1          0.0                              0.0   \n",
       "2          1.0                              0.0   \n",
       "3          1.0                              0.0   \n",
       "4          0.0                              0.0   \n",
       "\n",
       "   Type of Travel_Personal Travel  Class_Business  Class_Eco  Class_Eco Plus  \\\n",
       "0                             1.0             0.0        1.0             0.0   \n",
       "1                             0.0             0.0        1.0             0.0   \n",
       "2                             0.0             1.0        0.0             0.0   \n",
       "3                             1.0             0.0        1.0             0.0   \n",
       "4                             0.0             0.0        1.0             0.0   \n",
       "\n",
       "   satisfaction_satisfied  Age  Flight Distance  Inflight entertainment  \\\n",
       "0                     0.0   44              349                       5   \n",
       "1                     0.0   42              627                       2   \n",
       "2                     1.0   32              404                       5   \n",
       "3                     0.0   66              595                       5   \n",
       "4                     0.0   48             1024                       3   \n",
       "\n",
       "   Baggage handling  Cleanliness  Departure Delay in Minutes  \\\n",
       "0                 5            5                           0   \n",
       "1                 2            4                           0   \n",
       "2                 1            5                          23   \n",
       "3                 4            5                           0   \n",
       "4                 3            1                           0   \n",
       "\n",
       "   Arrival Delay in Minutes  \n",
       "0                       0.0  \n",
       "1                       0.0  \n",
       "2                       0.0  \n",
       "3                       0.0  \n",
       "4                      15.0  "
      ]
     },
     "execution_count": 17,
     "metadata": {},
     "output_type": "execute_result"
    }
   ],
   "source": [
    "one_hot = one_hot.reset_index(drop=True)\n",
    "num_col = num_col.reset_index(drop=True)\n",
    "final_df = pd.concat([one_hot,num_col], axis = 1)\n",
    "final_df.head()"
   ]
  },
  {
   "cell_type": "code",
   "execution_count": 18,
   "id": "f6c59751",
   "metadata": {},
   "outputs": [
    {
     "data": {
      "application/vnd.microsoft.datawrangler.viewer.v0+json": {
       "columns": [
        {
         "name": "index",
         "rawType": "object",
         "type": "string"
        },
        {
         "name": "Gender_Male",
         "rawType": "float64",
         "type": "float"
        },
        {
         "name": "Customer Type_disloyal Customer",
         "rawType": "float64",
         "type": "float"
        },
        {
         "name": "Type of Travel_Personal Travel",
         "rawType": "float64",
         "type": "float"
        },
        {
         "name": "Class_Business",
         "rawType": "float64",
         "type": "float"
        },
        {
         "name": "Class_Eco",
         "rawType": "float64",
         "type": "float"
        },
        {
         "name": "Class_Eco Plus",
         "rawType": "float64",
         "type": "float"
        },
        {
         "name": "satisfaction_satisfied",
         "rawType": "float64",
         "type": "float"
        },
        {
         "name": "Age",
         "rawType": "float64",
         "type": "float"
        },
        {
         "name": "Flight Distance",
         "rawType": "float64",
         "type": "float"
        },
        {
         "name": "Inflight entertainment",
         "rawType": "float64",
         "type": "float"
        },
        {
         "name": "Baggage handling",
         "rawType": "float64",
         "type": "float"
        },
        {
         "name": "Cleanliness",
         "rawType": "float64",
         "type": "float"
        },
        {
         "name": "Departure Delay in Minutes",
         "rawType": "float64",
         "type": "float"
        },
        {
         "name": "Arrival Delay in Minutes",
         "rawType": "float64",
         "type": "float"
        }
       ],
       "ref": "a943a15a-11cb-46a1-af8c-a6331b1d9a6d",
       "rows": [
        [
         "Gender_Male",
         "1.0",
         "-0.04318441903206212",
         "0.019124398113075487",
         "0.017750431924710642",
         "-0.001682576623124709",
         "-0.033709453427130574",
         "0.02139105441680256",
         "0.016241412797138765",
         "0.008321337194088042",
         "0.009431527548093071",
         "0.02675101009369095",
         "0.007852124441921982",
         "0.00599380021825881",
         "0.0023827101600447996"
        ],
        [
         "Customer Type_disloyal Customer",
         "-0.04318441903206212",
         "1.0",
         "-0.46756496499194466",
         "-0.1039205188292693",
         "0.14545514671677295",
         "-0.08937373563008974",
         "-0.24774762833313935",
         "-0.38162492347294286",
         "-0.3222996800395875",
         "-0.13806755203257026",
         "0.03075703385065149",
         "-0.10478778663741041",
         "0.0068983322641744975",
         "0.007803527159659206"
        ],
        [
         "Type of Travel_Personal Travel",
         "0.019124398113075487",
         "-0.46756496499194466",
         "1.0",
         "-0.37446101233687756",
         "0.3244233760925996",
         "0.10021104646547475",
         "-0.26913537220333056",
         "0.07876427773506407",
         "-0.11960568621476679",
         "-0.06467032876783975",
         "-0.029411158986768944",
         "-0.025524345318497902",
         "-0.017294976834442782",
         "-0.01834198584686404"
        ],
        [
         "Class_Business",
         "0.017750431924710642",
         "-0.1039205188292693",
         "-0.37446101233687756",
         "1.0",
         "-0.8873940384540894",
         "-0.22316908970454452",
         "0.43892287017408615",
         "0.17050071271125883",
         "0.3709847416482086",
         "0.13496512346700326",
         "0.2392046403366139",
         "0.0910969148428137",
         "-0.012903417959347078",
         "-0.017470761092648637"
        ],
        [
         "Class_Eco",
         "-0.001682576623124709",
         "0.14545514671677295",
         "0.3244233760925996",
         "-0.8873940384540894",
         "1.0",
         "-0.2513459839147185",
         "-0.39688343576113655",
         "-0.17965296973047326",
         "-0.3324035054542508",
         "-0.12490829607612242",
         "-0.20189940659236152",
         "-0.08450234643000401",
         "0.010035773408811488",
         "0.01344807179798396"
        ],
        [
         "Class_Eco Plus",
         "-0.033709453427130574",
         "-0.08937373563008974",
         "0.10021104646547475",
         "-0.22316908970454452",
         "-0.2513459839147185",
         "1.0",
         "-0.08233701097370157",
         "0.021897264595371228",
         "-0.07603912054303903",
         "-0.019249623006445733",
         "-0.07530843953718709",
         "-0.01258380667220695",
         "0.00587081543596951",
         "0.008244897630195655"
        ],
        [
         "satisfaction_satisfied",
         "0.02139105441680256",
         "-0.24774762833313935",
         "-0.26913537220333056",
         "0.43892287017408615",
         "-0.39688343576113655",
         "-0.08233701097370157",
         "1.0",
         "0.1264177937121528",
         "0.271058529025334",
         "0.2822155759081958",
         "0.22477295380221868",
         "0.21411544618353892",
         "-0.03655172776758593",
         "-0.04350926446733957"
        ],
        [
         "Age",
         "0.016241412797138765",
         "-0.38162492347294286",
         "0.07876427773506407",
         "0.17050071271125883",
         "-0.17965296973047326",
         "0.021897264595371228",
         "0.1264177937121528",
         "1.0",
         "0.14035249859721022",
         "0.08121885845462998",
         "-0.04362266330573791",
         "0.05814881562156416",
         "-0.002521848281397161",
         "-0.004211790721273222"
        ],
        [
         "Flight Distance",
         "0.008321337194088042",
         "-0.3222996800395875",
         "-0.11960568621476679",
         "0.3709847416482086",
         "-0.3324035054542508",
         "-0.07603912054303903",
         "0.271058529025334",
         "0.14035249859721022",
         "1.0",
         "0.11692279037401149",
         "0.050467886528399765",
         "0.08475675938371088",
         "0.006735598616157029",
         "0.00029286925203426555"
        ],
        [
         "Inflight entertainment",
         "0.009431527548093071",
         "-0.13806755203257026",
         "-0.06467032876783975",
         "0.13496512346700326",
         "-0.12490829607612242",
         "-0.019249623006445733",
         "0.2822155759081958",
         "0.08121885845462998",
         "0.11692279037401149",
         "1.0",
         "0.2418102258736392",
         "0.8023705971500534",
         "-0.019404175825139515",
         "-0.02227751560469025"
        ],
        [
         "Baggage handling",
         "0.02675101009369095",
         "0.03075703385065149",
         "-0.029411158986768944",
         "0.2392046403366139",
         "-0.20189940659236152",
         "-0.07530843953718709",
         "0.22477295380221868",
         "-0.04362266330573791",
         "0.050467886528399765",
         "0.2418102258736392",
         "1.0",
         "0.06216879212504827",
         "-0.016829841804726638",
         "-0.019980812749359197"
        ],
        [
         "Cleanliness",
         "0.007852124441921982",
         "-0.10478778663741041",
         "-0.025524345318497902",
         "0.0910969148428137",
         "-0.08450234643000401",
         "-0.01258380667220695",
         "0.21411544618353892",
         "0.05814881562156416",
         "0.08475675938371088",
         "0.8023705971500534",
         "0.06216879212504827",
         "1.0",
         "0.00012545748002772987",
         "0.000652356636777586"
        ],
        [
         "Departure Delay in Minutes",
         "0.00599380021825881",
         "0.0068983322641744975",
         "-0.017294976834442782",
         "-0.012903417959347078",
         "0.010035773408811488",
         "0.00587081543596951",
         "-0.03655172776758593",
         "-0.002521848281397161",
         "0.006735598616157029",
         "-0.019404175825139515",
         "-0.016829841804726638",
         "0.00012545748002772987",
         "1.0",
         "0.964482911013096"
        ],
        [
         "Arrival Delay in Minutes",
         "0.0023827101600447996",
         "0.007803527159659206",
         "-0.01834198584686404",
         "-0.017470761092648637",
         "0.01344807179798396",
         "0.008244897630195655",
         "-0.04350926446733957",
         "-0.004211790721273222",
         "0.00029286925203426555",
         "-0.02227751560469025",
         "-0.019980812749359197",
         "0.000652356636777586",
         "0.964482911013096",
         "1.0"
        ]
       ],
       "shape": {
        "columns": 14,
        "rows": 14
       }
      },
      "text/html": [
       "<div>\n",
       "<style scoped>\n",
       "    .dataframe tbody tr th:only-of-type {\n",
       "        vertical-align: middle;\n",
       "    }\n",
       "\n",
       "    .dataframe tbody tr th {\n",
       "        vertical-align: top;\n",
       "    }\n",
       "\n",
       "    .dataframe thead th {\n",
       "        text-align: right;\n",
       "    }\n",
       "</style>\n",
       "<table border=\"1\" class=\"dataframe\">\n",
       "  <thead>\n",
       "    <tr style=\"text-align: right;\">\n",
       "      <th></th>\n",
       "      <th>Gender_Male</th>\n",
       "      <th>Customer Type_disloyal Customer</th>\n",
       "      <th>Type of Travel_Personal Travel</th>\n",
       "      <th>Class_Business</th>\n",
       "      <th>Class_Eco</th>\n",
       "      <th>Class_Eco Plus</th>\n",
       "      <th>satisfaction_satisfied</th>\n",
       "      <th>Age</th>\n",
       "      <th>Flight Distance</th>\n",
       "      <th>Inflight entertainment</th>\n",
       "      <th>Baggage handling</th>\n",
       "      <th>Cleanliness</th>\n",
       "      <th>Departure Delay in Minutes</th>\n",
       "      <th>Arrival Delay in Minutes</th>\n",
       "    </tr>\n",
       "  </thead>\n",
       "  <tbody>\n",
       "    <tr>\n",
       "      <th>Gender_Male</th>\n",
       "      <td>1.000000</td>\n",
       "      <td>-0.043184</td>\n",
       "      <td>0.019124</td>\n",
       "      <td>0.017750</td>\n",
       "      <td>-0.001683</td>\n",
       "      <td>-0.033709</td>\n",
       "      <td>0.021391</td>\n",
       "      <td>0.016241</td>\n",
       "      <td>0.008321</td>\n",
       "      <td>0.009432</td>\n",
       "      <td>0.026751</td>\n",
       "      <td>0.007852</td>\n",
       "      <td>0.005994</td>\n",
       "      <td>0.002383</td>\n",
       "    </tr>\n",
       "    <tr>\n",
       "      <th>Customer Type_disloyal Customer</th>\n",
       "      <td>-0.043184</td>\n",
       "      <td>1.000000</td>\n",
       "      <td>-0.467565</td>\n",
       "      <td>-0.103921</td>\n",
       "      <td>0.145455</td>\n",
       "      <td>-0.089374</td>\n",
       "      <td>-0.247748</td>\n",
       "      <td>-0.381625</td>\n",
       "      <td>-0.322300</td>\n",
       "      <td>-0.138068</td>\n",
       "      <td>0.030757</td>\n",
       "      <td>-0.104788</td>\n",
       "      <td>0.006898</td>\n",
       "      <td>0.007804</td>\n",
       "    </tr>\n",
       "    <tr>\n",
       "      <th>Type of Travel_Personal Travel</th>\n",
       "      <td>0.019124</td>\n",
       "      <td>-0.467565</td>\n",
       "      <td>1.000000</td>\n",
       "      <td>-0.374461</td>\n",
       "      <td>0.324423</td>\n",
       "      <td>0.100211</td>\n",
       "      <td>-0.269135</td>\n",
       "      <td>0.078764</td>\n",
       "      <td>-0.119606</td>\n",
       "      <td>-0.064670</td>\n",
       "      <td>-0.029411</td>\n",
       "      <td>-0.025524</td>\n",
       "      <td>-0.017295</td>\n",
       "      <td>-0.018342</td>\n",
       "    </tr>\n",
       "    <tr>\n",
       "      <th>Class_Business</th>\n",
       "      <td>0.017750</td>\n",
       "      <td>-0.103921</td>\n",
       "      <td>-0.374461</td>\n",
       "      <td>1.000000</td>\n",
       "      <td>-0.887394</td>\n",
       "      <td>-0.223169</td>\n",
       "      <td>0.438923</td>\n",
       "      <td>0.170501</td>\n",
       "      <td>0.370985</td>\n",
       "      <td>0.134965</td>\n",
       "      <td>0.239205</td>\n",
       "      <td>0.091097</td>\n",
       "      <td>-0.012903</td>\n",
       "      <td>-0.017471</td>\n",
       "    </tr>\n",
       "    <tr>\n",
       "      <th>Class_Eco</th>\n",
       "      <td>-0.001683</td>\n",
       "      <td>0.145455</td>\n",
       "      <td>0.324423</td>\n",
       "      <td>-0.887394</td>\n",
       "      <td>1.000000</td>\n",
       "      <td>-0.251346</td>\n",
       "      <td>-0.396883</td>\n",
       "      <td>-0.179653</td>\n",
       "      <td>-0.332404</td>\n",
       "      <td>-0.124908</td>\n",
       "      <td>-0.201899</td>\n",
       "      <td>-0.084502</td>\n",
       "      <td>0.010036</td>\n",
       "      <td>0.013448</td>\n",
       "    </tr>\n",
       "    <tr>\n",
       "      <th>Class_Eco Plus</th>\n",
       "      <td>-0.033709</td>\n",
       "      <td>-0.089374</td>\n",
       "      <td>0.100211</td>\n",
       "      <td>-0.223169</td>\n",
       "      <td>-0.251346</td>\n",
       "      <td>1.000000</td>\n",
       "      <td>-0.082337</td>\n",
       "      <td>0.021897</td>\n",
       "      <td>-0.076039</td>\n",
       "      <td>-0.019250</td>\n",
       "      <td>-0.075308</td>\n",
       "      <td>-0.012584</td>\n",
       "      <td>0.005871</td>\n",
       "      <td>0.008245</td>\n",
       "    </tr>\n",
       "    <tr>\n",
       "      <th>satisfaction_satisfied</th>\n",
       "      <td>0.021391</td>\n",
       "      <td>-0.247748</td>\n",
       "      <td>-0.269135</td>\n",
       "      <td>0.438923</td>\n",
       "      <td>-0.396883</td>\n",
       "      <td>-0.082337</td>\n",
       "      <td>1.000000</td>\n",
       "      <td>0.126418</td>\n",
       "      <td>0.271059</td>\n",
       "      <td>0.282216</td>\n",
       "      <td>0.224773</td>\n",
       "      <td>0.214115</td>\n",
       "      <td>-0.036552</td>\n",
       "      <td>-0.043509</td>\n",
       "    </tr>\n",
       "    <tr>\n",
       "      <th>Age</th>\n",
       "      <td>0.016241</td>\n",
       "      <td>-0.381625</td>\n",
       "      <td>0.078764</td>\n",
       "      <td>0.170501</td>\n",
       "      <td>-0.179653</td>\n",
       "      <td>0.021897</td>\n",
       "      <td>0.126418</td>\n",
       "      <td>1.000000</td>\n",
       "      <td>0.140352</td>\n",
       "      <td>0.081219</td>\n",
       "      <td>-0.043623</td>\n",
       "      <td>0.058149</td>\n",
       "      <td>-0.002522</td>\n",
       "      <td>-0.004212</td>\n",
       "    </tr>\n",
       "    <tr>\n",
       "      <th>Flight Distance</th>\n",
       "      <td>0.008321</td>\n",
       "      <td>-0.322300</td>\n",
       "      <td>-0.119606</td>\n",
       "      <td>0.370985</td>\n",
       "      <td>-0.332404</td>\n",
       "      <td>-0.076039</td>\n",
       "      <td>0.271059</td>\n",
       "      <td>0.140352</td>\n",
       "      <td>1.000000</td>\n",
       "      <td>0.116923</td>\n",
       "      <td>0.050468</td>\n",
       "      <td>0.084757</td>\n",
       "      <td>0.006736</td>\n",
       "      <td>0.000293</td>\n",
       "    </tr>\n",
       "    <tr>\n",
       "      <th>Inflight entertainment</th>\n",
       "      <td>0.009432</td>\n",
       "      <td>-0.138068</td>\n",
       "      <td>-0.064670</td>\n",
       "      <td>0.134965</td>\n",
       "      <td>-0.124908</td>\n",
       "      <td>-0.019250</td>\n",
       "      <td>0.282216</td>\n",
       "      <td>0.081219</td>\n",
       "      <td>0.116923</td>\n",
       "      <td>1.000000</td>\n",
       "      <td>0.241810</td>\n",
       "      <td>0.802371</td>\n",
       "      <td>-0.019404</td>\n",
       "      <td>-0.022278</td>\n",
       "    </tr>\n",
       "    <tr>\n",
       "      <th>Baggage handling</th>\n",
       "      <td>0.026751</td>\n",
       "      <td>0.030757</td>\n",
       "      <td>-0.029411</td>\n",
       "      <td>0.239205</td>\n",
       "      <td>-0.201899</td>\n",
       "      <td>-0.075308</td>\n",
       "      <td>0.224773</td>\n",
       "      <td>-0.043623</td>\n",
       "      <td>0.050468</td>\n",
       "      <td>0.241810</td>\n",
       "      <td>1.000000</td>\n",
       "      <td>0.062169</td>\n",
       "      <td>-0.016830</td>\n",
       "      <td>-0.019981</td>\n",
       "    </tr>\n",
       "    <tr>\n",
       "      <th>Cleanliness</th>\n",
       "      <td>0.007852</td>\n",
       "      <td>-0.104788</td>\n",
       "      <td>-0.025524</td>\n",
       "      <td>0.091097</td>\n",
       "      <td>-0.084502</td>\n",
       "      <td>-0.012584</td>\n",
       "      <td>0.214115</td>\n",
       "      <td>0.058149</td>\n",
       "      <td>0.084757</td>\n",
       "      <td>0.802371</td>\n",
       "      <td>0.062169</td>\n",
       "      <td>1.000000</td>\n",
       "      <td>0.000125</td>\n",
       "      <td>0.000652</td>\n",
       "    </tr>\n",
       "    <tr>\n",
       "      <th>Departure Delay in Minutes</th>\n",
       "      <td>0.005994</td>\n",
       "      <td>0.006898</td>\n",
       "      <td>-0.017295</td>\n",
       "      <td>-0.012903</td>\n",
       "      <td>0.010036</td>\n",
       "      <td>0.005871</td>\n",
       "      <td>-0.036552</td>\n",
       "      <td>-0.002522</td>\n",
       "      <td>0.006736</td>\n",
       "      <td>-0.019404</td>\n",
       "      <td>-0.016830</td>\n",
       "      <td>0.000125</td>\n",
       "      <td>1.000000</td>\n",
       "      <td>0.964483</td>\n",
       "    </tr>\n",
       "    <tr>\n",
       "      <th>Arrival Delay in Minutes</th>\n",
       "      <td>0.002383</td>\n",
       "      <td>0.007804</td>\n",
       "      <td>-0.018342</td>\n",
       "      <td>-0.017471</td>\n",
       "      <td>0.013448</td>\n",
       "      <td>0.008245</td>\n",
       "      <td>-0.043509</td>\n",
       "      <td>-0.004212</td>\n",
       "      <td>0.000293</td>\n",
       "      <td>-0.022278</td>\n",
       "      <td>-0.019981</td>\n",
       "      <td>0.000652</td>\n",
       "      <td>0.964483</td>\n",
       "      <td>1.000000</td>\n",
       "    </tr>\n",
       "  </tbody>\n",
       "</table>\n",
       "</div>"
      ],
      "text/plain": [
       "                                 Gender_Male  Customer Type_disloyal Customer  \\\n",
       "Gender_Male                         1.000000                        -0.043184   \n",
       "Customer Type_disloyal Customer    -0.043184                         1.000000   \n",
       "Type of Travel_Personal Travel      0.019124                        -0.467565   \n",
       "Class_Business                      0.017750                        -0.103921   \n",
       "Class_Eco                          -0.001683                         0.145455   \n",
       "Class_Eco Plus                     -0.033709                        -0.089374   \n",
       "satisfaction_satisfied              0.021391                        -0.247748   \n",
       "Age                                 0.016241                        -0.381625   \n",
       "Flight Distance                     0.008321                        -0.322300   \n",
       "Inflight entertainment              0.009432                        -0.138068   \n",
       "Baggage handling                    0.026751                         0.030757   \n",
       "Cleanliness                         0.007852                        -0.104788   \n",
       "Departure Delay in Minutes          0.005994                         0.006898   \n",
       "Arrival Delay in Minutes            0.002383                         0.007804   \n",
       "\n",
       "                                 Type of Travel_Personal Travel  \\\n",
       "Gender_Male                                            0.019124   \n",
       "Customer Type_disloyal Customer                       -0.467565   \n",
       "Type of Travel_Personal Travel                         1.000000   \n",
       "Class_Business                                        -0.374461   \n",
       "Class_Eco                                              0.324423   \n",
       "Class_Eco Plus                                         0.100211   \n",
       "satisfaction_satisfied                                -0.269135   \n",
       "Age                                                    0.078764   \n",
       "Flight Distance                                       -0.119606   \n",
       "Inflight entertainment                                -0.064670   \n",
       "Baggage handling                                      -0.029411   \n",
       "Cleanliness                                           -0.025524   \n",
       "Departure Delay in Minutes                            -0.017295   \n",
       "Arrival Delay in Minutes                              -0.018342   \n",
       "\n",
       "                                 Class_Business  Class_Eco  Class_Eco Plus  \\\n",
       "Gender_Male                            0.017750  -0.001683       -0.033709   \n",
       "Customer Type_disloyal Customer       -0.103921   0.145455       -0.089374   \n",
       "Type of Travel_Personal Travel        -0.374461   0.324423        0.100211   \n",
       "Class_Business                         1.000000  -0.887394       -0.223169   \n",
       "Class_Eco                             -0.887394   1.000000       -0.251346   \n",
       "Class_Eco Plus                        -0.223169  -0.251346        1.000000   \n",
       "satisfaction_satisfied                 0.438923  -0.396883       -0.082337   \n",
       "Age                                    0.170501  -0.179653        0.021897   \n",
       "Flight Distance                        0.370985  -0.332404       -0.076039   \n",
       "Inflight entertainment                 0.134965  -0.124908       -0.019250   \n",
       "Baggage handling                       0.239205  -0.201899       -0.075308   \n",
       "Cleanliness                            0.091097  -0.084502       -0.012584   \n",
       "Departure Delay in Minutes            -0.012903   0.010036        0.005871   \n",
       "Arrival Delay in Minutes              -0.017471   0.013448        0.008245   \n",
       "\n",
       "                                 satisfaction_satisfied       Age  \\\n",
       "Gender_Male                                    0.021391  0.016241   \n",
       "Customer Type_disloyal Customer               -0.247748 -0.381625   \n",
       "Type of Travel_Personal Travel                -0.269135  0.078764   \n",
       "Class_Business                                 0.438923  0.170501   \n",
       "Class_Eco                                     -0.396883 -0.179653   \n",
       "Class_Eco Plus                                -0.082337  0.021897   \n",
       "satisfaction_satisfied                         1.000000  0.126418   \n",
       "Age                                            0.126418  1.000000   \n",
       "Flight Distance                                0.271059  0.140352   \n",
       "Inflight entertainment                         0.282216  0.081219   \n",
       "Baggage handling                               0.224773 -0.043623   \n",
       "Cleanliness                                    0.214115  0.058149   \n",
       "Departure Delay in Minutes                    -0.036552 -0.002522   \n",
       "Arrival Delay in Minutes                      -0.043509 -0.004212   \n",
       "\n",
       "                                 Flight Distance  Inflight entertainment  \\\n",
       "Gender_Male                             0.008321                0.009432   \n",
       "Customer Type_disloyal Customer        -0.322300               -0.138068   \n",
       "Type of Travel_Personal Travel         -0.119606               -0.064670   \n",
       "Class_Business                          0.370985                0.134965   \n",
       "Class_Eco                              -0.332404               -0.124908   \n",
       "Class_Eco Plus                         -0.076039               -0.019250   \n",
       "satisfaction_satisfied                  0.271059                0.282216   \n",
       "Age                                     0.140352                0.081219   \n",
       "Flight Distance                         1.000000                0.116923   \n",
       "Inflight entertainment                  0.116923                1.000000   \n",
       "Baggage handling                        0.050468                0.241810   \n",
       "Cleanliness                             0.084757                0.802371   \n",
       "Departure Delay in Minutes              0.006736               -0.019404   \n",
       "Arrival Delay in Minutes                0.000293               -0.022278   \n",
       "\n",
       "                                 Baggage handling  Cleanliness  \\\n",
       "Gender_Male                              0.026751     0.007852   \n",
       "Customer Type_disloyal Customer          0.030757    -0.104788   \n",
       "Type of Travel_Personal Travel          -0.029411    -0.025524   \n",
       "Class_Business                           0.239205     0.091097   \n",
       "Class_Eco                               -0.201899    -0.084502   \n",
       "Class_Eco Plus                          -0.075308    -0.012584   \n",
       "satisfaction_satisfied                   0.224773     0.214115   \n",
       "Age                                     -0.043623     0.058149   \n",
       "Flight Distance                          0.050468     0.084757   \n",
       "Inflight entertainment                   0.241810     0.802371   \n",
       "Baggage handling                         1.000000     0.062169   \n",
       "Cleanliness                              0.062169     1.000000   \n",
       "Departure Delay in Minutes              -0.016830     0.000125   \n",
       "Arrival Delay in Minutes                -0.019981     0.000652   \n",
       "\n",
       "                                 Departure Delay in Minutes  \\\n",
       "Gender_Male                                        0.005994   \n",
       "Customer Type_disloyal Customer                    0.006898   \n",
       "Type of Travel_Personal Travel                    -0.017295   \n",
       "Class_Business                                    -0.012903   \n",
       "Class_Eco                                          0.010036   \n",
       "Class_Eco Plus                                     0.005871   \n",
       "satisfaction_satisfied                            -0.036552   \n",
       "Age                                               -0.002522   \n",
       "Flight Distance                                    0.006736   \n",
       "Inflight entertainment                            -0.019404   \n",
       "Baggage handling                                  -0.016830   \n",
       "Cleanliness                                        0.000125   \n",
       "Departure Delay in Minutes                         1.000000   \n",
       "Arrival Delay in Minutes                           0.964483   \n",
       "\n",
       "                                 Arrival Delay in Minutes  \n",
       "Gender_Male                                      0.002383  \n",
       "Customer Type_disloyal Customer                  0.007804  \n",
       "Type of Travel_Personal Travel                  -0.018342  \n",
       "Class_Business                                  -0.017471  \n",
       "Class_Eco                                        0.013448  \n",
       "Class_Eco Plus                                   0.008245  \n",
       "satisfaction_satisfied                          -0.043509  \n",
       "Age                                             -0.004212  \n",
       "Flight Distance                                  0.000293  \n",
       "Inflight entertainment                          -0.022278  \n",
       "Baggage handling                                -0.019981  \n",
       "Cleanliness                                      0.000652  \n",
       "Departure Delay in Minutes                       0.964483  \n",
       "Arrival Delay in Minutes                         1.000000  "
      ]
     },
     "execution_count": 18,
     "metadata": {},
     "output_type": "execute_result"
    }
   ],
   "source": [
    "## x and y ---> train test split ---> algorithm training \n",
    "matrix = final_df.corr()\n",
    "matrix"
   ]
  },
  {
   "cell_type": "code",
   "execution_count": 19,
   "id": "4362a9f6",
   "metadata": {},
   "outputs": [
    {
     "data": {
      "text/plain": [
       "<Axes: >"
      ]
     },
     "execution_count": 19,
     "metadata": {},
     "output_type": "execute_result"
    },
    {
     "data": {
      "image/png": "[encoded data removed]",
      "text/plain": [
       "<Figure size 640x480 with 2 Axes>"
      ]
     },
     "metadata": {},
     "output_type": "display_data"
    }
   ],
   "source": [
    "sns.heatmap(matrix,annot=True, cmap=\"coolwarm\")"
   ]
  },
  {
   "cell_type": "code",
   "execution_count": 24,
   "id": "6fd9f6d9",
   "metadata": {},
   "outputs": [],
   "source": [
    "## training and testing \n",
    "from sklearn.model_selection import train_test_split \n",
    "# Assume you have a DataFrame called df\n",
    "x = df.drop('satisfaction', axis=1)  # all columns except target\n",
    "y = df['satisfaction']               # target column\n",
    "\n",
    "x_train, x_test, y_train, y_test = train_test_split(\n",
    "    x, y, test_size=0.2, random_state=42\n",
    ")\n"
   ]
  }
 ],
 "metadata": {
  "kernelspec": {
   "display_name": "Python 3",
   "language": "python",
   "name": "python3"
  },
  "language_info": {
   "codemirror_mode": {
    "name": "ipython",
    "version": 3
   },
   "file_extension": ".py",
   "mimetype": "text/x-python",
   "name": "python",
   "nbconvert_exporter": "python",
   "pygments_lexer": "ipython3",
   "version": "3.11.9"
  }
 },
 "nbformat": 4,
 "nbformat_minor": 5
}
