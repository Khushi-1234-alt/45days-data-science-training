{
 "cells": [
  {
   "cell_type": "markdown",
   "id": "56117645",
   "metadata": {},
   "source": [
    "## PANDAS(pd)\n",
    "##### Pandas is a Python library used for working with data sets.\n",
    "##### It has functions for analyzing, cleaning, exploring, and manipulating data."
   ]
  },
  {
   "cell_type": "code",
   "execution_count": 38,
   "id": "4c44af15",
   "metadata": {},
   "outputs": [
    {
     "data": {
      "text/plain": [
       "pandas.core.frame.DataFrame"
      ]
     },
     "execution_count": 38,
     "metadata": {},
     "output_type": "execute_result"
    }
   ],
   "source": [
    "## csv\n",
    "## series ---> it is a 1D labelled array capable of holding only any data type\n",
    "## dataframe ---> it is a 2D labelled data structure\n",
    "## basically a table with rows and column \n",
    "import pandas as pd \n",
    "df = pd.read_csv(\"Used_Bikes.csv\")\n",
    "df = pd.read_csv(r\"C:\\Users\\KHUSHI GUPTA\\OneDrive\\Desktop\\45days-data-science-training\\library\\Used_Bikes.csv\")\n",
    "df\n",
    "type(df)"
   ]
  },
  {
   "cell_type": "code",
   "execution_count": 39,
   "id": "2dab5718",
   "metadata": {},
   "outputs": [
    {
     "data": {
      "application/vnd.microsoft.datawrangler.viewer.v0+json": {
       "columns": [
        {
         "name": "index",
         "rawType": "int64",
         "type": "integer"
        },
        {
         "name": "name",
         "rawType": "object",
         "type": "string"
        },
        {
         "name": "marks",
         "rawType": "int64",
         "type": "integer"
        },
        {
         "name": "age",
         "rawType": "int64",
         "type": "integer"
        }
       ],
       "ref": "41426ff2-51be-476b-83b7-c6f6f9ad52a0",
       "rows": [
        [
         "0",
         "a",
         "1",
         "1"
        ],
        [
         "1",
         "b",
         "2",
         "2"
        ],
        [
         "2",
         "c",
         "3",
         "3"
        ]
       ],
       "shape": {
        "columns": 3,
        "rows": 3
       }
      },
      "text/html": [
       "<div>\n",
       "<style scoped>\n",
       "    .dataframe tbody tr th:only-of-type {\n",
       "        vertical-align: middle;\n",
       "    }\n",
       "\n",
       "    .dataframe tbody tr th {\n",
       "        vertical-align: top;\n",
       "    }\n",
       "\n",
       "    .dataframe thead th {\n",
       "        text-align: right;\n",
       "    }\n",
       "</style>\n",
       "<table border=\"1\" class=\"dataframe\">\n",
       "  <thead>\n",
       "    <tr style=\"text-align: right;\">\n",
       "      <th></th>\n",
       "      <th>name</th>\n",
       "      <th>marks</th>\n",
       "      <th>age</th>\n",
       "    </tr>\n",
       "  </thead>\n",
       "  <tbody>\n",
       "    <tr>\n",
       "      <th>0</th>\n",
       "      <td>a</td>\n",
       "      <td>1</td>\n",
       "      <td>1</td>\n",
       "    </tr>\n",
       "    <tr>\n",
       "      <th>1</th>\n",
       "      <td>b</td>\n",
       "      <td>2</td>\n",
       "      <td>2</td>\n",
       "    </tr>\n",
       "    <tr>\n",
       "      <th>2</th>\n",
       "      <td>c</td>\n",
       "      <td>3</td>\n",
       "      <td>3</td>\n",
       "    </tr>\n",
       "  </tbody>\n",
       "</table>\n",
       "</div>"
      ],
      "text/plain": [
       "  name  marks  age\n",
       "0    a      1    1\n",
       "1    b      2    2\n",
       "2    c      3    3"
      ]
     },
     "execution_count": 39,
     "metadata": {},
     "output_type": "execute_result"
    }
   ],
   "source": [
    "dt = {\"name\":[\"a\",\"b\",\"c\"],\n",
    "    \"marks\":[1,2,3],\n",
    "    \"age\":[1,2,3]} \n",
    "\n",
    "df1 = pd.DataFrame(dt)\n",
    "df1\n"
   ]
  },
  {
   "cell_type": "code",
   "execution_count": 40,
   "id": "382cc79c",
   "metadata": {},
   "outputs": [
    {
     "data": {
      "text/plain": [
       "array([[ 0,  1,  2,  3,  4,  5],\n",
       "       [ 6,  7,  8,  9, 10, 11],\n",
       "       [12, 13, 14, 15, 16, 17],\n",
       "       [18, 19, 20, 21, 22, 23],\n",
       "       [24, 25, 26, 27, 28, 29],\n",
       "       [30, 31, 32, 33, 34, 35],\n",
       "       [36, 37, 38, 39, 40, 41],\n",
       "       [42, 43, 44, 45, 46, 47],\n",
       "       [48, 49, 50, 51, 52, 53],\n",
       "       [54, 55, 56, 57, 58, 59]])"
      ]
     },
     "execution_count": 40,
     "metadata": {},
     "output_type": "execute_result"
    }
   ],
   "source": [
    "import numpy as np \n",
    "arr = np.arange(60).reshape(10,6)\n",
    "arr"
   ]
  },
  {
   "cell_type": "code",
   "execution_count": 41,
   "id": "879bf74d",
   "metadata": {},
   "outputs": [
    {
     "data": {
      "application/vnd.microsoft.datawrangler.viewer.v0+json": {
       "columns": [
        {
         "name": "index",
         "rawType": "int64",
         "type": "integer"
        },
        {
         "name": "a",
         "rawType": "int64",
         "type": "integer"
        },
        {
         "name": "b",
         "rawType": "int64",
         "type": "integer"
        },
        {
         "name": "c",
         "rawType": "int64",
         "type": "integer"
        },
        {
         "name": "d",
         "rawType": "int64",
         "type": "integer"
        },
        {
         "name": "e",
         "rawType": "int64",
         "type": "integer"
        },
        {
         "name": "f",
         "rawType": "int64",
         "type": "integer"
        }
       ],
       "ref": "fa4e2c41-20b7-48d9-b94e-a23e4f733048",
       "rows": [
        [
         "0",
         "0",
         "1",
         "2",
         "3",
         "4",
         "5"
        ],
        [
         "1",
         "6",
         "7",
         "8",
         "9",
         "10",
         "11"
        ],
        [
         "2",
         "12",
         "13",
         "14",
         "15",
         "16",
         "17"
        ],
        [
         "3",
         "18",
         "19",
         "20",
         "21",
         "22",
         "23"
        ],
        [
         "4",
         "24",
         "25",
         "26",
         "27",
         "28",
         "29"
        ],
        [
         "5",
         "30",
         "31",
         "32",
         "33",
         "34",
         "35"
        ],
        [
         "6",
         "36",
         "37",
         "38",
         "39",
         "40",
         "41"
        ],
        [
         "7",
         "42",
         "43",
         "44",
         "45",
         "46",
         "47"
        ],
        [
         "8",
         "48",
         "49",
         "50",
         "51",
         "52",
         "53"
        ],
        [
         "9",
         "54",
         "55",
         "56",
         "57",
         "58",
         "59"
        ]
       ],
       "shape": {
        "columns": 6,
        "rows": 10
       }
      },
      "text/html": [
       "<div>\n",
       "<style scoped>\n",
       "    .dataframe tbody tr th:only-of-type {\n",
       "        vertical-align: middle;\n",
       "    }\n",
       "\n",
       "    .dataframe tbody tr th {\n",
       "        vertical-align: top;\n",
       "    }\n",
       "\n",
       "    .dataframe thead th {\n",
       "        text-align: right;\n",
       "    }\n",
       "</style>\n",
       "<table border=\"1\" class=\"dataframe\">\n",
       "  <thead>\n",
       "    <tr style=\"text-align: right;\">\n",
       "      <th></th>\n",
       "      <th>a</th>\n",
       "      <th>b</th>\n",
       "      <th>c</th>\n",
       "      <th>d</th>\n",
       "      <th>e</th>\n",
       "      <th>f</th>\n",
       "    </tr>\n",
       "  </thead>\n",
       "  <tbody>\n",
       "    <tr>\n",
       "      <th>0</th>\n",
       "      <td>0</td>\n",
       "      <td>1</td>\n",
       "      <td>2</td>\n",
       "      <td>3</td>\n",
       "      <td>4</td>\n",
       "      <td>5</td>\n",
       "    </tr>\n",
       "    <tr>\n",
       "      <th>1</th>\n",
       "      <td>6</td>\n",
       "      <td>7</td>\n",
       "      <td>8</td>\n",
       "      <td>9</td>\n",
       "      <td>10</td>\n",
       "      <td>11</td>\n",
       "    </tr>\n",
       "    <tr>\n",
       "      <th>2</th>\n",
       "      <td>12</td>\n",
       "      <td>13</td>\n",
       "      <td>14</td>\n",
       "      <td>15</td>\n",
       "      <td>16</td>\n",
       "      <td>17</td>\n",
       "    </tr>\n",
       "    <tr>\n",
       "      <th>3</th>\n",
       "      <td>18</td>\n",
       "      <td>19</td>\n",
       "      <td>20</td>\n",
       "      <td>21</td>\n",
       "      <td>22</td>\n",
       "      <td>23</td>\n",
       "    </tr>\n",
       "    <tr>\n",
       "      <th>4</th>\n",
       "      <td>24</td>\n",
       "      <td>25</td>\n",
       "      <td>26</td>\n",
       "      <td>27</td>\n",
       "      <td>28</td>\n",
       "      <td>29</td>\n",
       "    </tr>\n",
       "    <tr>\n",
       "      <th>5</th>\n",
       "      <td>30</td>\n",
       "      <td>31</td>\n",
       "      <td>32</td>\n",
       "      <td>33</td>\n",
       "      <td>34</td>\n",
       "      <td>35</td>\n",
       "    </tr>\n",
       "    <tr>\n",
       "      <th>6</th>\n",
       "      <td>36</td>\n",
       "      <td>37</td>\n",
       "      <td>38</td>\n",
       "      <td>39</td>\n",
       "      <td>40</td>\n",
       "      <td>41</td>\n",
       "    </tr>\n",
       "    <tr>\n",
       "      <th>7</th>\n",
       "      <td>42</td>\n",
       "      <td>43</td>\n",
       "      <td>44</td>\n",
       "      <td>45</td>\n",
       "      <td>46</td>\n",
       "      <td>47</td>\n",
       "    </tr>\n",
       "    <tr>\n",
       "      <th>8</th>\n",
       "      <td>48</td>\n",
       "      <td>49</td>\n",
       "      <td>50</td>\n",
       "      <td>51</td>\n",
       "      <td>52</td>\n",
       "      <td>53</td>\n",
       "    </tr>\n",
       "    <tr>\n",
       "      <th>9</th>\n",
       "      <td>54</td>\n",
       "      <td>55</td>\n",
       "      <td>56</td>\n",
       "      <td>57</td>\n",
       "      <td>58</td>\n",
       "      <td>59</td>\n",
       "    </tr>\n",
       "  </tbody>\n",
       "</table>\n",
       "</div>"
      ],
      "text/plain": [
       "    a   b   c   d   e   f\n",
       "0   0   1   2   3   4   5\n",
       "1   6   7   8   9  10  11\n",
       "2  12  13  14  15  16  17\n",
       "3  18  19  20  21  22  23\n",
       "4  24  25  26  27  28  29\n",
       "5  30  31  32  33  34  35\n",
       "6  36  37  38  39  40  41\n",
       "7  42  43  44  45  46  47\n",
       "8  48  49  50  51  52  53\n",
       "9  54  55  56  57  58  59"
      ]
     },
     "execution_count": 41,
     "metadata": {},
     "output_type": "execute_result"
    }
   ],
   "source": [
    "df2 = pd.DataFrame(arr, columns = [\"a\",\"b\",\"c\",\"d\",\"e\",\"f\"])\n",
    "df2"
   ]
  },
  {
   "cell_type": "code",
   "execution_count": 42,
   "id": "83711fc9",
   "metadata": {},
   "outputs": [
    {
     "data": {
      "application/vnd.microsoft.datawrangler.viewer.v0+json": {
       "columns": [
        {
         "name": "index",
         "rawType": "int64",
         "type": "integer"
        },
        {
         "name": "bike_name",
         "rawType": "object",
         "type": "string"
        },
        {
         "name": "price",
         "rawType": "float64",
         "type": "float"
        },
        {
         "name": "city",
         "rawType": "object",
         "type": "string"
        },
        {
         "name": "kms_driven",
         "rawType": "float64",
         "type": "float"
        },
        {
         "name": "owner",
         "rawType": "object",
         "type": "string"
        },
        {
         "name": "age",
         "rawType": "float64",
         "type": "float"
        },
        {
         "name": "power",
         "rawType": "float64",
         "type": "float"
        },
        {
         "name": "brand",
         "rawType": "object",
         "type": "string"
        }
       ],
       "ref": "2abe70e4-4b73-4119-8a8b-2222737d77a8",
       "rows": [
        [
         "32638",
         "Yamaha Fazer 25 250cc",
         "123000.0",
         "Kadapa",
         "14500.0",
         "First Owner",
         "4.0",
         "250.0",
         "Yamaha"
        ],
        [
         "32639",
         "Royal Enfield Classic 350cc",
         "95500.0",
         "Delhi",
         "18000.0",
         "First Owner",
         "8.0",
         "350.0",
         "Royal Enfield"
        ],
        [
         "32640",
         "Hero Passion Pro 100cc",
         "32000.0",
         "Delhi",
         "12000.0",
         "First Owner",
         "6.0",
         "100.0",
         "Hero"
        ],
        [
         "32641",
         "Bajaj Avenger 220cc",
         "41000.0",
         "Delhi",
         "20245.0",
         "Second Owner",
         "11.0",
         "220.0",
         "Bajaj"
        ],
        [
         "32642",
         "Hero Passion 100cc",
         "15000.0",
         "Perumbavoor",
         "35000.0",
         "Second Owner",
         "19.0",
         "100.0",
         "Hero"
        ],
        [
         "32643",
         "Hero Passion Pro 100cc",
         "39000.0",
         "Delhi",
         "22000.0",
         "First Owner",
         "4.0",
         "100.0",
         "Hero"
        ],
        [
         "32644",
         "TVS Apache RTR 180cc",
         "30000.0",
         "Karnal",
         "6639.0",
         "First Owner",
         "9.0",
         "180.0",
         "TVS"
        ],
        [
         "32645",
         "Bajaj Avenger Street 220",
         "60000.0",
         "Delhi",
         "20373.0",
         "First Owner",
         "6.0",
         "220.0",
         "Bajaj"
        ],
        [
         "32646",
         "Hero Super Splendor 125cc",
         "15600.0",
         "Jaipur",
         "84186.0",
         "First Owner",
         "16.0",
         "125.0",
         "Hero"
        ],
        [
         "32647",
         "Bajaj Pulsar 150cc",
         "22000.0",
         "Pune",
         "60857.0",
         "First Owner",
         "13.0",
         "150.0",
         "Bajaj"
        ]
       ],
       "shape": {
        "columns": 8,
        "rows": 10
       }
      },
      "text/html": [
       "<div>\n",
       "<style scoped>\n",
       "    .dataframe tbody tr th:only-of-type {\n",
       "        vertical-align: middle;\n",
       "    }\n",
       "\n",
       "    .dataframe tbody tr th {\n",
       "        vertical-align: top;\n",
       "    }\n",
       "\n",
       "    .dataframe thead th {\n",
       "        text-align: right;\n",
       "    }\n",
       "</style>\n",
       "<table border=\"1\" class=\"dataframe\">\n",
       "  <thead>\n",
       "    <tr style=\"text-align: right;\">\n",
       "      <th></th>\n",
       "      <th>bike_name</th>\n",
       "      <th>price</th>\n",
       "      <th>city</th>\n",
       "      <th>kms_driven</th>\n",
       "      <th>owner</th>\n",
       "      <th>age</th>\n",
       "      <th>power</th>\n",
       "      <th>brand</th>\n",
       "    </tr>\n",
       "  </thead>\n",
       "  <tbody>\n",
       "    <tr>\n",
       "      <th>32638</th>\n",
       "      <td>Yamaha Fazer 25 250cc</td>\n",
       "      <td>123000.0</td>\n",
       "      <td>Kadapa</td>\n",
       "      <td>14500.0</td>\n",
       "      <td>First Owner</td>\n",
       "      <td>4.0</td>\n",
       "      <td>250.0</td>\n",
       "      <td>Yamaha</td>\n",
       "    </tr>\n",
       "    <tr>\n",
       "      <th>32639</th>\n",
       "      <td>Royal Enfield Classic 350cc</td>\n",
       "      <td>95500.0</td>\n",
       "      <td>Delhi</td>\n",
       "      <td>18000.0</td>\n",
       "      <td>First Owner</td>\n",
       "      <td>8.0</td>\n",
       "      <td>350.0</td>\n",
       "      <td>Royal Enfield</td>\n",
       "    </tr>\n",
       "    <tr>\n",
       "      <th>32640</th>\n",
       "      <td>Hero Passion Pro 100cc</td>\n",
       "      <td>32000.0</td>\n",
       "      <td>Delhi</td>\n",
       "      <td>12000.0</td>\n",
       "      <td>First Owner</td>\n",
       "      <td>6.0</td>\n",
       "      <td>100.0</td>\n",
       "      <td>Hero</td>\n",
       "    </tr>\n",
       "    <tr>\n",
       "      <th>32641</th>\n",
       "      <td>Bajaj Avenger 220cc</td>\n",
       "      <td>41000.0</td>\n",
       "      <td>Delhi</td>\n",
       "      <td>20245.0</td>\n",
       "      <td>Second Owner</td>\n",
       "      <td>11.0</td>\n",
       "      <td>220.0</td>\n",
       "      <td>Bajaj</td>\n",
       "    </tr>\n",
       "    <tr>\n",
       "      <th>32642</th>\n",
       "      <td>Hero Passion 100cc</td>\n",
       "      <td>15000.0</td>\n",
       "      <td>Perumbavoor</td>\n",
       "      <td>35000.0</td>\n",
       "      <td>Second Owner</td>\n",
       "      <td>19.0</td>\n",
       "      <td>100.0</td>\n",
       "      <td>Hero</td>\n",
       "    </tr>\n",
       "    <tr>\n",
       "      <th>32643</th>\n",
       "      <td>Hero Passion Pro 100cc</td>\n",
       "      <td>39000.0</td>\n",
       "      <td>Delhi</td>\n",
       "      <td>22000.0</td>\n",
       "      <td>First Owner</td>\n",
       "      <td>4.0</td>\n",
       "      <td>100.0</td>\n",
       "      <td>Hero</td>\n",
       "    </tr>\n",
       "    <tr>\n",
       "      <th>32644</th>\n",
       "      <td>TVS Apache RTR 180cc</td>\n",
       "      <td>30000.0</td>\n",
       "      <td>Karnal</td>\n",
       "      <td>6639.0</td>\n",
       "      <td>First Owner</td>\n",
       "      <td>9.0</td>\n",
       "      <td>180.0</td>\n",
       "      <td>TVS</td>\n",
       "    </tr>\n",
       "    <tr>\n",
       "      <th>32645</th>\n",
       "      <td>Bajaj Avenger Street 220</td>\n",
       "      <td>60000.0</td>\n",
       "      <td>Delhi</td>\n",
       "      <td>20373.0</td>\n",
       "      <td>First Owner</td>\n",
       "      <td>6.0</td>\n",
       "      <td>220.0</td>\n",
       "      <td>Bajaj</td>\n",
       "    </tr>\n",
       "    <tr>\n",
       "      <th>32646</th>\n",
       "      <td>Hero Super Splendor 125cc</td>\n",
       "      <td>15600.0</td>\n",
       "      <td>Jaipur</td>\n",
       "      <td>84186.0</td>\n",
       "      <td>First Owner</td>\n",
       "      <td>16.0</td>\n",
       "      <td>125.0</td>\n",
       "      <td>Hero</td>\n",
       "    </tr>\n",
       "    <tr>\n",
       "      <th>32647</th>\n",
       "      <td>Bajaj Pulsar 150cc</td>\n",
       "      <td>22000.0</td>\n",
       "      <td>Pune</td>\n",
       "      <td>60857.0</td>\n",
       "      <td>First Owner</td>\n",
       "      <td>13.0</td>\n",
       "      <td>150.0</td>\n",
       "      <td>Bajaj</td>\n",
       "    </tr>\n",
       "  </tbody>\n",
       "</table>\n",
       "</div>"
      ],
      "text/plain": [
       "                         bike_name     price         city  kms_driven  \\\n",
       "32638        Yamaha Fazer 25 250cc  123000.0       Kadapa     14500.0   \n",
       "32639  Royal Enfield Classic 350cc   95500.0        Delhi     18000.0   \n",
       "32640       Hero Passion Pro 100cc   32000.0        Delhi     12000.0   \n",
       "32641          Bajaj Avenger 220cc   41000.0        Delhi     20245.0   \n",
       "32642           Hero Passion 100cc   15000.0  Perumbavoor     35000.0   \n",
       "32643       Hero Passion Pro 100cc   39000.0        Delhi     22000.0   \n",
       "32644         TVS Apache RTR 180cc   30000.0       Karnal      6639.0   \n",
       "32645     Bajaj Avenger Street 220   60000.0        Delhi     20373.0   \n",
       "32646    Hero Super Splendor 125cc   15600.0       Jaipur     84186.0   \n",
       "32647           Bajaj Pulsar 150cc   22000.0         Pune     60857.0   \n",
       "\n",
       "              owner   age  power          brand  \n",
       "32638   First Owner   4.0  250.0         Yamaha  \n",
       "32639   First Owner   8.0  350.0  Royal Enfield  \n",
       "32640   First Owner   6.0  100.0           Hero  \n",
       "32641  Second Owner  11.0  220.0          Bajaj  \n",
       "32642  Second Owner  19.0  100.0           Hero  \n",
       "32643   First Owner   4.0  100.0           Hero  \n",
       "32644   First Owner   9.0  180.0            TVS  \n",
       "32645   First Owner   6.0  220.0          Bajaj  \n",
       "32646   First Owner  16.0  125.0           Hero  \n",
       "32647   First Owner  13.0  150.0          Bajaj  "
      ]
     },
     "execution_count": 42,
     "metadata": {},
     "output_type": "execute_result"
    }
   ],
   "source": [
    "df.head()  ## default show 5 arguments\n",
    "df.tail()\n",
    "\n",
    "df.head(20)  ## given number \n",
    "df.tail(10)"
   ]
  },
  {
   "cell_type": "code",
   "execution_count": 43,
   "id": "ce54ec1c",
   "metadata": {},
   "outputs": [
    {
     "data": {
      "application/vnd.microsoft.datawrangler.viewer.v0+json": {
       "columns": [
        {
         "name": "index",
         "rawType": "int64",
         "type": "integer"
        },
        {
         "name": "bike_name",
         "rawType": "object",
         "type": "string"
        }
       ],
       "ref": "14d69d33-e6e4-44ab-8e96-12fed4d4cb33",
       "rows": [
        [
         "0",
         "TVS Star City Plus Dual Tone 110cc"
        ],
        [
         "1",
         "Royal Enfield Classic 350cc"
        ],
        [
         "2",
         "Triumph Daytona 675R"
        ],
        [
         "3",
         "TVS Apache RTR 180cc"
        ],
        [
         "4",
         "Yamaha FZ S V 2.0 150cc-Ltd. Edition"
        ],
        [
         "5",
         "Yamaha FZs 150cc"
        ],
        [
         "6",
         "Honda CB Hornet 160R  ABS DLX"
        ],
        [
         "7",
         "Hero Splendor Plus Self Alloy 100cc"
        ],
        [
         "8",
         "Royal Enfield Thunderbird X 350cc"
        ],
        [
         "9",
         "Royal Enfield Classic Desert Storm 500cc"
        ],
        [
         "10",
         "Yamaha YZF-R15 2.0 150cc"
        ],
        [
         "11",
         "Yamaha FZ25 250cc"
        ],
        [
         "12",
         "Bajaj Pulsar NS200"
        ],
        [
         "13",
         "Bajaj Discover 100M"
        ],
        [
         "14",
         "Bajaj Discover 125M"
        ],
        [
         "15",
         "Bajaj Pulsar NS200 ABS"
        ],
        [
         "16",
         "Bajaj Pulsar RS200 ABS"
        ],
        [
         "17",
         "Suzuki Gixxer SF 150cc"
        ],
        [
         "18",
         "Benelli 302R 300CC"
        ],
        [
         "19",
         "Bajaj Discover 125M"
        ],
        [
         "20",
         "Bajaj Pulsar RS200 ABS"
        ],
        [
         "21",
         "Suzuki Gixxer SF 150cc"
        ],
        [
         "22",
         "Hero Splendor iSmart Plus IBS 110cc"
        ],
        [
         "23",
         "Royal Enfield Classic Chrome 500cc"
        ],
        [
         "24",
         "Yamaha FZ V 2.0 150cc"
        ],
        [
         "25",
         "Bajaj Pulsar NS200"
        ],
        [
         "26",
         "Hero Super Splendor 125cc"
        ],
        [
         "27",
         "Honda CBF Stunner 125cc"
        ],
        [
         "28",
         "Bajaj Pulsar 150cc"
        ],
        [
         "29",
         "Honda X-Blade 160CC ABS"
        ],
        [
         "30",
         "Bajaj Pulsar NS200"
        ],
        [
         "31",
         "Yamaha YZF-R15 2.0 150cc"
        ],
        [
         "32",
         "Bajaj Avenger 220cc"
        ],
        [
         "33",
         "KTM RC 390cc"
        ],
        [
         "34",
         "Honda CB Unicorn 150cc"
        ],
        [
         "35",
         "KTM Duke 200cc"
        ],
        [
         "36",
         "Royal Enfield Classic 350cc"
        ],
        [
         "37",
         "Honda CBR 150R 150cc"
        ],
        [
         "38",
         "Royal Enfield Thunderbird X 500cc"
        ],
        [
         "39",
         "KTM RC 200cc ABS"
        ],
        [
         "40",
         "Royal Enfield Thunderbird 350cc"
        ],
        [
         "41",
         "Bajaj Avenger 220cc"
        ],
        [
         "42",
         "Royal Enfield Bullet Electra 350cc"
        ],
        [
         "43",
         "Bajaj Avenger Street 220 ABS"
        ],
        [
         "44",
         "Royal Enfield Classic 350cc"
        ],
        [
         "45",
         "Bajaj Pulsar NS200"
        ],
        [
         "46",
         "Royal Enfield Thunderbird 350cc"
        ],
        [
         "47",
         "Mahindra Centuro NXT 110cc"
        ],
        [
         "48",
         "Hero Hunk 150cc"
        ],
        [
         "49",
         "Suzuki Gixxer SF Fi 150cc SP ABS"
        ]
       ],
       "shape": {
        "columns": 1,
        "rows": 32648
       }
      },
      "text/plain": [
       "0          TVS Star City Plus Dual Tone 110cc\n",
       "1                 Royal Enfield Classic 350cc\n",
       "2                        Triumph Daytona 675R\n",
       "3                        TVS Apache RTR 180cc\n",
       "4        Yamaha FZ S V 2.0 150cc-Ltd. Edition\n",
       "                         ...                 \n",
       "32643                  Hero Passion Pro 100cc\n",
       "32644                    TVS Apache RTR 180cc\n",
       "32645                Bajaj Avenger Street 220\n",
       "32646               Hero Super Splendor 125cc\n",
       "32647                      Bajaj Pulsar 150cc\n",
       "Name: bike_name, Length: 32648, dtype: object"
      ]
     },
     "execution_count": 43,
     "metadata": {},
     "output_type": "execute_result"
    }
   ],
   "source": [
    "df[\"bike_name\"]\n",
    "## to fetch particular column from a dataFrame \n",
    "\n",
    "# type(df[\"bike_name\"])  ## type ---> series"
   ]
  },
  {
   "cell_type": "code",
   "execution_count": 44,
   "id": "300e0446",
   "metadata": {},
   "outputs": [
    {
     "data": {
      "application/vnd.microsoft.datawrangler.viewer.v0+json": {
       "columns": [
        {
         "name": "index",
         "rawType": "object",
         "type": "string"
        },
        {
         "name": "0",
         "rawType": "object",
         "type": "unknown"
        }
       ],
       "ref": "03c1b396-1d31-460a-a6eb-b6b54be65917",
       "rows": [
        [
         "bike_name",
         "object"
        ],
        [
         "price",
         "float64"
        ],
        [
         "city",
         "object"
        ],
        [
         "kms_driven",
         "float64"
        ],
        [
         "owner",
         "object"
        ],
        [
         "age",
         "float64"
        ],
        [
         "power",
         "float64"
        ],
        [
         "brand",
         "object"
        ]
       ],
       "shape": {
        "columns": 1,
        "rows": 8
       }
      },
      "text/plain": [
       "bike_name      object\n",
       "price         float64\n",
       "city           object\n",
       "kms_driven    float64\n",
       "owner          object\n",
       "age           float64\n",
       "power         float64\n",
       "brand          object\n",
       "dtype: object"
      ]
     },
     "execution_count": 44,
     "metadata": {},
     "output_type": "execute_result"
    }
   ],
   "source": [
    "df.dtypes ## data type of every column \n",
    "## object is categorical value "
   ]
  },
  {
   "cell_type": "code",
   "execution_count": 45,
   "id": "6082b66d",
   "metadata": {},
   "outputs": [
    {
     "data": {
      "application/vnd.microsoft.datawrangler.viewer.v0+json": {
       "columns": [
        {
         "name": "index",
         "rawType": "int64",
         "type": "integer"
        },
        {
         "name": "bike_name",
         "rawType": "object",
         "type": "string"
        },
        {
         "name": "price",
         "rawType": "float64",
         "type": "float"
        }
       ],
       "ref": "ad667b45-2ed3-42e7-98c6-ec6ee9f80200",
       "rows": [
        [
         "0",
         "TVS Star City Plus Dual Tone 110cc",
         "35000.0"
        ],
        [
         "1",
         "Royal Enfield Classic 350cc",
         "119900.0"
        ],
        [
         "2",
         "Triumph Daytona 675R",
         "600000.0"
        ],
        [
         "3",
         "TVS Apache RTR 180cc",
         "65000.0"
        ],
        [
         "4",
         "Yamaha FZ S V 2.0 150cc-Ltd. Edition",
         "80000.0"
        ],
        [
         "5",
         "Yamaha FZs 150cc",
         "53499.0"
        ],
        [
         "6",
         "Honda CB Hornet 160R  ABS DLX",
         "85000.0"
        ],
        [
         "7",
         "Hero Splendor Plus Self Alloy 100cc",
         "45000.0"
        ],
        [
         "8",
         "Royal Enfield Thunderbird X 350cc",
         "145000.0"
        ],
        [
         "9",
         "Royal Enfield Classic Desert Storm 500cc",
         "88000.0"
        ],
        [
         "10",
         "Yamaha YZF-R15 2.0 150cc",
         "72000.0"
        ],
        [
         "11",
         "Yamaha FZ25 250cc",
         "95000.0"
        ],
        [
         "12",
         "Bajaj Pulsar NS200",
         "78000.0"
        ],
        [
         "13",
         "Bajaj Discover 100M",
         "29499.0"
        ],
        [
         "14",
         "Bajaj Discover 125M",
         "29900.0"
        ],
        [
         "15",
         "Bajaj Pulsar NS200 ABS",
         "90000.0"
        ],
        [
         "16",
         "Bajaj Pulsar RS200 ABS",
         "120000.0"
        ],
        [
         "17",
         "Suzuki Gixxer SF 150cc",
         "48000.0"
        ],
        [
         "18",
         "Benelli 302R 300CC",
         "240000.0"
        ],
        [
         "19",
         "Bajaj Discover 125M",
         "29900.0"
        ],
        [
         "20",
         "Bajaj Pulsar RS200 ABS",
         "120000.0"
        ],
        [
         "21",
         "Suzuki Gixxer SF 150cc",
         "48000.0"
        ],
        [
         "22",
         "Hero Splendor iSmart Plus IBS 110cc",
         "46500.0"
        ],
        [
         "23",
         "Royal Enfield Classic Chrome 500cc",
         "121700.0"
        ],
        [
         "24",
         "Yamaha FZ V 2.0 150cc",
         "45000.0"
        ],
        [
         "25",
         "Bajaj Pulsar NS200",
         "78000.0"
        ],
        [
         "26",
         "Hero Super Splendor 125cc",
         "20000.0"
        ],
        [
         "27",
         "Honda CBF Stunner 125cc",
         "20800.0"
        ],
        [
         "28",
         "Bajaj Pulsar 150cc",
         "50000.0"
        ],
        [
         "29",
         "Honda X-Blade 160CC ABS",
         "81200.0"
        ],
        [
         "30",
         "Bajaj Pulsar NS200",
         "88000.0"
        ],
        [
         "31",
         "Yamaha YZF-R15 2.0 150cc",
         "80000.0"
        ],
        [
         "32",
         "Bajaj Avenger 220cc",
         "40900.0"
        ],
        [
         "33",
         "KTM RC 390cc",
         "180000.0"
        ],
        [
         "34",
         "Honda CB Unicorn 150cc",
         "40000.0"
        ],
        [
         "35",
         "KTM Duke 200cc",
         "70000.0"
        ],
        [
         "36",
         "Royal Enfield Classic 350cc",
         "98800.0"
        ],
        [
         "37",
         "Honda CBR 150R 150cc",
         "65000.0"
        ],
        [
         "38",
         "Royal Enfield Thunderbird X 500cc",
         "190500.0"
        ],
        [
         "39",
         "KTM RC 200cc ABS",
         "179000.0"
        ],
        [
         "40",
         "Royal Enfield Thunderbird 350cc",
         "70000.0"
        ],
        [
         "41",
         "Bajaj Avenger 220cc",
         "45000.0"
        ],
        [
         "42",
         "Royal Enfield Bullet Electra 350cc",
         "78000.0"
        ],
        [
         "43",
         "Bajaj Avenger Street 220 ABS",
         "110000.0"
        ],
        [
         "44",
         "Royal Enfield Classic 350cc",
         "85000.0"
        ],
        [
         "45",
         "Bajaj Pulsar NS200",
         "38000.0"
        ],
        [
         "46",
         "Royal Enfield Thunderbird 350cc",
         "55346.0"
        ],
        [
         "47",
         "Mahindra Centuro NXT 110cc",
         "28000.0"
        ],
        [
         "48",
         "Hero Hunk 150cc",
         "37000.0"
        ],
        [
         "49",
         "Suzuki Gixxer SF Fi 150cc SP ABS",
         "97000.0"
        ]
       ],
       "shape": {
        "columns": 2,
        "rows": 32648
       }
      },
      "text/html": [
       "<div>\n",
       "<style scoped>\n",
       "    .dataframe tbody tr th:only-of-type {\n",
       "        vertical-align: middle;\n",
       "    }\n",
       "\n",
       "    .dataframe tbody tr th {\n",
       "        vertical-align: top;\n",
       "    }\n",
       "\n",
       "    .dataframe thead th {\n",
       "        text-align: right;\n",
       "    }\n",
       "</style>\n",
       "<table border=\"1\" class=\"dataframe\">\n",
       "  <thead>\n",
       "    <tr style=\"text-align: right;\">\n",
       "      <th></th>\n",
       "      <th>bike_name</th>\n",
       "      <th>price</th>\n",
       "    </tr>\n",
       "  </thead>\n",
       "  <tbody>\n",
       "    <tr>\n",
       "      <th>0</th>\n",
       "      <td>TVS Star City Plus Dual Tone 110cc</td>\n",
       "      <td>35000.0</td>\n",
       "    </tr>\n",
       "    <tr>\n",
       "      <th>1</th>\n",
       "      <td>Royal Enfield Classic 350cc</td>\n",
       "      <td>119900.0</td>\n",
       "    </tr>\n",
       "    <tr>\n",
       "      <th>2</th>\n",
       "      <td>Triumph Daytona 675R</td>\n",
       "      <td>600000.0</td>\n",
       "    </tr>\n",
       "    <tr>\n",
       "      <th>3</th>\n",
       "      <td>TVS Apache RTR 180cc</td>\n",
       "      <td>65000.0</td>\n",
       "    </tr>\n",
       "    <tr>\n",
       "      <th>4</th>\n",
       "      <td>Yamaha FZ S V 2.0 150cc-Ltd. Edition</td>\n",
       "      <td>80000.0</td>\n",
       "    </tr>\n",
       "    <tr>\n",
       "      <th>...</th>\n",
       "      <td>...</td>\n",
       "      <td>...</td>\n",
       "    </tr>\n",
       "    <tr>\n",
       "      <th>32643</th>\n",
       "      <td>Hero Passion Pro 100cc</td>\n",
       "      <td>39000.0</td>\n",
       "    </tr>\n",
       "    <tr>\n",
       "      <th>32644</th>\n",
       "      <td>TVS Apache RTR 180cc</td>\n",
       "      <td>30000.0</td>\n",
       "    </tr>\n",
       "    <tr>\n",
       "      <th>32645</th>\n",
       "      <td>Bajaj Avenger Street 220</td>\n",
       "      <td>60000.0</td>\n",
       "    </tr>\n",
       "    <tr>\n",
       "      <th>32646</th>\n",
       "      <td>Hero Super Splendor 125cc</td>\n",
       "      <td>15600.0</td>\n",
       "    </tr>\n",
       "    <tr>\n",
       "      <th>32647</th>\n",
       "      <td>Bajaj Pulsar 150cc</td>\n",
       "      <td>22000.0</td>\n",
       "    </tr>\n",
       "  </tbody>\n",
       "</table>\n",
       "<p>32648 rows × 2 columns</p>\n",
       "</div>"
      ],
      "text/plain": [
       "                                  bike_name     price\n",
       "0        TVS Star City Plus Dual Tone 110cc   35000.0\n",
       "1               Royal Enfield Classic 350cc  119900.0\n",
       "2                      Triumph Daytona 675R  600000.0\n",
       "3                      TVS Apache RTR 180cc   65000.0\n",
       "4      Yamaha FZ S V 2.0 150cc-Ltd. Edition   80000.0\n",
       "...                                     ...       ...\n",
       "32643                Hero Passion Pro 100cc   39000.0\n",
       "32644                  TVS Apache RTR 180cc   30000.0\n",
       "32645              Bajaj Avenger Street 220   60000.0\n",
       "32646             Hero Super Splendor 125cc   15600.0\n",
       "32647                    Bajaj Pulsar 150cc   22000.0\n",
       "\n",
       "[32648 rows x 2 columns]"
      ]
     },
     "execution_count": 45,
     "metadata": {},
     "output_type": "execute_result"
    }
   ],
   "source": [
    "## to fetch multiple columns \n",
    "df[[\"bike_name\",\"price\"]]"
   ]
  },
  {
   "cell_type": "markdown",
   "id": "798afb08",
   "metadata": {},
   "source": [
    "#### SLICING AND INDEXING \n",
    "##### SLICING ----> GIVE ONLY ROWS "
   ]
  },
  {
   "cell_type": "code",
   "execution_count": 46,
   "id": "e379f0c8",
   "metadata": {},
   "outputs": [
    {
     "data": {
      "application/vnd.microsoft.datawrangler.viewer.v0+json": {
       "columns": [
        {
         "name": "index",
         "rawType": "int64",
         "type": "integer"
        },
        {
         "name": "bike_name",
         "rawType": "object",
         "type": "string"
        },
        {
         "name": "price",
         "rawType": "float64",
         "type": "float"
        },
        {
         "name": "city",
         "rawType": "object",
         "type": "string"
        },
        {
         "name": "kms_driven",
         "rawType": "float64",
         "type": "float"
        },
        {
         "name": "owner",
         "rawType": "object",
         "type": "string"
        },
        {
         "name": "age",
         "rawType": "float64",
         "type": "float"
        },
        {
         "name": "power",
         "rawType": "float64",
         "type": "float"
        },
        {
         "name": "brand",
         "rawType": "object",
         "type": "string"
        }
       ],
       "ref": "8104360f-7b61-4be1-82f5-c94a7934b8d0",
       "rows": [
        [
         "0",
         "TVS Star City Plus Dual Tone 110cc",
         "35000.0",
         "Ahmedabad",
         "17654.0",
         "First Owner",
         "3.0",
         "110.0",
         "TVS"
        ],
        [
         "1",
         "Royal Enfield Classic 350cc",
         "119900.0",
         "Delhi",
         "11000.0",
         "First Owner",
         "4.0",
         "350.0",
         "Royal Enfield"
        ],
        [
         "2",
         "Triumph Daytona 675R",
         "600000.0",
         "Delhi",
         "110.0",
         "First Owner",
         "8.0",
         "675.0",
         "Triumph"
        ]
       ],
       "shape": {
        "columns": 8,
        "rows": 3
       }
      },
      "text/html": [
       "<div>\n",
       "<style scoped>\n",
       "    .dataframe tbody tr th:only-of-type {\n",
       "        vertical-align: middle;\n",
       "    }\n",
       "\n",
       "    .dataframe tbody tr th {\n",
       "        vertical-align: top;\n",
       "    }\n",
       "\n",
       "    .dataframe thead th {\n",
       "        text-align: right;\n",
       "    }\n",
       "</style>\n",
       "<table border=\"1\" class=\"dataframe\">\n",
       "  <thead>\n",
       "    <tr style=\"text-align: right;\">\n",
       "      <th></th>\n",
       "      <th>bike_name</th>\n",
       "      <th>price</th>\n",
       "      <th>city</th>\n",
       "      <th>kms_driven</th>\n",
       "      <th>owner</th>\n",
       "      <th>age</th>\n",
       "      <th>power</th>\n",
       "      <th>brand</th>\n",
       "    </tr>\n",
       "  </thead>\n",
       "  <tbody>\n",
       "    <tr>\n",
       "      <th>0</th>\n",
       "      <td>TVS Star City Plus Dual Tone 110cc</td>\n",
       "      <td>35000.0</td>\n",
       "      <td>Ahmedabad</td>\n",
       "      <td>17654.0</td>\n",
       "      <td>First Owner</td>\n",
       "      <td>3.0</td>\n",
       "      <td>110.0</td>\n",
       "      <td>TVS</td>\n",
       "    </tr>\n",
       "    <tr>\n",
       "      <th>1</th>\n",
       "      <td>Royal Enfield Classic 350cc</td>\n",
       "      <td>119900.0</td>\n",
       "      <td>Delhi</td>\n",
       "      <td>11000.0</td>\n",
       "      <td>First Owner</td>\n",
       "      <td>4.0</td>\n",
       "      <td>350.0</td>\n",
       "      <td>Royal Enfield</td>\n",
       "    </tr>\n",
       "    <tr>\n",
       "      <th>2</th>\n",
       "      <td>Triumph Daytona 675R</td>\n",
       "      <td>600000.0</td>\n",
       "      <td>Delhi</td>\n",
       "      <td>110.0</td>\n",
       "      <td>First Owner</td>\n",
       "      <td>8.0</td>\n",
       "      <td>675.0</td>\n",
       "      <td>Triumph</td>\n",
       "    </tr>\n",
       "  </tbody>\n",
       "</table>\n",
       "</div>"
      ],
      "text/plain": [
       "                            bike_name     price       city  kms_driven  \\\n",
       "0  TVS Star City Plus Dual Tone 110cc   35000.0  Ahmedabad     17654.0   \n",
       "1         Royal Enfield Classic 350cc  119900.0      Delhi     11000.0   \n",
       "2                Triumph Daytona 675R  600000.0      Delhi       110.0   \n",
       "\n",
       "         owner  age  power          brand  \n",
       "0  First Owner  3.0  110.0            TVS  \n",
       "1  First Owner  4.0  350.0  Royal Enfield  \n",
       "2  First Owner  8.0  675.0        Triumph  "
      ]
     },
     "execution_count": 46,
     "metadata": {},
     "output_type": "execute_result"
    }
   ],
   "source": [
    "df[0:3]  ### give only row"
   ]
  },
  {
   "cell_type": "markdown",
   "id": "b63275da",
   "metadata": {},
   "source": [
    "#### to access both row and column through slicing \n",
    "##### iloc and loc \n",
    "##### iloc --->  integer location \n",
    "##### loc ---> label location "
   ]
  },
  {
   "cell_type": "code",
   "execution_count": null,
   "id": "180e889f",
   "metadata": {},
   "outputs": [
    {
     "data": {
      "application/vnd.microsoft.datawrangler.viewer.v0+json": {
       "columns": [
        {
         "name": "index",
         "rawType": "int64",
         "type": "integer"
        },
        {
         "name": "bike_name",
         "rawType": "object",
         "type": "string"
        },
        {
         "name": "price",
         "rawType": "float64",
         "type": "float"
        },
        {
         "name": "city",
         "rawType": "object",
         "type": "string"
        }
       ],
       "ref": "f15d8225-33e2-44d5-9147-037807571faf",
       "rows": [
        [
         "0",
         "TVS Star City Plus Dual Tone 110cc",
         "35000.0",
         "Ahmedabad"
        ],
        [
         "1",
         "Royal Enfield Classic 350cc",
         "119900.0",
         "Delhi"
        ],
        [
         "2",
         "Triumph Daytona 675R",
         "600000.0",
         "Delhi"
        ]
       ],
       "shape": {
        "columns": 3,
        "rows": 3
       }
      },
      "text/html": [
       "<div>\n",
       "<style scoped>\n",
       "    .dataframe tbody tr th:only-of-type {\n",
       "        vertical-align: middle;\n",
       "    }\n",
       "\n",
       "    .dataframe tbody tr th {\n",
       "        vertical-align: top;\n",
       "    }\n",
       "\n",
       "    .dataframe thead th {\n",
       "        text-align: right;\n",
       "    }\n",
       "</style>\n",
       "<table border=\"1\" class=\"dataframe\">\n",
       "  <thead>\n",
       "    <tr style=\"text-align: right;\">\n",
       "      <th></th>\n",
       "      <th>bike_name</th>\n",
       "      <th>price</th>\n",
       "      <th>city</th>\n",
       "    </tr>\n",
       "  </thead>\n",
       "  <tbody>\n",
       "    <tr>\n",
       "      <th>0</th>\n",
       "      <td>TVS Star City Plus Dual Tone 110cc</td>\n",
       "      <td>35000.0</td>\n",
       "      <td>Ahmedabad</td>\n",
       "    </tr>\n",
       "    <tr>\n",
       "      <th>1</th>\n",
       "      <td>Royal Enfield Classic 350cc</td>\n",
       "      <td>119900.0</td>\n",
       "      <td>Delhi</td>\n",
       "    </tr>\n",
       "    <tr>\n",
       "      <th>2</th>\n",
       "      <td>Triumph Daytona 675R</td>\n",
       "      <td>600000.0</td>\n",
       "      <td>Delhi</td>\n",
       "    </tr>\n",
       "  </tbody>\n",
       "</table>\n",
       "</div>"
      ],
      "text/plain": [
       "                            bike_name     price       city\n",
       "0  TVS Star City Plus Dual Tone 110cc   35000.0  Ahmedabad\n",
       "1         Royal Enfield Classic 350cc  119900.0      Delhi\n",
       "2                Triumph Daytona 675R  600000.0      Delhi"
      ]
     },
     "execution_count": 48,
     "metadata": {},
     "output_type": "execute_result"
    }
   ],
   "source": [
    "## iloc \n",
    "df.iloc[0:3,0:3]  ## provide sequence of rows and column does not skip the rows or column "
   ]
  },
  {
   "cell_type": "code",
   "execution_count": null,
   "id": "2be2528c",
   "metadata": {},
   "outputs": [
    {
     "data": {
      "application/vnd.microsoft.datawrangler.viewer.v0+json": {
       "columns": [
        {
         "name": "index",
         "rawType": "int64",
         "type": "integer"
        },
        {
         "name": "bike_name",
         "rawType": "object",
         "type": "string"
        },
        {
         "name": "city",
         "rawType": "object",
         "type": "string"
        },
        {
         "name": "owner",
         "rawType": "object",
         "type": "string"
        }
       ],
       "ref": "b0874fcd-8110-4a18-b002-37c90e2d8a34",
       "rows": [
        [
         "0",
         "TVS Star City Plus Dual Tone 110cc",
         "Ahmedabad",
         "First Owner"
        ],
        [
         "1",
         "Royal Enfield Classic 350cc",
         "Delhi",
         "First Owner"
        ],
        [
         "2",
         "Triumph Daytona 675R",
         "Delhi",
         "First Owner"
        ],
        [
         "3",
         "TVS Apache RTR 180cc",
         "Bangalore",
         "First Owner"
        ],
        [
         "4",
         "Yamaha FZ S V 2.0 150cc-Ltd. Edition",
         "Bangalore",
         "First Owner"
        ],
        [
         "5",
         "Yamaha FZs 150cc",
         "Delhi",
         "First Owner"
        ],
        [
         "6",
         "Honda CB Hornet 160R  ABS DLX",
         "Delhi",
         "First Owner"
        ],
        [
         "7",
         "Hero Splendor Plus Self Alloy 100cc",
         "Delhi",
         "First Owner"
        ],
        [
         "8",
         "Royal Enfield Thunderbird X 350cc",
         "Bangalore",
         "First Owner"
        ],
        [
         "9",
         "Royal Enfield Classic Desert Storm 500cc",
         "Delhi",
         "Second Owner"
        ],
        [
         "10",
         "Yamaha YZF-R15 2.0 150cc",
         "Bangalore",
         "First Owner"
        ]
       ],
       "shape": {
        "columns": 3,
        "rows": 11
       }
      },
      "text/html": [
       "<div>\n",
       "<style scoped>\n",
       "    .dataframe tbody tr th:only-of-type {\n",
       "        vertical-align: middle;\n",
       "    }\n",
       "\n",
       "    .dataframe tbody tr th {\n",
       "        vertical-align: top;\n",
       "    }\n",
       "\n",
       "    .dataframe thead th {\n",
       "        text-align: right;\n",
       "    }\n",
       "</style>\n",
       "<table border=\"1\" class=\"dataframe\">\n",
       "  <thead>\n",
       "    <tr style=\"text-align: right;\">\n",
       "      <th></th>\n",
       "      <th>bike_name</th>\n",
       "      <th>city</th>\n",
       "      <th>owner</th>\n",
       "    </tr>\n",
       "  </thead>\n",
       "  <tbody>\n",
       "    <tr>\n",
       "      <th>0</th>\n",
       "      <td>TVS Star City Plus Dual Tone 110cc</td>\n",
       "      <td>Ahmedabad</td>\n",
       "      <td>First Owner</td>\n",
       "    </tr>\n",
       "    <tr>\n",
       "      <th>1</th>\n",
       "      <td>Royal Enfield Classic 350cc</td>\n",
       "      <td>Delhi</td>\n",
       "      <td>First Owner</td>\n",
       "    </tr>\n",
       "    <tr>\n",
       "      <th>2</th>\n",
       "      <td>Triumph Daytona 675R</td>\n",
       "      <td>Delhi</td>\n",
       "      <td>First Owner</td>\n",
       "    </tr>\n",
       "    <tr>\n",
       "      <th>3</th>\n",
       "      <td>TVS Apache RTR 180cc</td>\n",
       "      <td>Bangalore</td>\n",
       "      <td>First Owner</td>\n",
       "    </tr>\n",
       "    <tr>\n",
       "      <th>4</th>\n",
       "      <td>Yamaha FZ S V 2.0 150cc-Ltd. Edition</td>\n",
       "      <td>Bangalore</td>\n",
       "      <td>First Owner</td>\n",
       "    </tr>\n",
       "    <tr>\n",
       "      <th>5</th>\n",
       "      <td>Yamaha FZs 150cc</td>\n",
       "      <td>Delhi</td>\n",
       "      <td>First Owner</td>\n",
       "    </tr>\n",
       "    <tr>\n",
       "      <th>6</th>\n",
       "      <td>Honda CB Hornet 160R  ABS DLX</td>\n",
       "      <td>Delhi</td>\n",
       "      <td>First Owner</td>\n",
       "    </tr>\n",
       "    <tr>\n",
       "      <th>7</th>\n",
       "      <td>Hero Splendor Plus Self Alloy 100cc</td>\n",
       "      <td>Delhi</td>\n",
       "      <td>First Owner</td>\n",
       "    </tr>\n",
       "    <tr>\n",
       "      <th>8</th>\n",
       "      <td>Royal Enfield Thunderbird X 350cc</td>\n",
       "      <td>Bangalore</td>\n",
       "      <td>First Owner</td>\n",
       "    </tr>\n",
       "    <tr>\n",
       "      <th>9</th>\n",
       "      <td>Royal Enfield Classic Desert Storm 500cc</td>\n",
       "      <td>Delhi</td>\n",
       "      <td>Second Owner</td>\n",
       "    </tr>\n",
       "    <tr>\n",
       "      <th>10</th>\n",
       "      <td>Yamaha YZF-R15 2.0 150cc</td>\n",
       "      <td>Bangalore</td>\n",
       "      <td>First Owner</td>\n",
       "    </tr>\n",
       "  </tbody>\n",
       "</table>\n",
       "</div>"
      ],
      "text/plain": [
       "                                   bike_name       city         owner\n",
       "0         TVS Star City Plus Dual Tone 110cc  Ahmedabad   First Owner\n",
       "1                Royal Enfield Classic 350cc      Delhi   First Owner\n",
       "2                       Triumph Daytona 675R      Delhi   First Owner\n",
       "3                       TVS Apache RTR 180cc  Bangalore   First Owner\n",
       "4       Yamaha FZ S V 2.0 150cc-Ltd. Edition  Bangalore   First Owner\n",
       "5                           Yamaha FZs 150cc      Delhi   First Owner\n",
       "6              Honda CB Hornet 160R  ABS DLX      Delhi   First Owner\n",
       "7        Hero Splendor Plus Self Alloy 100cc      Delhi   First Owner\n",
       "8          Royal Enfield Thunderbird X 350cc  Bangalore   First Owner\n",
       "9   Royal Enfield Classic Desert Storm 500cc      Delhi  Second Owner\n",
       "10                  Yamaha YZF-R15 2.0 150cc  Bangalore   First Owner"
      ]
     },
     "execution_count": 49,
     "metadata": {},
     "output_type": "execute_result"
    }
   ],
   "source": [
    "## loc  --->to access according to the need \n",
    "df.loc[0:10,[\"bike_name\",\"city\",\"owner\"]]  ## given he row slicing and to access column we need to write their name in list "
   ]
  },
  {
   "cell_type": "code",
   "execution_count": 55,
   "id": "1da284fc",
   "metadata": {},
   "outputs": [
    {
     "name": "stdout",
     "output_type": "stream",
     "text": [
      "1900000.0\n",
      "4400.0\n",
      "68295.41763660868\n",
      "2229708795.0\n",
      "90718.59520524176\n",
      "8229863516.012512\n",
      "43000.0\n",
      "0    25000.0\n",
      "Name: price, dtype: float64\n",
      "0        3.500000e+04\n",
      "1        1.549000e+05\n",
      "2        7.549000e+05\n",
      "3        8.199000e+05\n",
      "4        8.999000e+05\n",
      "             ...     \n",
      "32643    2.229581e+09\n",
      "32644    2.229611e+09\n",
      "32645    2.229671e+09\n",
      "32646    2.229687e+09\n",
      "32647    2.229709e+09\n",
      "Name: price, Length: 32648, dtype: float64\n"
     ]
    }
   ],
   "source": [
    "# df.max()\n",
    "print(df[\"price\"].max())\n",
    "print(df[\"price\"].min())\n",
    "print(df[\"price\"].mean())\n",
    "print(df[\"price\"].sum())\n",
    "print(df[\"price\"].std())\n",
    "print(df[\"price\"].var())\n",
    "print(df[\"price\"].median())\n",
    "print(df[\"price\"].mode())\n",
    "print(df[\"price\"].cumsum())\n"
   ]
  },
  {
   "cell_type": "code",
   "execution_count": null,
   "id": "e01de73c",
   "metadata": {},
   "outputs": [
    {
     "data": {
      "text/plain": [
       "Index(['bike_name', 'price', 'city', 'kms_driven', 'owner', 'age', 'power',\n",
       "       'brand'],\n",
       "      dtype='object')"
      ]
     },
     "execution_count": 59,
     "metadata": {},
     "output_type": "execute_result"
    }
   ],
   "source": [
    "df[\"city\"].unique()\n",
    "df[\"city\"].nunique() ## total number of cities \n",
    "df[\"city\"].value_counts() ## count the number of occ. of particular element of a row\n",
    "df.columns   ## returns the name of all the column "
   ]
  },
  {
   "cell_type": "code",
   "execution_count": 77,
   "id": "28e52731",
   "metadata": {},
   "outputs": [
    {
     "data": {
      "application/vnd.microsoft.datawrangler.viewer.v0+json": {
       "columns": [
        {
         "name": "index",
         "rawType": "int64",
         "type": "integer"
        },
        {
         "name": "bike_name",
         "rawType": "object",
         "type": "string"
        },
        {
         "name": "price",
         "rawType": "float64",
         "type": "float"
        },
        {
         "name": "city",
         "rawType": "object",
         "type": "string"
        },
        {
         "name": "kms_driven",
         "rawType": "float64",
         "type": "float"
        },
        {
         "name": "owner",
         "rawType": "object",
         "type": "string"
        },
        {
         "name": "age",
         "rawType": "float64",
         "type": "float"
        },
        {
         "name": "power",
         "rawType": "float64",
         "type": "float"
        },
        {
         "name": "brand",
         "rawType": "object",
         "type": "string"
        }
       ],
       "ref": "8dbac965-7263-485a-93ae-75a373e3468a",
       "rows": [
        [
         "1",
         "Royal Enfield Classic 350cc",
         "119900.0",
         "Delhi",
         "11000.0",
         "First Owner",
         "4.0",
         "350.0",
         "Royal Enfield"
        ],
        [
         "2",
         "Triumph Daytona 675R",
         "600000.0",
         "Delhi",
         "110.0",
         "First Owner",
         "8.0",
         "675.0",
         "Triumph"
        ],
        [
         "5",
         "Yamaha FZs 150cc",
         "53499.0",
         "Delhi",
         "25000.0",
         "First Owner",
         "6.0",
         "150.0",
         "Yamaha"
        ],
        [
         "6",
         "Honda CB Hornet 160R  ABS DLX",
         "85000.0",
         "Delhi",
         "8200.0",
         "First Owner",
         "3.0",
         "160.0",
         "Honda"
        ],
        [
         "7",
         "Hero Splendor Plus Self Alloy 100cc",
         "45000.0",
         "Delhi",
         "12645.0",
         "First Owner",
         "3.0",
         "100.0",
         "Hero"
        ],
        [
         "9",
         "Royal Enfield Classic Desert Storm 500cc",
         "88000.0",
         "Delhi",
         "19000.0",
         "Second Owner",
         "7.0",
         "500.0",
         "Royal Enfield"
        ],
        [
         "13",
         "Bajaj Discover 100M",
         "29499.0",
         "Delhi",
         "20000.0",
         "First Owner",
         "8.0",
         "100.0",
         "Bajaj"
        ],
        [
         "14",
         "Bajaj Discover 125M",
         "29900.0",
         "Delhi",
         "20000.0",
         "First Owner",
         "7.0",
         "125.0",
         "Bajaj"
        ],
        [
         "19",
         "Bajaj Discover 125M",
         "29900.0",
         "Delhi",
         "20000.0",
         "First Owner",
         "7.0",
         "125.0",
         "Bajaj"
        ],
        [
         "22",
         "Hero Splendor iSmart Plus IBS 110cc",
         "46500.0",
         "Delhi",
         "3500.0",
         "First Owner",
         "2.0",
         "110.0",
         "Hero"
        ],
        [
         "24",
         "Yamaha FZ V 2.0 150cc",
         "45000.0",
         "Delhi",
         "23000.0",
         "First Owner",
         "6.0",
         "150.0",
         "Yamaha"
        ],
        [
         "44",
         "Royal Enfield Classic 350cc",
         "85000.0",
         "Delhi",
         "18000.0",
         "First Owner",
         "6.0",
         "350.0",
         "Royal Enfield"
        ],
        [
         "45",
         "Bajaj Pulsar NS200",
         "38000.0",
         "Delhi",
         "35000.0",
         "First Owner",
         "9.0",
         "200.0",
         "Bajaj"
        ],
        [
         "49",
         "Suzuki Gixxer SF Fi 150cc SP ABS",
         "97000.0",
         "Delhi",
         "4400.0",
         "First Owner",
         "3.0",
         "150.0",
         "Suzuki"
        ],
        [
         "51",
         "Royal Enfield‎ Bullet 350cc",
         "90000.0",
         "Delhi",
         "15300.0",
         "First Owner",
         "7.0",
         "350.0",
         "Royal Enfield"
        ],
        [
         "62",
         "Royal Enfield Bullet Electra 350cc",
         "107100.0",
         "Delhi",
         "15438.0",
         "Second Owner",
         "3.0",
         "350.0",
         "Royal Enfield"
        ],
        [
         "63",
         "Bajaj Pulsar 220cc",
         "80000.0",
         "Delhi",
         "6000.0",
         "First Owner",
         "3.0",
         "220.0",
         "Bajaj"
        ],
        [
         "64",
         "Royal Enfield Thunderbird 350cc",
         "88000.0",
         "Delhi",
         "19000.0",
         "First Owner",
         "5.0",
         "350.0",
         "Royal Enfield"
        ],
        [
         "67",
         "Royal Enfield Classic 350cc",
         "106000.0",
         "Delhi",
         "19000.0",
         "First Owner",
         "6.0",
         "350.0",
         "Royal Enfield"
        ],
        [
         "70",
         "Royal Enfield Thunderbird 350cc",
         "110000.0",
         "Delhi",
         "1600.0",
         "First Owner",
         "6.0",
         "350.0",
         "Royal Enfield"
        ],
        [
         "85",
         "Bajaj Pulsar 135LS",
         "14700.0",
         "Delhi",
         "10000.0",
         "First Owner",
         "11.0",
         "135.0",
         "Bajaj"
        ],
        [
         "97",
         "Hero Splendor plus 100cc",
         "31900.0",
         "Delhi",
         "9000.0",
         "First Owner",
         "5.0",
         "100.0",
         "Hero"
        ],
        [
         "100",
         "Honda CBR 250R",
         "68000.0",
         "Delhi",
         "16000.0",
         "First Owner",
         "7.0",
         "250.0",
         "Honda"
        ],
        [
         "108",
         "Hero Splendor Plus Self Alloy 100cc",
         "46000.0",
         "Delhi",
         "11760.0",
         "First Owner",
         "3.0",
         "100.0",
         "Hero"
        ],
        [
         "110",
         "Hyosung GT650R",
         "400000.0",
         "Delhi",
         "1800.0",
         "First Owner",
         "4.0",
         "650.0",
         "Hyosung"
        ],
        [
         "112",
         "Yamaha YZF-R15 S 150cc",
         "63000.0",
         "Delhi",
         "16000.0",
         "First Owner",
         "5.0",
         "150.0",
         "Yamaha"
        ],
        [
         "114",
         "TVS Apache RTR 160 4V Disc",
         "69900.0",
         "Delhi",
         "8700.0",
         "First Owner",
         "3.0",
         "160.0",
         "TVS"
        ],
        [
         "117",
         "Honda CB ShineSP 125cc",
         "35900.0",
         "Delhi",
         "19000.0",
         "First Owner",
         "5.0",
         "125.0",
         "Honda"
        ],
        [
         "118",
         "Honda CBR 250R",
         "67000.0",
         "Delhi",
         "13000.0",
         "First Owner",
         "9.0",
         "250.0",
         "Honda"
        ],
        [
         "126",
         "Royal Enfield Classic 350cc",
         "92500.0",
         "Delhi",
         "11000.0",
         "First Owner",
         "6.0",
         "350.0",
         "Royal Enfield"
        ],
        [
         "128",
         "Royal Enfield Electra 350cc",
         "72500.0",
         "Delhi",
         "10000.0",
         "First Owner",
         "10.0",
         "350.0",
         "Royal Enfield"
        ],
        [
         "129",
         "KTM Duke 200cc",
         "68000.0",
         "Delhi",
         "16000.0",
         "First Owner",
         "9.0",
         "200.0",
         "KTM"
        ],
        [
         "131",
         "TVS Apache RTR 160cc",
         "40000.0",
         "Delhi",
         "20000.0",
         "First Owner",
         "6.0",
         "160.0",
         "TVS"
        ],
        [
         "132",
         "Royal Enfield Classic 350cc",
         "91000.0",
         "Delhi",
         "18000.0",
         "First Owner",
         "5.0",
         "350.0",
         "Royal Enfield"
        ],
        [
         "140",
         "Royal Enfield Bullet Electra 350cc",
         "77000.0",
         "Delhi",
         "13000.0",
         "First Owner",
         "8.0",
         "350.0",
         "Royal Enfield"
        ],
        [
         "148",
         "Yamaha YZF-R15 V3 150cc",
         "140000.0",
         "Delhi",
         "2473.0",
         "First Owner",
         "2.0",
         "150.0",
         "Yamaha"
        ],
        [
         "149",
         "KTM Duke 200cc",
         "130000.0",
         "Delhi",
         "9221.0",
         "First Owner",
         "3.0",
         "200.0",
         "KTM"
        ],
        [
         "150",
         "Bajaj Pulsar NS 200",
         "46000.0",
         "Delhi",
         "37128.0",
         "First Owner",
         "7.0",
         "200.0",
         "Bajaj"
        ],
        [
         "151",
         "Hero Super Splendor 125cc",
         "30000.0",
         "Delhi",
         "16166.0",
         "First Owner",
         "6.0",
         "125.0",
         "Hero"
        ],
        [
         "152",
         "Bajaj Dominar 400",
         "116000.0",
         "Delhi",
         "11716.0",
         "First Owner",
         "3.0",
         "400.0",
         "Bajaj"
        ],
        [
         "153",
         "Royal Enfield Classic 350cc",
         "130000.0",
         "Delhi",
         "8419.0",
         "First Owner",
         "3.0",
         "350.0",
         "Royal Enfield"
        ],
        [
         "154",
         "Royal Enfield Classic 350cc",
         "98000.0",
         "Delhi",
         "13459.0",
         "First Owner",
         "5.0",
         "350.0",
         "Royal Enfield"
        ],
        [
         "155",
         "Royal Enfield Classic 350cc",
         "85000.0",
         "Delhi",
         "14704.0",
         "First Owner",
         "6.0",
         "350.0",
         "Royal Enfield"
        ],
        [
         "158",
         "Bajaj V15 150cc",
         "50000.0",
         "Delhi",
         "9200.0",
         "First Owner",
         "4.0",
         "150.0",
         "Bajaj"
        ],
        [
         "160",
         "Royal Enfield Thunderbird 350cc",
         "66000.0",
         "Delhi",
         "19756.0",
         "First Owner",
         "8.0",
         "350.0",
         "Royal Enfield"
        ],
        [
         "161",
         "Royal Enfield Bullet Electra 350cc",
         "77000.0",
         "Delhi",
         "13000.0",
         "First Owner",
         "8.0",
         "350.0",
         "Royal Enfield"
        ],
        [
         "162",
         "Royal Enfield Classic 350cc",
         "92500.0",
         "Delhi",
         "11000.0",
         "First Owner",
         "6.0",
         "350.0",
         "Royal Enfield"
        ],
        [
         "164",
         "Royal Enfield Electra 350cc",
         "72500.0",
         "Delhi",
         "10000.0",
         "First Owner",
         "10.0",
         "350.0",
         "Royal Enfield"
        ],
        [
         "170",
         "Yamaha FZ S V 2.0 150cc Rear Disc",
         "80000.0",
         "Delhi",
         "3500.0",
         "First Owner",
         "3.0",
         "150.0",
         "Yamaha"
        ],
        [
         "173",
         "KTM RC 200cc",
         "118000.0",
         "Delhi",
         "11200.0",
         "Second Owner",
         "5.0",
         "200.0",
         "KTM"
        ]
       ],
       "shape": {
        "columns": 8,
        "rows": 7274
       }
      },
      "text/html": [
       "<div>\n",
       "<style scoped>\n",
       "    .dataframe tbody tr th:only-of-type {\n",
       "        vertical-align: middle;\n",
       "    }\n",
       "\n",
       "    .dataframe tbody tr th {\n",
       "        vertical-align: top;\n",
       "    }\n",
       "\n",
       "    .dataframe thead th {\n",
       "        text-align: right;\n",
       "    }\n",
       "</style>\n",
       "<table border=\"1\" class=\"dataframe\">\n",
       "  <thead>\n",
       "    <tr style=\"text-align: right;\">\n",
       "      <th></th>\n",
       "      <th>bike_name</th>\n",
       "      <th>price</th>\n",
       "      <th>city</th>\n",
       "      <th>kms_driven</th>\n",
       "      <th>owner</th>\n",
       "      <th>age</th>\n",
       "      <th>power</th>\n",
       "      <th>brand</th>\n",
       "    </tr>\n",
       "  </thead>\n",
       "  <tbody>\n",
       "    <tr>\n",
       "      <th>1</th>\n",
       "      <td>Royal Enfield Classic 350cc</td>\n",
       "      <td>119900.0</td>\n",
       "      <td>Delhi</td>\n",
       "      <td>11000.0</td>\n",
       "      <td>First Owner</td>\n",
       "      <td>4.0</td>\n",
       "      <td>350.0</td>\n",
       "      <td>Royal Enfield</td>\n",
       "    </tr>\n",
       "    <tr>\n",
       "      <th>2</th>\n",
       "      <td>Triumph Daytona 675R</td>\n",
       "      <td>600000.0</td>\n",
       "      <td>Delhi</td>\n",
       "      <td>110.0</td>\n",
       "      <td>First Owner</td>\n",
       "      <td>8.0</td>\n",
       "      <td>675.0</td>\n",
       "      <td>Triumph</td>\n",
       "    </tr>\n",
       "    <tr>\n",
       "      <th>5</th>\n",
       "      <td>Yamaha FZs 150cc</td>\n",
       "      <td>53499.0</td>\n",
       "      <td>Delhi</td>\n",
       "      <td>25000.0</td>\n",
       "      <td>First Owner</td>\n",
       "      <td>6.0</td>\n",
       "      <td>150.0</td>\n",
       "      <td>Yamaha</td>\n",
       "    </tr>\n",
       "    <tr>\n",
       "      <th>6</th>\n",
       "      <td>Honda CB Hornet 160R  ABS DLX</td>\n",
       "      <td>85000.0</td>\n",
       "      <td>Delhi</td>\n",
       "      <td>8200.0</td>\n",
       "      <td>First Owner</td>\n",
       "      <td>3.0</td>\n",
       "      <td>160.0</td>\n",
       "      <td>Honda</td>\n",
       "    </tr>\n",
       "    <tr>\n",
       "      <th>7</th>\n",
       "      <td>Hero Splendor Plus Self Alloy 100cc</td>\n",
       "      <td>45000.0</td>\n",
       "      <td>Delhi</td>\n",
       "      <td>12645.0</td>\n",
       "      <td>First Owner</td>\n",
       "      <td>3.0</td>\n",
       "      <td>100.0</td>\n",
       "      <td>Hero</td>\n",
       "    </tr>\n",
       "    <tr>\n",
       "      <th>...</th>\n",
       "      <td>...</td>\n",
       "      <td>...</td>\n",
       "      <td>...</td>\n",
       "      <td>...</td>\n",
       "      <td>...</td>\n",
       "      <td>...</td>\n",
       "      <td>...</td>\n",
       "      <td>...</td>\n",
       "    </tr>\n",
       "    <tr>\n",
       "      <th>32639</th>\n",
       "      <td>Royal Enfield Classic 350cc</td>\n",
       "      <td>95500.0</td>\n",
       "      <td>Delhi</td>\n",
       "      <td>18000.0</td>\n",
       "      <td>First Owner</td>\n",
       "      <td>8.0</td>\n",
       "      <td>350.0</td>\n",
       "      <td>Royal Enfield</td>\n",
       "    </tr>\n",
       "    <tr>\n",
       "      <th>32640</th>\n",
       "      <td>Hero Passion Pro 100cc</td>\n",
       "      <td>32000.0</td>\n",
       "      <td>Delhi</td>\n",
       "      <td>12000.0</td>\n",
       "      <td>First Owner</td>\n",
       "      <td>6.0</td>\n",
       "      <td>100.0</td>\n",
       "      <td>Hero</td>\n",
       "    </tr>\n",
       "    <tr>\n",
       "      <th>32641</th>\n",
       "      <td>Bajaj Avenger 220cc</td>\n",
       "      <td>41000.0</td>\n",
       "      <td>Delhi</td>\n",
       "      <td>20245.0</td>\n",
       "      <td>Second Owner</td>\n",
       "      <td>11.0</td>\n",
       "      <td>220.0</td>\n",
       "      <td>Bajaj</td>\n",
       "    </tr>\n",
       "    <tr>\n",
       "      <th>32643</th>\n",
       "      <td>Hero Passion Pro 100cc</td>\n",
       "      <td>39000.0</td>\n",
       "      <td>Delhi</td>\n",
       "      <td>22000.0</td>\n",
       "      <td>First Owner</td>\n",
       "      <td>4.0</td>\n",
       "      <td>100.0</td>\n",
       "      <td>Hero</td>\n",
       "    </tr>\n",
       "    <tr>\n",
       "      <th>32645</th>\n",
       "      <td>Bajaj Avenger Street 220</td>\n",
       "      <td>60000.0</td>\n",
       "      <td>Delhi</td>\n",
       "      <td>20373.0</td>\n",
       "      <td>First Owner</td>\n",
       "      <td>6.0</td>\n",
       "      <td>220.0</td>\n",
       "      <td>Bajaj</td>\n",
       "    </tr>\n",
       "  </tbody>\n",
       "</table>\n",
       "<p>7274 rows × 8 columns</p>\n",
       "</div>"
      ],
      "text/plain": [
       "                                 bike_name     price   city  kms_driven  \\\n",
       "1              Royal Enfield Classic 350cc  119900.0  Delhi     11000.0   \n",
       "2                     Triumph Daytona 675R  600000.0  Delhi       110.0   \n",
       "5                         Yamaha FZs 150cc   53499.0  Delhi     25000.0   \n",
       "6            Honda CB Hornet 160R  ABS DLX   85000.0  Delhi      8200.0   \n",
       "7      Hero Splendor Plus Self Alloy 100cc   45000.0  Delhi     12645.0   \n",
       "...                                    ...       ...    ...         ...   \n",
       "32639          Royal Enfield Classic 350cc   95500.0  Delhi     18000.0   \n",
       "32640               Hero Passion Pro 100cc   32000.0  Delhi     12000.0   \n",
       "32641                  Bajaj Avenger 220cc   41000.0  Delhi     20245.0   \n",
       "32643               Hero Passion Pro 100cc   39000.0  Delhi     22000.0   \n",
       "32645             Bajaj Avenger Street 220   60000.0  Delhi     20373.0   \n",
       "\n",
       "              owner   age  power          brand  \n",
       "1       First Owner   4.0  350.0  Royal Enfield  \n",
       "2       First Owner   8.0  675.0        Triumph  \n",
       "5       First Owner   6.0  150.0         Yamaha  \n",
       "6       First Owner   3.0  160.0          Honda  \n",
       "7       First Owner   3.0  100.0           Hero  \n",
       "...             ...   ...    ...            ...  \n",
       "32639   First Owner   8.0  350.0  Royal Enfield  \n",
       "32640   First Owner   6.0  100.0           Hero  \n",
       "32641  Second Owner  11.0  220.0          Bajaj  \n",
       "32643   First Owner   4.0  100.0           Hero  \n",
       "32645   First Owner   6.0  220.0          Bajaj  \n",
       "\n",
       "[7274 rows x 8 columns]"
      ]
     },
     "execution_count": 77,
     "metadata": {},
     "output_type": "execute_result"
    }
   ],
   "source": [
    "## filtering based on condition \n",
    "df[\"city\"] == \"Delhi\"     ## particular value to fetch \n",
    "delhi = df[df[\"city\"] == \"Delhi\"]   ## fetch in a record \n",
    "delhi\n",
    "\n",
    "## owner == fourth owner \n",
    "df[(df[\"city\"] == \"Delhi\") & (df[\"owner\"] == \"Fourth Owner Or More\")]\n",
    "\n",
    "## another method of same\n",
    "delhi[delhi[\"owner\"]== \"Fourth Owner Or More\"]\n",
    "\n",
    "## kms_driven <= 65000\n",
    "delhi[\"kms_driven\"].value_counts()\n",
    "delhi[delhi[\"kms_driven\"] <= 65000]"
   ]
  },
  {
   "cell_type": "code",
   "execution_count": 81,
   "id": "173f675f",
   "metadata": {},
   "outputs": [
    {
     "data": {
      "application/vnd.microsoft.datawrangler.viewer.v0+json": {
       "columns": [
        {
         "name": "index",
         "rawType": "int64",
         "type": "integer"
        },
        {
         "name": "bike_name",
         "rawType": "object",
         "type": "string"
        },
        {
         "name": "price",
         "rawType": "float64",
         "type": "float"
        },
        {
         "name": "city",
         "rawType": "object",
         "type": "string"
        },
        {
         "name": "kms_driven",
         "rawType": "float64",
         "type": "float"
        },
        {
         "name": "owner",
         "rawType": "object",
         "type": "string"
        },
        {
         "name": "age",
         "rawType": "float64",
         "type": "float"
        },
        {
         "name": "power",
         "rawType": "float64",
         "type": "float"
        },
        {
         "name": "brand",
         "rawType": "object",
         "type": "string"
        }
       ],
       "ref": "1b2a4a18-f592-415a-8b49-0bdcf01be310",
       "rows": [
        [
         "7055",
         "TVS Sport 100cc",
         "46000.0",
         "Faridabad",
         "6222.0",
         "First Owner",
         "2.0",
         "100.0",
         "TVS"
        ]
       ],
       "shape": {
        "columns": 8,
        "rows": 1
       }
      },
      "text/html": [
       "<div>\n",
       "<style scoped>\n",
       "    .dataframe tbody tr th:only-of-type {\n",
       "        vertical-align: middle;\n",
       "    }\n",
       "\n",
       "    .dataframe tbody tr th {\n",
       "        vertical-align: top;\n",
       "    }\n",
       "\n",
       "    .dataframe thead th {\n",
       "        text-align: right;\n",
       "    }\n",
       "</style>\n",
       "<table border=\"1\" class=\"dataframe\">\n",
       "  <thead>\n",
       "    <tr style=\"text-align: right;\">\n",
       "      <th></th>\n",
       "      <th>bike_name</th>\n",
       "      <th>price</th>\n",
       "      <th>city</th>\n",
       "      <th>kms_driven</th>\n",
       "      <th>owner</th>\n",
       "      <th>age</th>\n",
       "      <th>power</th>\n",
       "      <th>brand</th>\n",
       "    </tr>\n",
       "  </thead>\n",
       "  <tbody>\n",
       "    <tr>\n",
       "      <th>7055</th>\n",
       "      <td>TVS Sport 100cc</td>\n",
       "      <td>46000.0</td>\n",
       "      <td>Faridabad</td>\n",
       "      <td>6222.0</td>\n",
       "      <td>First Owner</td>\n",
       "      <td>2.0</td>\n",
       "      <td>100.0</td>\n",
       "      <td>TVS</td>\n",
       "    </tr>\n",
       "  </tbody>\n",
       "</table>\n",
       "</div>"
      ],
      "text/plain": [
       "            bike_name    price       city  kms_driven        owner  age  \\\n",
       "7055  TVS Sport 100cc  46000.0  Faridabad      6222.0  First Owner  2.0   \n",
       "\n",
       "      power brand  \n",
       "7055  100.0   TVS  "
      ]
     },
     "execution_count": 81,
     "metadata": {},
     "output_type": "execute_result"
    }
   ],
   "source": [
    "## using multiple condition \n",
    "## problem statement ---> brand = tvs, age less than 3, price less than 50000\n",
    "tvs = df[(df[\"brand\"] == \"TVS\") & (df[\"age\"] <3 ) & (df[\"price\"] < 50000)]\n",
    "tvs"
   ]
  },
  {
   "cell_type": "code",
   "execution_count": null,
   "id": "82064b9a",
   "metadata": {},
   "outputs": [
    {
     "data": {
      "text/plain": [
       "np.int64(0)"
      ]
     },
     "execution_count": 87,
     "metadata": {},
     "output_type": "execute_result"
    }
   ],
   "source": [
    "## check the duplicate record in dataset \n",
    "df.duplicated().sum()\n",
    "\n",
    "## to delete duplicates\n",
    "df.drop_duplicates()\n",
    "df.duplicated().sum()\n",
    "\n",
    "## to save changes at particular place\n",
    "df.drop_duplicates(inplace=True)  ## used in data cleaning \n",
    "df.duplicated().sum()\n"
   ]
  },
  {
   "cell_type": "code",
   "execution_count": 90,
   "id": "260fda0d",
   "metadata": {},
   "outputs": [
    {
     "data": {
      "application/vnd.microsoft.datawrangler.viewer.v0+json": {
       "columns": [
        {
         "name": "index",
         "rawType": "object",
         "type": "string"
        },
        {
         "name": "0",
         "rawType": "int64",
         "type": "integer"
        }
       ],
       "ref": "52a7d484-a087-4db3-a472-573283f6d77d",
       "rows": [
        [
         "bike_name",
         "0"
        ],
        [
         "price",
         "0"
        ],
        [
         "city",
         "0"
        ],
        [
         "kms_driven",
         "0"
        ],
        [
         "owner",
         "0"
        ],
        [
         "age",
         "0"
        ],
        [
         "power",
         "0"
        ],
        [
         "brand",
         "0"
        ]
       ],
       "shape": {
        "columns": 1,
        "rows": 8
       }
      },
      "text/plain": [
       "bike_name     0\n",
       "price         0\n",
       "city          0\n",
       "kms_driven    0\n",
       "owner         0\n",
       "age           0\n",
       "power         0\n",
       "brand         0\n",
       "dtype: int64"
      ]
     },
     "execution_count": 90,
     "metadata": {},
     "output_type": "execute_result"
    }
   ],
   "source": [
    "## null value in dataset\n",
    "df.isnull().sum()\n",
    "\n",
    "## to remove null value\n",
    "df.dropna(inplace=True)\n",
    "df.isnull().sum()"
   ]
  },
  {
   "cell_type": "code",
   "execution_count": 91,
   "id": "bc52891a",
   "metadata": {},
   "outputs": [],
   "source": [
    "df.to_csv(\"Bikes.csv\")"
   ]
  },
  {
   "cell_type": "code",
   "execution_count": 92,
   "id": "9f2bca8d",
   "metadata": {},
   "outputs": [
    {
     "name": "stdout",
     "output_type": "stream",
     "text": [
      "<class 'pandas.core.frame.DataFrame'>\n",
      "Index: 7324 entries, 0 to 9372\n",
      "Data columns (total 8 columns):\n",
      " #   Column      Non-Null Count  Dtype  \n",
      "---  ------      --------------  -----  \n",
      " 0   bike_name   7324 non-null   object \n",
      " 1   price       7324 non-null   float64\n",
      " 2   city        7324 non-null   object \n",
      " 3   kms_driven  7324 non-null   float64\n",
      " 4   owner       7324 non-null   object \n",
      " 5   age         7324 non-null   float64\n",
      " 6   power       7324 non-null   float64\n",
      " 7   brand       7324 non-null   object \n",
      "dtypes: float64(4), object(4)\n",
      "memory usage: 515.0+ KB\n"
     ]
    }
   ],
   "source": [
    "df.info()"
   ]
  },
  {
   "cell_type": "code",
   "execution_count": 93,
   "id": "c10bed7f",
   "metadata": {},
   "outputs": [
    {
     "data": {
      "application/vnd.microsoft.datawrangler.viewer.v0+json": {
       "columns": [
        {
         "name": "index",
         "rawType": "int64",
         "type": "integer"
        },
        {
         "name": "a",
         "rawType": "int64",
         "type": "integer"
        },
        {
         "name": "b",
         "rawType": "float64",
         "type": "float"
        },
        {
         "name": "c",
         "rawType": "float64",
         "type": "float"
        }
       ],
       "ref": "40ef58d4-93b6-4c04-abca-0b46b4ff47fd",
       "rows": [
        [
         "0",
         "1",
         "5.0",
         null
        ],
        [
         "1",
         "2",
         null,
         "9.0"
        ],
        [
         "2",
         "3",
         "7.0",
         null
        ],
        [
         "3",
         "4",
         null,
         "11.0"
        ]
       ],
       "shape": {
        "columns": 3,
        "rows": 4
       }
      },
      "text/html": [
       "<div>\n",
       "<style scoped>\n",
       "    .dataframe tbody tr th:only-of-type {\n",
       "        vertical-align: middle;\n",
       "    }\n",
       "\n",
       "    .dataframe tbody tr th {\n",
       "        vertical-align: top;\n",
       "    }\n",
       "\n",
       "    .dataframe thead th {\n",
       "        text-align: right;\n",
       "    }\n",
       "</style>\n",
       "<table border=\"1\" class=\"dataframe\">\n",
       "  <thead>\n",
       "    <tr style=\"text-align: right;\">\n",
       "      <th></th>\n",
       "      <th>a</th>\n",
       "      <th>b</th>\n",
       "      <th>c</th>\n",
       "    </tr>\n",
       "  </thead>\n",
       "  <tbody>\n",
       "    <tr>\n",
       "      <th>0</th>\n",
       "      <td>1</td>\n",
       "      <td>5.0</td>\n",
       "      <td>NaN</td>\n",
       "    </tr>\n",
       "    <tr>\n",
       "      <th>1</th>\n",
       "      <td>2</td>\n",
       "      <td>NaN</td>\n",
       "      <td>9.0</td>\n",
       "    </tr>\n",
       "    <tr>\n",
       "      <th>2</th>\n",
       "      <td>3</td>\n",
       "      <td>7.0</td>\n",
       "      <td>NaN</td>\n",
       "    </tr>\n",
       "    <tr>\n",
       "      <th>3</th>\n",
       "      <td>4</td>\n",
       "      <td>NaN</td>\n",
       "      <td>11.0</td>\n",
       "    </tr>\n",
       "  </tbody>\n",
       "</table>\n",
       "</div>"
      ],
      "text/plain": [
       "   a    b     c\n",
       "0  1  5.0   NaN\n",
       "1  2  NaN   9.0\n",
       "2  3  7.0   NaN\n",
       "3  4  NaN  11.0"
      ]
     },
     "execution_count": 93,
     "metadata": {},
     "output_type": "execute_result"
    }
   ],
   "source": [
    "dt2 = {\n",
    "    \"a\": [1,2,3,4],\n",
    "    \"b\": [5,np.nan,7,np.nan],\n",
    "    \"c\": [np.nan,9,np.nan,11]\n",
    "}\n",
    "df3 = pd.DataFrame(dt2)\n",
    "df3"
   ]
  },
  {
   "cell_type": "code",
   "execution_count": 95,
   "id": "035a9164",
   "metadata": {},
   "outputs": [
    {
     "data": {
      "text/plain": [
       "np.int64(4)"
      ]
     },
     "execution_count": 95,
     "metadata": {},
     "output_type": "execute_result"
    }
   ],
   "source": [
    "df3.isnull().sum()\n",
    "## for particular count \n",
    "df3.isnull().sum().sum()\n"
   ]
  },
  {
   "cell_type": "code",
   "execution_count": 99,
   "id": "a96ba393",
   "metadata": {},
   "outputs": [
    {
     "data": {
      "application/vnd.microsoft.datawrangler.viewer.v0+json": {
       "columns": [
        {
         "name": "index",
         "rawType": "int64",
         "type": "integer"
        },
        {
         "name": "a",
         "rawType": "int64",
         "type": "integer"
        }
       ],
       "ref": "11cb0f48-35da-4e21-a2e5-81184c5b5c13",
       "rows": [
        [
         "0",
         "1"
        ],
        [
         "1",
         "2"
        ],
        [
         "2",
         "3"
        ],
        [
         "3",
         "4"
        ]
       ],
       "shape": {
        "columns": 1,
        "rows": 4
       }
      },
      "text/html": [
       "<div>\n",
       "<style scoped>\n",
       "    .dataframe tbody tr th:only-of-type {\n",
       "        vertical-align: middle;\n",
       "    }\n",
       "\n",
       "    .dataframe tbody tr th {\n",
       "        vertical-align: top;\n",
       "    }\n",
       "\n",
       "    .dataframe thead th {\n",
       "        text-align: right;\n",
       "    }\n",
       "</style>\n",
       "<table border=\"1\" class=\"dataframe\">\n",
       "  <thead>\n",
       "    <tr style=\"text-align: right;\">\n",
       "      <th></th>\n",
       "      <th>a</th>\n",
       "    </tr>\n",
       "  </thead>\n",
       "  <tbody>\n",
       "    <tr>\n",
       "      <th>0</th>\n",
       "      <td>1</td>\n",
       "    </tr>\n",
       "    <tr>\n",
       "      <th>1</th>\n",
       "      <td>2</td>\n",
       "    </tr>\n",
       "    <tr>\n",
       "      <th>2</th>\n",
       "      <td>3</td>\n",
       "    </tr>\n",
       "    <tr>\n",
       "      <th>3</th>\n",
       "      <td>4</td>\n",
       "    </tr>\n",
       "  </tbody>\n",
       "</table>\n",
       "</div>"
      ],
      "text/plain": [
       "   a\n",
       "0  1\n",
       "1  2\n",
       "2  3\n",
       "3  4"
      ]
     },
     "execution_count": 99,
     "metadata": {},
     "output_type": "execute_result"
    }
   ],
   "source": [
    "df3.dropna()  ## jis row m null value wahi row ko hata dega \n",
    "\n",
    "## to change its functionality\n",
    "df3.dropna(axis=1)   ## 0 ---> row || 1 ---> column "
   ]
  },
  {
   "cell_type": "code",
   "execution_count": 100,
   "id": "6e034c0e",
   "metadata": {},
   "outputs": [
    {
     "data": {
      "application/vnd.microsoft.datawrangler.viewer.v0+json": {
       "columns": [
        {
         "name": "index",
         "rawType": "int64",
         "type": "integer"
        },
        {
         "name": "a",
         "rawType": "int64",
         "type": "integer"
        },
        {
         "name": "b",
         "rawType": "float64",
         "type": "float"
        },
        {
         "name": "c",
         "rawType": "float64",
         "type": "float"
        }
       ],
       "ref": "5d08630d-0575-407e-96f6-92d1f6044e8d",
       "rows": [
        [
         "0",
         "1",
         "5.0",
         "0.0"
        ],
        [
         "1",
         "2",
         "0.0",
         "9.0"
        ],
        [
         "2",
         "3",
         "7.0",
         "0.0"
        ],
        [
         "3",
         "4",
         "0.0",
         "11.0"
        ]
       ],
       "shape": {
        "columns": 3,
        "rows": 4
       }
      },
      "text/html": [
       "<div>\n",
       "<style scoped>\n",
       "    .dataframe tbody tr th:only-of-type {\n",
       "        vertical-align: middle;\n",
       "    }\n",
       "\n",
       "    .dataframe tbody tr th {\n",
       "        vertical-align: top;\n",
       "    }\n",
       "\n",
       "    .dataframe thead th {\n",
       "        text-align: right;\n",
       "    }\n",
       "</style>\n",
       "<table border=\"1\" class=\"dataframe\">\n",
       "  <thead>\n",
       "    <tr style=\"text-align: right;\">\n",
       "      <th></th>\n",
       "      <th>a</th>\n",
       "      <th>b</th>\n",
       "      <th>c</th>\n",
       "    </tr>\n",
       "  </thead>\n",
       "  <tbody>\n",
       "    <tr>\n",
       "      <th>0</th>\n",
       "      <td>1</td>\n",
       "      <td>5.0</td>\n",
       "      <td>0.0</td>\n",
       "    </tr>\n",
       "    <tr>\n",
       "      <th>1</th>\n",
       "      <td>2</td>\n",
       "      <td>0.0</td>\n",
       "      <td>9.0</td>\n",
       "    </tr>\n",
       "    <tr>\n",
       "      <th>2</th>\n",
       "      <td>3</td>\n",
       "      <td>7.0</td>\n",
       "      <td>0.0</td>\n",
       "    </tr>\n",
       "    <tr>\n",
       "      <th>3</th>\n",
       "      <td>4</td>\n",
       "      <td>0.0</td>\n",
       "      <td>11.0</td>\n",
       "    </tr>\n",
       "  </tbody>\n",
       "</table>\n",
       "</div>"
      ],
      "text/plain": [
       "   a    b     c\n",
       "0  1  5.0   0.0\n",
       "1  2  0.0   9.0\n",
       "2  3  7.0   0.0\n",
       "3  4  0.0  11.0"
      ]
     },
     "execution_count": 100,
     "metadata": {},
     "output_type": "execute_result"
    }
   ],
   "source": [
    "## fill null value \n",
    "## 1. by constant \n",
    "df3.fillna(0)\n",
    "\n",
    "## 2. by mean or median of particular row or column "
   ]
  },
  {
   "cell_type": "code",
   "execution_count": 101,
   "id": "08b4af3a",
   "metadata": {},
   "outputs": [],
   "source": [
    "df.loc[0:10,[\"price\"]] = np.nan"
   ]
  },
  {
   "cell_type": "code",
   "execution_count": 102,
   "id": "16ffb7af",
   "metadata": {},
   "outputs": [
    {
     "data": {
      "application/vnd.microsoft.datawrangler.viewer.v0+json": {
       "columns": [
        {
         "name": "index",
         "rawType": "int64",
         "type": "integer"
        },
        {
         "name": "bike_name",
         "rawType": "object",
         "type": "string"
        },
        {
         "name": "price",
         "rawType": "float64",
         "type": "float"
        },
        {
         "name": "city",
         "rawType": "object",
         "type": "string"
        },
        {
         "name": "kms_driven",
         "rawType": "float64",
         "type": "float"
        },
        {
         "name": "owner",
         "rawType": "object",
         "type": "string"
        },
        {
         "name": "age",
         "rawType": "float64",
         "type": "float"
        },
        {
         "name": "power",
         "rawType": "float64",
         "type": "float"
        },
        {
         "name": "brand",
         "rawType": "object",
         "type": "string"
        }
       ],
       "ref": "a03df95f-cc18-4280-81bd-39bcfaf8a28e",
       "rows": [
        [
         "0",
         "TVS Star City Plus Dual Tone 110cc",
         null,
         "Ahmedabad",
         "17654.0",
         "First Owner",
         "3.0",
         "110.0",
         "TVS"
        ],
        [
         "1",
         "Royal Enfield Classic 350cc",
         null,
         "Delhi",
         "11000.0",
         "First Owner",
         "4.0",
         "350.0",
         "Royal Enfield"
        ],
        [
         "2",
         "Triumph Daytona 675R",
         null,
         "Delhi",
         "110.0",
         "First Owner",
         "8.0",
         "675.0",
         "Triumph"
        ],
        [
         "3",
         "TVS Apache RTR 180cc",
         null,
         "Bangalore",
         "16329.0",
         "First Owner",
         "4.0",
         "180.0",
         "TVS"
        ],
        [
         "4",
         "Yamaha FZ S V 2.0 150cc-Ltd. Edition",
         null,
         "Bangalore",
         "10000.0",
         "First Owner",
         "3.0",
         "150.0",
         "Yamaha"
        ],
        [
         "5",
         "Yamaha FZs 150cc",
         null,
         "Delhi",
         "25000.0",
         "First Owner",
         "6.0",
         "150.0",
         "Yamaha"
        ],
        [
         "6",
         "Honda CB Hornet 160R  ABS DLX",
         null,
         "Delhi",
         "8200.0",
         "First Owner",
         "3.0",
         "160.0",
         "Honda"
        ],
        [
         "7",
         "Hero Splendor Plus Self Alloy 100cc",
         null,
         "Delhi",
         "12645.0",
         "First Owner",
         "3.0",
         "100.0",
         "Hero"
        ],
        [
         "8",
         "Royal Enfield Thunderbird X 350cc",
         null,
         "Bangalore",
         "9190.0",
         "First Owner",
         "3.0",
         "350.0",
         "Royal Enfield"
        ],
        [
         "9",
         "Royal Enfield Classic Desert Storm 500cc",
         null,
         "Delhi",
         "19000.0",
         "Second Owner",
         "7.0",
         "500.0",
         "Royal Enfield"
        ],
        [
         "10",
         "Yamaha YZF-R15 2.0 150cc",
         null,
         "Bangalore",
         "20000.0",
         "First Owner",
         "7.0",
         "150.0",
         "Yamaha"
        ]
       ],
       "shape": {
        "columns": 8,
        "rows": 11
       }
      },
      "text/html": [
       "<div>\n",
       "<style scoped>\n",
       "    .dataframe tbody tr th:only-of-type {\n",
       "        vertical-align: middle;\n",
       "    }\n",
       "\n",
       "    .dataframe tbody tr th {\n",
       "        vertical-align: top;\n",
       "    }\n",
       "\n",
       "    .dataframe thead th {\n",
       "        text-align: right;\n",
       "    }\n",
       "</style>\n",
       "<table border=\"1\" class=\"dataframe\">\n",
       "  <thead>\n",
       "    <tr style=\"text-align: right;\">\n",
       "      <th></th>\n",
       "      <th>bike_name</th>\n",
       "      <th>price</th>\n",
       "      <th>city</th>\n",
       "      <th>kms_driven</th>\n",
       "      <th>owner</th>\n",
       "      <th>age</th>\n",
       "      <th>power</th>\n",
       "      <th>brand</th>\n",
       "    </tr>\n",
       "  </thead>\n",
       "  <tbody>\n",
       "    <tr>\n",
       "      <th>0</th>\n",
       "      <td>TVS Star City Plus Dual Tone 110cc</td>\n",
       "      <td>NaN</td>\n",
       "      <td>Ahmedabad</td>\n",
       "      <td>17654.0</td>\n",
       "      <td>First Owner</td>\n",
       "      <td>3.0</td>\n",
       "      <td>110.0</td>\n",
       "      <td>TVS</td>\n",
       "    </tr>\n",
       "    <tr>\n",
       "      <th>1</th>\n",
       "      <td>Royal Enfield Classic 350cc</td>\n",
       "      <td>NaN</td>\n",
       "      <td>Delhi</td>\n",
       "      <td>11000.0</td>\n",
       "      <td>First Owner</td>\n",
       "      <td>4.0</td>\n",
       "      <td>350.0</td>\n",
       "      <td>Royal Enfield</td>\n",
       "    </tr>\n",
       "    <tr>\n",
       "      <th>2</th>\n",
       "      <td>Triumph Daytona 675R</td>\n",
       "      <td>NaN</td>\n",
       "      <td>Delhi</td>\n",
       "      <td>110.0</td>\n",
       "      <td>First Owner</td>\n",
       "      <td>8.0</td>\n",
       "      <td>675.0</td>\n",
       "      <td>Triumph</td>\n",
       "    </tr>\n",
       "    <tr>\n",
       "      <th>3</th>\n",
       "      <td>TVS Apache RTR 180cc</td>\n",
       "      <td>NaN</td>\n",
       "      <td>Bangalore</td>\n",
       "      <td>16329.0</td>\n",
       "      <td>First Owner</td>\n",
       "      <td>4.0</td>\n",
       "      <td>180.0</td>\n",
       "      <td>TVS</td>\n",
       "    </tr>\n",
       "    <tr>\n",
       "      <th>4</th>\n",
       "      <td>Yamaha FZ S V 2.0 150cc-Ltd. Edition</td>\n",
       "      <td>NaN</td>\n",
       "      <td>Bangalore</td>\n",
       "      <td>10000.0</td>\n",
       "      <td>First Owner</td>\n",
       "      <td>3.0</td>\n",
       "      <td>150.0</td>\n",
       "      <td>Yamaha</td>\n",
       "    </tr>\n",
       "    <tr>\n",
       "      <th>5</th>\n",
       "      <td>Yamaha FZs 150cc</td>\n",
       "      <td>NaN</td>\n",
       "      <td>Delhi</td>\n",
       "      <td>25000.0</td>\n",
       "      <td>First Owner</td>\n",
       "      <td>6.0</td>\n",
       "      <td>150.0</td>\n",
       "      <td>Yamaha</td>\n",
       "    </tr>\n",
       "    <tr>\n",
       "      <th>6</th>\n",
       "      <td>Honda CB Hornet 160R  ABS DLX</td>\n",
       "      <td>NaN</td>\n",
       "      <td>Delhi</td>\n",
       "      <td>8200.0</td>\n",
       "      <td>First Owner</td>\n",
       "      <td>3.0</td>\n",
       "      <td>160.0</td>\n",
       "      <td>Honda</td>\n",
       "    </tr>\n",
       "    <tr>\n",
       "      <th>7</th>\n",
       "      <td>Hero Splendor Plus Self Alloy 100cc</td>\n",
       "      <td>NaN</td>\n",
       "      <td>Delhi</td>\n",
       "      <td>12645.0</td>\n",
       "      <td>First Owner</td>\n",
       "      <td>3.0</td>\n",
       "      <td>100.0</td>\n",
       "      <td>Hero</td>\n",
       "    </tr>\n",
       "    <tr>\n",
       "      <th>8</th>\n",
       "      <td>Royal Enfield Thunderbird X 350cc</td>\n",
       "      <td>NaN</td>\n",
       "      <td>Bangalore</td>\n",
       "      <td>9190.0</td>\n",
       "      <td>First Owner</td>\n",
       "      <td>3.0</td>\n",
       "      <td>350.0</td>\n",
       "      <td>Royal Enfield</td>\n",
       "    </tr>\n",
       "    <tr>\n",
       "      <th>9</th>\n",
       "      <td>Royal Enfield Classic Desert Storm 500cc</td>\n",
       "      <td>NaN</td>\n",
       "      <td>Delhi</td>\n",
       "      <td>19000.0</td>\n",
       "      <td>Second Owner</td>\n",
       "      <td>7.0</td>\n",
       "      <td>500.0</td>\n",
       "      <td>Royal Enfield</td>\n",
       "    </tr>\n",
       "    <tr>\n",
       "      <th>10</th>\n",
       "      <td>Yamaha YZF-R15 2.0 150cc</td>\n",
       "      <td>NaN</td>\n",
       "      <td>Bangalore</td>\n",
       "      <td>20000.0</td>\n",
       "      <td>First Owner</td>\n",
       "      <td>7.0</td>\n",
       "      <td>150.0</td>\n",
       "      <td>Yamaha</td>\n",
       "    </tr>\n",
       "  </tbody>\n",
       "</table>\n",
       "</div>"
      ],
      "text/plain": [
       "                                   bike_name  price       city  kms_driven  \\\n",
       "0         TVS Star City Plus Dual Tone 110cc    NaN  Ahmedabad     17654.0   \n",
       "1                Royal Enfield Classic 350cc    NaN      Delhi     11000.0   \n",
       "2                       Triumph Daytona 675R    NaN      Delhi       110.0   \n",
       "3                       TVS Apache RTR 180cc    NaN  Bangalore     16329.0   \n",
       "4       Yamaha FZ S V 2.0 150cc-Ltd. Edition    NaN  Bangalore     10000.0   \n",
       "5                           Yamaha FZs 150cc    NaN      Delhi     25000.0   \n",
       "6              Honda CB Hornet 160R  ABS DLX    NaN      Delhi      8200.0   \n",
       "7        Hero Splendor Plus Self Alloy 100cc    NaN      Delhi     12645.0   \n",
       "8          Royal Enfield Thunderbird X 350cc    NaN  Bangalore      9190.0   \n",
       "9   Royal Enfield Classic Desert Storm 500cc    NaN      Delhi     19000.0   \n",
       "10                  Yamaha YZF-R15 2.0 150cc    NaN  Bangalore     20000.0   \n",
       "\n",
       "           owner  age  power          brand  \n",
       "0    First Owner  3.0  110.0            TVS  \n",
       "1    First Owner  4.0  350.0  Royal Enfield  \n",
       "2    First Owner  8.0  675.0        Triumph  \n",
       "3    First Owner  4.0  180.0            TVS  \n",
       "4    First Owner  3.0  150.0         Yamaha  \n",
       "5    First Owner  6.0  150.0         Yamaha  \n",
       "6    First Owner  3.0  160.0          Honda  \n",
       "7    First Owner  3.0  100.0           Hero  \n",
       "8    First Owner  3.0  350.0  Royal Enfield  \n",
       "9   Second Owner  7.0  500.0  Royal Enfield  \n",
       "10   First Owner  7.0  150.0         Yamaha  "
      ]
     },
     "execution_count": 102,
     "metadata": {},
     "output_type": "execute_result"
    }
   ],
   "source": [
    "df.head(11)"
   ]
  },
  {
   "cell_type": "code",
   "execution_count": 103,
   "id": "8fcdcc7e",
   "metadata": {},
   "outputs": [
    {
     "data": {
      "application/vnd.microsoft.datawrangler.viewer.v0+json": {
       "columns": [
        {
         "name": "index",
         "rawType": "int64",
         "type": "integer"
        },
        {
         "name": "bike_name",
         "rawType": "object",
         "type": "string"
        },
        {
         "name": "price",
         "rawType": "float64",
         "type": "float"
        },
        {
         "name": "city",
         "rawType": "object",
         "type": "string"
        },
        {
         "name": "kms_driven",
         "rawType": "float64",
         "type": "float"
        },
        {
         "name": "owner",
         "rawType": "object",
         "type": "string"
        },
        {
         "name": "age",
         "rawType": "float64",
         "type": "float"
        },
        {
         "name": "power",
         "rawType": "float64",
         "type": "float"
        },
        {
         "name": "brand",
         "rawType": "object",
         "type": "string"
        }
       ],
       "ref": "6544978e-25c2-40db-9f0d-9a0430af7e24",
       "rows": [
        [
         "0",
         "TVS Star City Plus Dual Tone 110cc",
         "84821.72637768358",
         "Ahmedabad",
         "17654.0",
         "First Owner",
         "3.0",
         "110.0",
         "TVS"
        ],
        [
         "1",
         "Royal Enfield Classic 350cc",
         "84821.72637768358",
         "Delhi",
         "11000.0",
         "First Owner",
         "4.0",
         "350.0",
         "Royal Enfield"
        ],
        [
         "2",
         "Triumph Daytona 675R",
         "84821.72637768358",
         "Delhi",
         "110.0",
         "First Owner",
         "8.0",
         "675.0",
         "Triumph"
        ],
        [
         "3",
         "TVS Apache RTR 180cc",
         "84821.72637768358",
         "Bangalore",
         "16329.0",
         "First Owner",
         "4.0",
         "180.0",
         "TVS"
        ],
        [
         "4",
         "Yamaha FZ S V 2.0 150cc-Ltd. Edition",
         "84821.72637768358",
         "Bangalore",
         "10000.0",
         "First Owner",
         "3.0",
         "150.0",
         "Yamaha"
        ],
        [
         "5",
         "Yamaha FZs 150cc",
         "84821.72637768358",
         "Delhi",
         "25000.0",
         "First Owner",
         "6.0",
         "150.0",
         "Yamaha"
        ],
        [
         "6",
         "Honda CB Hornet 160R  ABS DLX",
         "84821.72637768358",
         "Delhi",
         "8200.0",
         "First Owner",
         "3.0",
         "160.0",
         "Honda"
        ],
        [
         "7",
         "Hero Splendor Plus Self Alloy 100cc",
         "84821.72637768358",
         "Delhi",
         "12645.0",
         "First Owner",
         "3.0",
         "100.0",
         "Hero"
        ],
        [
         "8",
         "Royal Enfield Thunderbird X 350cc",
         "84821.72637768358",
         "Bangalore",
         "9190.0",
         "First Owner",
         "3.0",
         "350.0",
         "Royal Enfield"
        ],
        [
         "9",
         "Royal Enfield Classic Desert Storm 500cc",
         "84821.72637768358",
         "Delhi",
         "19000.0",
         "Second Owner",
         "7.0",
         "500.0",
         "Royal Enfield"
        ],
        [
         "10",
         "Yamaha YZF-R15 2.0 150cc",
         "84821.72637768358",
         "Bangalore",
         "20000.0",
         "First Owner",
         "7.0",
         "150.0",
         "Yamaha"
        ],
        [
         "11",
         "Yamaha FZ25 250cc",
         "95000.0",
         "Bangalore",
         "9665.0",
         "First Owner",
         "4.0",
         "250.0",
         "Yamaha"
        ],
        [
         "12",
         "Bajaj Pulsar NS200",
         "78000.0",
         "Bangalore",
         "9900.0",
         "First Owner",
         "4.0",
         "200.0",
         "Bajaj"
        ],
        [
         "13",
         "Bajaj Discover 100M",
         "29499.0",
         "Delhi",
         "20000.0",
         "First Owner",
         "8.0",
         "100.0",
         "Bajaj"
        ],
        [
         "14",
         "Bajaj Discover 125M",
         "29900.0",
         "Delhi",
         "20000.0",
         "First Owner",
         "7.0",
         "125.0",
         "Bajaj"
        ],
        [
         "15",
         "Bajaj Pulsar NS200 ABS",
         "90000.0",
         "Bangalore",
         "11574.0",
         "First Owner",
         "3.0",
         "200.0",
         "Bajaj"
        ],
        [
         "16",
         "Bajaj Pulsar RS200 ABS",
         "120000.0",
         "Bangalore",
         "23000.0",
         "First Owner",
         "3.0",
         "200.0",
         "Bajaj"
        ],
        [
         "17",
         "Suzuki Gixxer SF 150cc",
         "48000.0",
         "Mumbai",
         "24725.0",
         "First Owner",
         "5.0",
         "150.0",
         "Suzuki"
        ],
        [
         "18",
         "Benelli 302R 300CC",
         "240000.0",
         "Mumbai",
         "15025.0",
         "Second Owner",
         "3.0",
         "302.0",
         "Benelli"
        ],
        [
         "22",
         "Hero Splendor iSmart Plus IBS 110cc",
         "46500.0",
         "Delhi",
         "3500.0",
         "First Owner",
         "2.0",
         "110.0",
         "Hero"
        ],
        [
         "23",
         "Royal Enfield Classic Chrome 500cc",
         "121700.0",
         "Kalyan",
         "24520.0",
         "First Owner",
         "5.0",
         "500.0",
         "Royal Enfield"
        ],
        [
         "24",
         "Yamaha FZ V 2.0 150cc",
         "45000.0",
         "Delhi",
         "23000.0",
         "First Owner",
         "6.0",
         "150.0",
         "Yamaha"
        ],
        [
         "26",
         "Hero Super Splendor 125cc",
         "20000.0",
         "Ahmedabad",
         "29305.0",
         "First Owner",
         "16.0",
         "125.0",
         "Hero"
        ],
        [
         "27",
         "Honda CBF Stunner 125cc",
         "20800.0",
         "Faridabad",
         "30500.0",
         "Second Owner",
         "7.0",
         "125.0",
         "Honda"
        ],
        [
         "28",
         "Bajaj Pulsar 150cc",
         "50000.0",
         "Bangalore",
         "19000.0",
         "First Owner",
         "8.0",
         "150.0",
         "Bajaj"
        ],
        [
         "29",
         "Honda X-Blade 160CC ABS",
         "81200.0",
         "Mettur",
         "9100.0",
         "First Owner",
         "2.0",
         "160.0",
         "Honda"
        ],
        [
         "30",
         "Bajaj Pulsar NS200",
         "88000.0",
         "Hyderabad",
         "21914.0",
         "First Owner",
         "3.0",
         "200.0",
         "Bajaj"
        ],
        [
         "31",
         "Yamaha YZF-R15 2.0 150cc",
         "80000.0",
         "Kaithal",
         "20000.0",
         "Second Owner",
         "4.0",
         "150.0",
         "Yamaha"
        ],
        [
         "32",
         "Bajaj Avenger 220cc",
         "40900.0",
         "Gurgaon",
         "15000.0",
         "First Owner",
         "6.0",
         "220.0",
         "Bajaj"
        ],
        [
         "33",
         "KTM RC 390cc",
         "180000.0",
         "Pune",
         "17700.0",
         "First Owner",
         "4.0",
         "390.0",
         "KTM"
        ],
        [
         "34",
         "Honda CB Unicorn 150cc",
         "40000.0",
         "Noida",
         "30000.0",
         "First Owner",
         "8.0",
         "150.0",
         "Honda"
        ],
        [
         "35",
         "KTM Duke 200cc",
         "70000.0",
         "Nashik",
         "100000.0",
         "Second Owner",
         "8.0",
         "200.0",
         "KTM"
        ],
        [
         "36",
         "Royal Enfield Classic 350cc",
         "98800.0",
         "Kochi",
         "39000.0",
         "First Owner",
         "5.0",
         "350.0",
         "Royal Enfield"
        ],
        [
         "37",
         "Honda CBR 150R 150cc",
         "65000.0",
         "Allahabad",
         "43000.0",
         "First Owner",
         "6.0",
         "150.0",
         "Honda"
        ],
        [
         "38",
         "Royal Enfield Thunderbird X 500cc",
         "190500.0",
         "Samastipur",
         "4550.0",
         "First Owner",
         "2.0",
         "500.0",
         "Royal Enfield"
        ],
        [
         "39",
         "KTM RC 200cc ABS",
         "179000.0",
         "Bangalore",
         "3400.0",
         "First Owner",
         "2.0",
         "200.0",
         "KTM"
        ],
        [
         "40",
         "Royal Enfield Thunderbird 350cc",
         "70000.0",
         "Nadiad",
         "45000.0",
         "First Owner",
         "8.0",
         "350.0",
         "Royal Enfield"
        ],
        [
         "41",
         "Bajaj Avenger 220cc",
         "45000.0",
         "Hyderabad",
         "36100.0",
         "First Owner",
         "6.0",
         "220.0",
         "Bajaj"
        ],
        [
         "42",
         "Royal Enfield Bullet Electra 350cc",
         "78000.0",
         "Lucknow",
         "8500.0",
         "First Owner",
         "13.0",
         "350.0",
         "Royal Enfield"
        ],
        [
         "43",
         "Bajaj Avenger Street 220 ABS",
         "110000.0",
         "Bangalore",
         "2550.0",
         "First Owner",
         "2.0",
         "220.0",
         "Bajaj"
        ],
        [
         "44",
         "Royal Enfield Classic 350cc",
         "85000.0",
         "Delhi",
         "18000.0",
         "First Owner",
         "6.0",
         "350.0",
         "Royal Enfield"
        ],
        [
         "45",
         "Bajaj Pulsar NS200",
         "38000.0",
         "Delhi",
         "35000.0",
         "First Owner",
         "9.0",
         "200.0",
         "Bajaj"
        ],
        [
         "46",
         "Royal Enfield Thunderbird 350cc",
         "55346.0",
         "Noida",
         "38000.0",
         "First Owner",
         "10.0",
         "350.0",
         "Royal Enfield"
        ],
        [
         "47",
         "Mahindra Centuro NXT 110cc",
         "28000.0",
         "Jaipur",
         "45000.0",
         "First Owner",
         "2.0",
         "110.0",
         "Mahindra"
        ],
        [
         "48",
         "Hero Hunk 150cc",
         "37000.0",
         "Mumbai",
         "10800.0",
         "First Owner",
         "8.0",
         "150.0",
         "Hero"
        ],
        [
         "49",
         "Suzuki Gixxer SF Fi 150cc SP ABS",
         "97000.0",
         "Delhi",
         "4400.0",
         "First Owner",
         "3.0",
         "150.0",
         "Suzuki"
        ],
        [
         "50",
         "Yamaha FZ 150cc",
         "40000.0",
         "Karnal",
         "357000.0",
         "First Owner",
         "8.0",
         "150.0",
         "Yamaha"
        ],
        [
         "51",
         "Royal Enfield‎ Bullet 350cc",
         "90000.0",
         "Delhi",
         "15300.0",
         "First Owner",
         "7.0",
         "350.0",
         "Royal Enfield"
        ],
        [
         "52",
         "TVS Apache RTR 160cc",
         "60000.0",
         "Mumbai",
         "30000.0",
         "First Owner",
         "5.0",
         "160.0",
         "TVS"
        ],
        [
         "53",
         "Honda CB Shine 125cc",
         "21900.0",
         "Gorakhpur",
         "30000.0",
         "Second Owner",
         "7.0",
         "125.0",
         "Honda"
        ]
       ],
       "shape": {
        "columns": 8,
        "rows": 7324
       }
      },
      "text/html": [
       "<div>\n",
       "<style scoped>\n",
       "    .dataframe tbody tr th:only-of-type {\n",
       "        vertical-align: middle;\n",
       "    }\n",
       "\n",
       "    .dataframe tbody tr th {\n",
       "        vertical-align: top;\n",
       "    }\n",
       "\n",
       "    .dataframe thead th {\n",
       "        text-align: right;\n",
       "    }\n",
       "</style>\n",
       "<table border=\"1\" class=\"dataframe\">\n",
       "  <thead>\n",
       "    <tr style=\"text-align: right;\">\n",
       "      <th></th>\n",
       "      <th>bike_name</th>\n",
       "      <th>price</th>\n",
       "      <th>city</th>\n",
       "      <th>kms_driven</th>\n",
       "      <th>owner</th>\n",
       "      <th>age</th>\n",
       "      <th>power</th>\n",
       "      <th>brand</th>\n",
       "    </tr>\n",
       "  </thead>\n",
       "  <tbody>\n",
       "    <tr>\n",
       "      <th>0</th>\n",
       "      <td>TVS Star City Plus Dual Tone 110cc</td>\n",
       "      <td>84821.726378</td>\n",
       "      <td>Ahmedabad</td>\n",
       "      <td>17654.0</td>\n",
       "      <td>First Owner</td>\n",
       "      <td>3.0</td>\n",
       "      <td>110.0</td>\n",
       "      <td>TVS</td>\n",
       "    </tr>\n",
       "    <tr>\n",
       "      <th>1</th>\n",
       "      <td>Royal Enfield Classic 350cc</td>\n",
       "      <td>84821.726378</td>\n",
       "      <td>Delhi</td>\n",
       "      <td>11000.0</td>\n",
       "      <td>First Owner</td>\n",
       "      <td>4.0</td>\n",
       "      <td>350.0</td>\n",
       "      <td>Royal Enfield</td>\n",
       "    </tr>\n",
       "    <tr>\n",
       "      <th>2</th>\n",
       "      <td>Triumph Daytona 675R</td>\n",
       "      <td>84821.726378</td>\n",
       "      <td>Delhi</td>\n",
       "      <td>110.0</td>\n",
       "      <td>First Owner</td>\n",
       "      <td>8.0</td>\n",
       "      <td>675.0</td>\n",
       "      <td>Triumph</td>\n",
       "    </tr>\n",
       "    <tr>\n",
       "      <th>3</th>\n",
       "      <td>TVS Apache RTR 180cc</td>\n",
       "      <td>84821.726378</td>\n",
       "      <td>Bangalore</td>\n",
       "      <td>16329.0</td>\n",
       "      <td>First Owner</td>\n",
       "      <td>4.0</td>\n",
       "      <td>180.0</td>\n",
       "      <td>TVS</td>\n",
       "    </tr>\n",
       "    <tr>\n",
       "      <th>4</th>\n",
       "      <td>Yamaha FZ S V 2.0 150cc-Ltd. Edition</td>\n",
       "      <td>84821.726378</td>\n",
       "      <td>Bangalore</td>\n",
       "      <td>10000.0</td>\n",
       "      <td>First Owner</td>\n",
       "      <td>3.0</td>\n",
       "      <td>150.0</td>\n",
       "      <td>Yamaha</td>\n",
       "    </tr>\n",
       "    <tr>\n",
       "      <th>...</th>\n",
       "      <td>...</td>\n",
       "      <td>...</td>\n",
       "      <td>...</td>\n",
       "      <td>...</td>\n",
       "      <td>...</td>\n",
       "      <td>...</td>\n",
       "      <td>...</td>\n",
       "      <td>...</td>\n",
       "    </tr>\n",
       "    <tr>\n",
       "      <th>9362</th>\n",
       "      <td>Hero Hunk Rear Disc 150cc</td>\n",
       "      <td>25000.000000</td>\n",
       "      <td>Delhi</td>\n",
       "      <td>48587.0</td>\n",
       "      <td>First Owner</td>\n",
       "      <td>8.0</td>\n",
       "      <td>150.0</td>\n",
       "      <td>Hero</td>\n",
       "    </tr>\n",
       "    <tr>\n",
       "      <th>9369</th>\n",
       "      <td>Bajaj Avenger 220cc</td>\n",
       "      <td>35000.000000</td>\n",
       "      <td>Bangalore</td>\n",
       "      <td>60000.0</td>\n",
       "      <td>First Owner</td>\n",
       "      <td>9.0</td>\n",
       "      <td>220.0</td>\n",
       "      <td>Bajaj</td>\n",
       "    </tr>\n",
       "    <tr>\n",
       "      <th>9370</th>\n",
       "      <td>Harley-Davidson Street 750 ABS</td>\n",
       "      <td>450000.000000</td>\n",
       "      <td>Jodhpur</td>\n",
       "      <td>3430.0</td>\n",
       "      <td>First Owner</td>\n",
       "      <td>4.0</td>\n",
       "      <td>750.0</td>\n",
       "      <td>Harley-Davidson</td>\n",
       "    </tr>\n",
       "    <tr>\n",
       "      <th>9371</th>\n",
       "      <td>Bajaj Dominar 400 ABS</td>\n",
       "      <td>139000.000000</td>\n",
       "      <td>Hyderabad</td>\n",
       "      <td>21300.0</td>\n",
       "      <td>First Owner</td>\n",
       "      <td>4.0</td>\n",
       "      <td>400.0</td>\n",
       "      <td>Bajaj</td>\n",
       "    </tr>\n",
       "    <tr>\n",
       "      <th>9372</th>\n",
       "      <td>Bajaj Avenger Street 220</td>\n",
       "      <td>80000.000000</td>\n",
       "      <td>Hyderabad</td>\n",
       "      <td>7127.0</td>\n",
       "      <td>First Owner</td>\n",
       "      <td>5.0</td>\n",
       "      <td>220.0</td>\n",
       "      <td>Bajaj</td>\n",
       "    </tr>\n",
       "  </tbody>\n",
       "</table>\n",
       "<p>7324 rows × 8 columns</p>\n",
       "</div>"
      ],
      "text/plain": [
       "                                 bike_name          price       city  \\\n",
       "0       TVS Star City Plus Dual Tone 110cc   84821.726378  Ahmedabad   \n",
       "1              Royal Enfield Classic 350cc   84821.726378      Delhi   \n",
       "2                     Triumph Daytona 675R   84821.726378      Delhi   \n",
       "3                     TVS Apache RTR 180cc   84821.726378  Bangalore   \n",
       "4     Yamaha FZ S V 2.0 150cc-Ltd. Edition   84821.726378  Bangalore   \n",
       "...                                    ...            ...        ...   \n",
       "9362             Hero Hunk Rear Disc 150cc   25000.000000      Delhi   \n",
       "9369                   Bajaj Avenger 220cc   35000.000000  Bangalore   \n",
       "9370        Harley-Davidson Street 750 ABS  450000.000000    Jodhpur   \n",
       "9371                 Bajaj Dominar 400 ABS  139000.000000  Hyderabad   \n",
       "9372              Bajaj Avenger Street 220   80000.000000  Hyderabad   \n",
       "\n",
       "      kms_driven        owner  age  power            brand  \n",
       "0        17654.0  First Owner  3.0  110.0              TVS  \n",
       "1        11000.0  First Owner  4.0  350.0    Royal Enfield  \n",
       "2          110.0  First Owner  8.0  675.0          Triumph  \n",
       "3        16329.0  First Owner  4.0  180.0              TVS  \n",
       "4        10000.0  First Owner  3.0  150.0           Yamaha  \n",
       "...          ...          ...  ...    ...              ...  \n",
       "9362     48587.0  First Owner  8.0  150.0             Hero  \n",
       "9369     60000.0  First Owner  9.0  220.0            Bajaj  \n",
       "9370      3430.0  First Owner  4.0  750.0  Harley-Davidson  \n",
       "9371     21300.0  First Owner  4.0  400.0            Bajaj  \n",
       "9372      7127.0  First Owner  5.0  220.0            Bajaj  \n",
       "\n",
       "[7324 rows x 8 columns]"
      ]
     },
     "execution_count": 103,
     "metadata": {},
     "output_type": "execute_result"
    }
   ],
   "source": [
    "## filling with mean and median\n",
    "df.fillna(df[\"price\"].mean())"
   ]
  }
 ],
 "metadata": {
  "kernelspec": {
   "display_name": "Python 3",
   "language": "python",
   "name": "python3"
  },
  "language_info": {
   "codemirror_mode": {
    "name": "ipython",
    "version": 3
   },
   "file_extension": ".py",
   "mimetype": "text/x-python",
   "name": "python",
   "nbconvert_exporter": "python",
   "pygments_lexer": "ipython3",
   "version": "3.11.9"
  }
 },
 "nbformat": 4,
 "nbformat_minor": 5
}
