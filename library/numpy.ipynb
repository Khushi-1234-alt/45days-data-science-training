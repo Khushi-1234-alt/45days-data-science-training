{
 "cells": [
  {
   "cell_type": "markdown",
   "id": "ac4c5750",
   "metadata": {},
   "source": [
    "# PYTHON LIBRARY\n",
    "## numpy"
   ]
  },
  {
   "cell_type": "code",
   "execution_count": 53,
   "id": "d35c5d2c",
   "metadata": {},
   "outputs": [
    {
     "data": {
      "text/plain": [
       "'2.3.0'"
      ]
     },
     "execution_count": 53,
     "metadata": {},
     "output_type": "execute_result"
    }
   ],
   "source": [
    "## check numpy version\n",
    "import numpy as np \n",
    "## 1D, 2D, 3D\n",
    "np.__version__"
   ]
  },
  {
   "cell_type": "code",
   "execution_count": 54,
   "id": "90316edd",
   "metadata": {},
   "outputs": [
    {
     "data": {
      "text/plain": [
       "array(['1', '2', '3', '4', '5'], dtype='<U21')"
      ]
     },
     "execution_count": 54,
     "metadata": {},
     "output_type": "execute_result"
    }
   ],
   "source": [
    "lst = [1,2,3,4,5]\n",
    "ar1 = np.array(lst)\n",
    "ar1         ## print the list\n",
    "## print(type(ar1))\n",
    "\n",
    "## if multiple element is passes\n",
    "ar1 = np.array([1,2,\"3\",4,5])\n",
    "ar1    ## convert whole list into string "
   ]
  },
  {
   "cell_type": "code",
   "execution_count": 55,
   "id": "758f6ed3",
   "metadata": {},
   "outputs": [
    {
     "data": {
      "text/plain": [
       "array([1, 2, 3, 4, 5, 6, 7, 8, 9])"
      ]
     },
     "execution_count": 55,
     "metadata": {},
     "output_type": "execute_result"
    }
   ],
   "source": [
    "## when ypu have to create an array in a range \n",
    "ar2 = np.arange(1,10)\n",
    "ar2"
   ]
  },
  {
   "cell_type": "code",
   "execution_count": 56,
   "id": "9d4746e2",
   "metadata": {},
   "outputs": [
    {
     "data": {
      "text/plain": [
       "array([0., 0., 0., 0.])"
      ]
     },
     "execution_count": 56,
     "metadata": {},
     "output_type": "execute_result"
    }
   ],
   "source": [
    "## for matrix 0 and 1 \n",
    "arr3 = np.ones(5)\n",
    "arr3\n",
    "\n",
    "## zeros\n",
    "arr4 = np.zeros(4)\n",
    "arr4"
   ]
  },
  {
   "cell_type": "markdown",
   "id": "ed896157",
   "metadata": {},
   "source": [
    "#### 2D array as matrix"
   ]
  },
  {
   "cell_type": "code",
   "execution_count": 57,
   "id": "3c5a5ad6",
   "metadata": {},
   "outputs": [
    {
     "data": {
      "text/plain": [
       "array([[0., 0., 0.],\n",
       "       [0., 0., 0.]])"
      ]
     },
     "execution_count": 57,
     "metadata": {},
     "output_type": "execute_result"
    }
   ],
   "source": [
    "arr5 = np.zeros((2,3))\n",
    "arr5        ## no of square bracket = dimension of array "
   ]
  },
  {
   "cell_type": "code",
   "execution_count": 58,
   "id": "37595fb0",
   "metadata": {},
   "outputs": [
    {
     "data": {
      "text/plain": [
       "array([ 1.  ,  3.25,  5.5 ,  7.75, 10.  ])"
      ]
     },
     "execution_count": 58,
     "metadata": {},
     "output_type": "execute_result"
    }
   ],
   "source": [
    "arr6 = np.linspace(1,10,5) ## 1-10 range and want 5 number \n",
    "arr6"
   ]
  },
  {
   "cell_type": "code",
   "execution_count": 59,
   "id": "86e116be",
   "metadata": {},
   "outputs": [
    {
     "data": {
      "text/plain": [
       "array([[ 1,  2,  3,  4,  5,  6],\n",
       "       [ 7,  8,  9, 10, 11, 12],\n",
       "       [13, 14, 15, 16, 17, 18],\n",
       "       [19, 20, 21, 22, 23, 24],\n",
       "       [25, 26, 27, 28, 29, 30]])"
      ]
     },
     "execution_count": 59,
     "metadata": {},
     "output_type": "execute_result"
    }
   ],
   "source": [
    "## print an array from 1-30 in 2D array\n",
    "arr7 = np.arange(1,31).reshape(5,6)  ## (5,6) because no of elements we want should me equal to the given multiple of rows and column \n",
    "arr7"
   ]
  },
  {
   "cell_type": "code",
   "execution_count": 60,
   "id": "4d11963b",
   "metadata": {},
   "outputs": [
    {
     "data": {
      "text/plain": [
       "array([0.36673909, 0.30365453, 0.77529152, 0.54002022, 0.66836027,\n",
       "       0.77816266, 0.47210057, 0.39842912, 0.53291891, 0.16227319])"
      ]
     },
     "execution_count": 60,
     "metadata": {},
     "output_type": "execute_result"
    }
   ],
   "source": [
    "## random number array\n",
    "# arr8 = np.random.randint(1,100,10)\n",
    "arr8 = np.random.random(10)\n",
    "arr8"
   ]
  },
  {
   "cell_type": "code",
   "execution_count": 61,
   "id": "94d33184",
   "metadata": {},
   "outputs": [
    {
     "name": "stdout",
     "output_type": "stream",
     "text": [
      "(5, 12)\n",
      "int64\n",
      "60\n",
      "2\n"
     ]
    }
   ],
   "source": [
    "## 2D array of 60 element \n",
    "arr9 = np.arange(60).reshape(5,12)\n",
    "print(arr9.shape)   ## about the shape \n",
    "print(arr9.dtype)   ## about datatype and bits\n",
    "print(arr9.size)    ## size of array\n",
    "print(arr9.ndim)    ## dimension "
   ]
  },
  {
   "cell_type": "code",
   "execution_count": 62,
   "id": "f7b40df5",
   "metadata": {},
   "outputs": [
    {
     "name": "stdout",
     "output_type": "stream",
     "text": [
      "[ 0  1  2  3  4  5  6  7  8  9 10 11 12 13 14 15 16 17 18 19 20 21 22 23\n",
      " 24 25 26 27 28 29 30 31 32 33 34 35 36 37 38 39 40 41 42 43 44 45 46 47\n",
      " 48 49 50 51 52 53 54 55 56 57 58 59]\n",
      "[ 0  1  2  3  4  5  6  7  8  9 10 11 12 13 14 15 16 17 18 19 20 21 22 23\n",
      " 24 25 26 27 28 29 30 31 32 33 34 35 36 37 38 39 40 41 42 43 44 45 46 47\n",
      " 48 49 50 51 52 53 54 55 56 57 58 59]\n"
     ]
    }
   ],
   "source": [
    "## multidimension array covert id\n",
    "print(arr9.ravel())\n",
    "print(arr9.flatten())"
   ]
  },
  {
   "cell_type": "code",
   "execution_count": 63,
   "id": "1f4f8132",
   "metadata": {},
   "outputs": [
    {
     "name": "stdout",
     "output_type": "stream",
     "text": [
      "(5, 12)\n",
      "(12, 5)\n"
     ]
    }
   ],
   "source": [
    "## transpose of an array \n",
    "arr9 = np.arange(60).reshape(5,12)\n",
    "print(arr9.shape)\n",
    "arr10 = arr9.T.shape\n",
    "print(arr10)"
   ]
  },
  {
   "cell_type": "code",
   "execution_count": 64,
   "id": "0de25b38",
   "metadata": {},
   "outputs": [
    {
     "name": "stdout",
     "output_type": "stream",
     "text": [
      "4\n",
      "[1, 2, 3, 4]\n",
      "[1, 2, 3, 4]\n",
      "[]\n"
     ]
    }
   ],
   "source": [
    "## indexing and slicing \n",
    "## 1D array indexing and slicing is same as normal list and tuple slicing and indexing \n",
    "## INDEXING \n",
    "lst = [1,2,3,4,5]\n",
    "ar1 = np.array(lst)\n",
    "print(lst[3])\n",
    "\n",
    "## SLICING \n",
    "lst = [1,2,3,4,5]\n",
    "ar1 = np.array(lst)\n",
    "print(lst[0:4])\n",
    "print(lst[-5:-1])\n",
    "print(lst[-1:-2])\n",
    "\n",
    "## UPDATING \n",
    "lst = [1,2,3,4,5]\n",
    "ar1 = np.array(lst)\n",
    "\n"
   ]
  },
  {
   "cell_type": "code",
   "execution_count": null,
   "id": "af255a02",
   "metadata": {},
   "outputs": [
    {
     "data": {
      "text/plain": [
       "array([[59, 58, 57, 56, 55, 54, 53, 52, 51, 50, 49, 48],\n",
       "       [47, 46, 45, 44, 43, 42, 41, 40, 39, 38, 37, 36],\n",
       "       [35, 34, 33, 32, 31, 30, 29, 28, 27, 26, 25, 24],\n",
       "       [23, 22, 21, 20, 19, 18, 17, 16, 15, 14, 13, 12],\n",
       "       [11, 10,  9,  8,  7,  6,  5,  4,  3,  2,  1,  0]])"
      ]
     },
     "execution_count": 65,
     "metadata": {},
     "output_type": "execute_result"
    }
   ],
   "source": [
    "# ## indexing and slicing in 2D array \n",
    "# ## 1D array\n",
    "# ## 2D array --> [row start: row end: row skip, col start: col end : col skip]\n",
    "arr9 = np.arange(60).reshape(5,12)\n",
    "# print(arr9,\"\\n\")\n",
    "\n",
    "# ## indexing \n",
    "# print(arr9[3],\"\\n\")\n",
    "\n",
    "# ## slicing \n",
    "# print(arr9[3:6,2:3],\"\\n\")\n",
    "# print(arr9[3:4],\"\\n\")\n",
    "# print(arr9[3:6,2:],\"\\n\")\n",
    "\n",
    "## arr9[3:4,2:3] = 100\n",
    "## arr9[::-1 , ::-1]"
   ]
  },
  {
   "cell_type": "markdown",
   "id": "d0c2309a",
   "metadata": {},
   "source": [
    "### 3D array "
   ]
  },
  {
   "cell_type": "code",
   "execution_count": null,
   "id": "f72ad18c",
   "metadata": {},
   "outputs": [
    {
     "data": {
      "text/plain": [
       "array([[[  0,   1,   2,   3,   4],\n",
       "        [  5,   6,   7,   8,   9],\n",
       "        [ 10,  11,  12,  13,  14],\n",
       "        [ 15,  16,  17,  18,  19],\n",
       "        [ 20,  21,  22,  23,  24],\n",
       "        [ 25,  26,  27,  28,  29],\n",
       "        [ 30,  31,  32,  33,  34],\n",
       "        [ 35,  36,  37,  38,  39],\n",
       "        [ 40,  41,  42,  43,  44],\n",
       "        [ 45,  46,  47,  48,  49],\n",
       "        [ 50,  51,  52,  53,  54],\n",
       "        [ 55,  56,  57,  58,  59],\n",
       "        [ 60,  61,  62,  63,  64],\n",
       "        [ 65,  66,  67,  68,  69],\n",
       "        [ 70,  71,  72,  73,  74]],\n",
       "\n",
       "       [[ 75,  76,  77,  78,  79],\n",
       "        [ 80,  81,  82,  83,  84],\n",
       "        [ 85,  86,  87,  88,  89],\n",
       "        [ 90,  91,  92,  93,  94],\n",
       "        [ 95,  96,  97,  98,  99],\n",
       "        [100, 101, 102, 103, 104],\n",
       "        [105, 106, 107, 108, 109],\n",
       "        [110, 111, 112, 113, 114],\n",
       "        [115, 116, 117, 118, 119],\n",
       "        [120, 121, 122, 123, 124],\n",
       "        [125, 126, 127, 128, 129],\n",
       "        [130, 131, 132, 133, 134],\n",
       "        [135, 136, 137, 138, 139],\n",
       "        [140, 141, 142, 143, 144],\n",
       "        [145, 146, 147, 148, 149]],\n",
       "\n",
       "       [[150, 151, 152, 153, 154],\n",
       "        [155, 156, 157, 158, 159],\n",
       "        [160, 161, 162, 163, 164],\n",
       "        [165, 166, 167, 168, 169],\n",
       "        [170, 171, 172, 173, 174],\n",
       "        [175, 176, 177, 178, 179],\n",
       "        [180, 181, 182, 183, 184],\n",
       "        [185, 186, 187, 188, 189],\n",
       "        [190, 191, 192, 193, 194],\n",
       "        [195, 196, 197, 198, 199],\n",
       "        [200, 201, 202, 203, 204],\n",
       "        [205, 206, 207, 208, 209],\n",
       "        [210, 211, 212, 213, 214],\n",
       "        [215, 216, 217, 218, 219],\n",
       "        [220, 221, 222, 223, 224]]])"
      ]
     },
     "execution_count": 68,
     "metadata": {},
     "output_type": "execute_result"
    }
   ],
   "source": [
    "## 2D array ki array hi 3D array hoti h \n",
    "arr10 = np.arange(225).reshape(3,15,5)\n",
    "arr10"
   ]
  },
  {
   "cell_type": "code",
   "execution_count": 77,
   "id": "938fce21",
   "metadata": {},
   "outputs": [
    {
     "name": "stdout",
     "output_type": "stream",
     "text": [
      "[[[95 67 22 81 23]\n",
      "  [50 29 49 27 91]\n",
      "  [73 73 90 15 72]\n",
      "  [80 21 58 90 91]\n",
      "  [43 81 34 51 12]\n",
      "  [37 38 84 88 17]\n",
      "  [63 74 78 67 15]\n",
      "  [67 79 37 62 23]\n",
      "  [20 65 34  6 91]\n",
      "  [28 58 55 71 32]\n",
      "  [ 2 38 89 62 32]\n",
      "  [ 6 68 11 90 46]\n",
      "  [27 59 41 94 70]\n",
      "  [ 8 99 70 80 29]\n",
      "  [86 59 32 12 12]]\n",
      "\n",
      " [[38 90 88 95 25]\n",
      "  [38 86 98 92 54]\n",
      "  [87 74 24 26 93]\n",
      "  [63 37 76 17 72]\n",
      "  [93 87 96 38 64]\n",
      "  [12 28 82 92 40]\n",
      "  [37 14 70 75 16]\n",
      "  [77 47  2 12 61]\n",
      "  [93 27 94 92 86]\n",
      "  [53 34 79 90 48]\n",
      "  [53 37 35 28 28]\n",
      "  [40 52 76 34 29]\n",
      "  [34 81 46 71 23]\n",
      "  [52 76 61  2 97]\n",
      "  [51 14 12  4 79]]\n",
      "\n",
      " [[90  2  2 85 99]\n",
      "  [13 75 79 23  8]\n",
      "  [35 99 70 91 43]\n",
      "  [25  6  7 87 13]\n",
      "  [62 27 12 21 34]\n",
      "  [90 29 59 32 25]\n",
      "  [46  3 93 31 11]\n",
      "  [43 37 95 20 31]\n",
      "  [44 66 88  1 57]\n",
      "  [51 72 57  4 21]\n",
      "  [11 47  4 24 13]\n",
      "  [69 79 75 39 10]\n",
      "  [47 83 46 36 67]\n",
      "  [32 15 67 50 87]\n",
      "  [96 65 46 26 76]]]\n"
     ]
    }
   ],
   "source": [
    "# arr = np.ones((3,4,5))\n",
    "# print(arr,\"\\n\")\n",
    "\n",
    "# arr = np.zeros((2,2,3))\n",
    "# print(arr,\"\\n\")\n",
    "\n",
    "arr = np.random.randint(1,100,225).reshape(3,15,5)\n",
    "print(arr)\n"
   ]
  },
  {
   "cell_type": "code",
   "execution_count": 80,
   "id": "00015915",
   "metadata": {},
   "outputs": [
    {
     "data": {
      "text/plain": [
       "array([[[49, 27],\n",
       "        [90, 15],\n",
       "        [58, 90]],\n",
       "\n",
       "       [[98, 92],\n",
       "        [24, 26],\n",
       "        [76, 17]],\n",
       "\n",
       "       [[79, 23],\n",
       "        [70, 91],\n",
       "        [ 7, 87]]], dtype=int32)"
      ]
     },
     "execution_count": 80,
     "metadata": {},
     "output_type": "execute_result"
    }
   ],
   "source": [
    "## slicing in 3D array \n",
    "## syntax - \n",
    "## [table start : table end : table skip, row_start: row_end : row_skip, col_start:column_end:col_skip]\n",
    "arr[1]\n",
    "arr[0:,1:4,2:4]"
   ]
  },
  {
   "cell_type": "code",
   "execution_count": 94,
   "id": "15dd0566",
   "metadata": {},
   "outputs": [
    {
     "data": {
      "text/plain": [
       "array([[[2, 5, 1, 9]]])"
      ]
     },
     "execution_count": 94,
     "metadata": {},
     "output_type": "execute_result"
    }
   ],
   "source": [
    "# print(arr9)\n",
    "# print(np.max(arr9))\n",
    "# print(np.min(arr9))\n",
    "# print(np.sum(arr9))\n",
    "# print(np.median(arr9))\n",
    "# print(np.mean(arr9))\n",
    "\n",
    "# arr9.sort()\n",
    "arr11 = np.array([2,5,1,9], ndmin = 3)\n",
    "# arr11.argsort() ## sort by index number[1:2,2:0,5:1,9:3] 1 is at index 2 then 2 come first and so on \n",
    "arr11 * 2\n",
    "arr11 + 2\n",
    "arr11\n",
    "\n"
   ]
  }
 ],
 "metadata": {
  "kernelspec": {
   "display_name": "Python 3",
   "language": "python",
   "name": "python3"
  },
  "language_info": {
   "codemirror_mode": {
    "name": "ipython",
    "version": 3
   },
   "file_extension": ".py",
   "mimetype": "text/x-python",
   "name": "python",
   "nbconvert_exporter": "python",
   "pygments_lexer": "ipython3",
   "version": "3.11.9"
  }
 },
 "nbformat": 4,
 "nbformat_minor": 5
}
